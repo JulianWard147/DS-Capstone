{
 "cells": [
  {
   "cell_type": "markdown",
   "metadata": {},
   "source": [
    "### Imports"
   ]
  },
  {
   "cell_type": "code",
   "execution_count": 1,
   "metadata": {},
   "outputs": [],
   "source": [
    "import pandas as pd\n",
    "import matplotlib.pyplot as plt\n",
    "import numpy as np\n",
    "\n",
    "from sklearn.model_selection import train_test_split, cross_val_score, GridSearchCV\n",
    "from sklearn.dummy import DummyClassifier\n",
    "from sklearn.pipeline import Pipeline\n",
    "from sklearn.feature_extraction.text import CountVectorizer, TfidfVectorizer\n",
    "from sklearn.naive_bayes import MultinomialNB\n",
    "from sklearn.metrics import ConfusionMatrixDisplay, confusion_matrix, roc_auc_score\n",
    "from nltk.tokenize import RegexpTokenizer\n",
    "\n",
    "from nltk.corpus import stopwords\n",
    "from nltk.stem import WordNetLemmatizer\n",
    "\n",
    "from sklearn.ensemble import RandomForestClassifier\n",
    "\n",
    "\n",
    "\n",
    "\n",
    "\n",
    "%matplotlib inline\n",
    "\n",
    "pd.set_option(\"display.precision\", 20)\n",
    "\n",
    "np.set_printoptions(suppress=True)"
   ]
  },
  {
   "cell_type": "markdown",
   "metadata": {},
   "source": [
    "### Loading Data"
   ]
  },
  {
   "cell_type": "code",
   "execution_count": 2,
   "metadata": {},
   "outputs": [],
   "source": [
    "control_df = pd.read_csv('tweets_2016')"
   ]
  },
  {
   "cell_type": "code",
   "execution_count": 3,
   "metadata": {},
   "outputs": [],
   "source": [
    "l = ['tweet_text', 'tweet_id']\n",
    "\n",
    "control_df =  control_df[l]"
   ]
  },
  {
   "cell_type": "code",
   "execution_count": 4,
   "metadata": {},
   "outputs": [],
   "source": [
    "control_df['target'] = 0"
   ]
  },
  {
   "cell_type": "code",
   "execution_count": 5,
   "metadata": {},
   "outputs": [],
   "source": [
    "control_df= control_df[control_df.tweet_text != 'None']"
   ]
  },
  {
   "cell_type": "code",
   "execution_count": 6,
   "metadata": {},
   "outputs": [
    {
     "data": {
      "text/html": [
       "<div>\n",
       "<style scoped>\n",
       "    .dataframe tbody tr th:only-of-type {\n",
       "        vertical-align: middle;\n",
       "    }\n",
       "\n",
       "    .dataframe tbody tr th {\n",
       "        vertical-align: top;\n",
       "    }\n",
       "\n",
       "    .dataframe thead th {\n",
       "        text-align: right;\n",
       "    }\n",
       "</style>\n",
       "<table border=\"1\" class=\"dataframe\">\n",
       "  <thead>\n",
       "    <tr style=\"text-align: right;\">\n",
       "      <th></th>\n",
       "      <th>tweet_text</th>\n",
       "      <th>tweet_id</th>\n",
       "      <th>target</th>\n",
       "    </tr>\n",
       "  </thead>\n",
       "  <tbody>\n",
       "    <tr>\n",
       "      <th>0</th>\n",
       "      <td>RT @ReaganBattalion: Obama hates @marcorubio b...</td>\n",
       "      <td>789285389651570688.0</td>\n",
       "      <td>0</td>\n",
       "    </tr>\n",
       "    <tr>\n",
       "      <th>2</th>\n",
       "      <td>RT @lopezdoriga: EN DIRECTO en #Periscope: La ...</td>\n",
       "      <td>789329855565275136.0</td>\n",
       "      <td>0</td>\n",
       "    </tr>\n",
       "    <tr>\n",
       "      <th>3</th>\n",
       "      <td>RT @wikileaks: There is no US election. There ...</td>\n",
       "      <td>789324603516657664.0</td>\n",
       "      <td>0</td>\n",
       "    </tr>\n",
       "    <tr>\n",
       "      <th>7</th>\n",
       "      <td>RT @AJemaineClement: The lamest part of Trump'...</td>\n",
       "      <td>789269561203752960.0</td>\n",
       "      <td>0</td>\n",
       "    </tr>\n",
       "    <tr>\n",
       "      <th>14</th>\n",
       "      <td>@realDonaldTrump #AlSmithDinner #TrumpTapes #H...</td>\n",
       "      <td>789351683503562752.0</td>\n",
       "      <td>0</td>\n",
       "    </tr>\n",
       "    <tr>\n",
       "      <th>...</th>\n",
       "      <td>...</td>\n",
       "      <td>...</td>\n",
       "      <td>...</td>\n",
       "    </tr>\n",
       "    <tr>\n",
       "      <th>73211</th>\n",
       "      <td>RT @LifeSite: The next ‘deplorables’? Clinton ...</td>\n",
       "      <td>789267711725412352.0</td>\n",
       "      <td>0</td>\n",
       "    </tr>\n",
       "    <tr>\n",
       "      <th>73212</th>\n",
       "      <td>Speaking is not his thing. He isn't intellectu...</td>\n",
       "      <td>789267976000118784.0</td>\n",
       "      <td>0</td>\n",
       "    </tr>\n",
       "    <tr>\n",
       "      <th>73220</th>\n",
       "      <td>#Bestseller #greatreads #goodbooks  #BookBoost...</td>\n",
       "      <td>789377697524748288.0</td>\n",
       "      <td>0</td>\n",
       "    </tr>\n",
       "    <tr>\n",
       "      <th>73226</th>\n",
       "      <td>RT @activist360: The #AlSmithDinner was no dif...</td>\n",
       "      <td>789331213731434496.0</td>\n",
       "      <td>0</td>\n",
       "    </tr>\n",
       "    <tr>\n",
       "      <th>73229</th>\n",
       "      <td>A look at the Trudeau Liberals a year after th...</td>\n",
       "      <td>789253199018364928.0</td>\n",
       "      <td>0</td>\n",
       "    </tr>\n",
       "  </tbody>\n",
       "</table>\n",
       "<p>32067 rows × 3 columns</p>\n",
       "</div>"
      ],
      "text/plain": [
       "                                              tweet_text  \\\n",
       "0      RT @ReaganBattalion: Obama hates @marcorubio b...   \n",
       "2      RT @lopezdoriga: EN DIRECTO en #Periscope: La ...   \n",
       "3      RT @wikileaks: There is no US election. There ...   \n",
       "7      RT @AJemaineClement: The lamest part of Trump'...   \n",
       "14     @realDonaldTrump #AlSmithDinner #TrumpTapes #H...   \n",
       "...                                                  ...   \n",
       "73211  RT @LifeSite: The next ‘deplorables’? Clinton ...   \n",
       "73212  Speaking is not his thing. He isn't intellectu...   \n",
       "73220  #Bestseller #greatreads #goodbooks  #BookBoost...   \n",
       "73226  RT @activist360: The #AlSmithDinner was no dif...   \n",
       "73229  A look at the Trudeau Liberals a year after th...   \n",
       "\n",
       "                   tweet_id  target  \n",
       "0      789285389651570688.0       0  \n",
       "2      789329855565275136.0       0  \n",
       "3      789324603516657664.0       0  \n",
       "7      789269561203752960.0       0  \n",
       "14     789351683503562752.0       0  \n",
       "...                     ...     ...  \n",
       "73211  789267711725412352.0       0  \n",
       "73212  789267976000118784.0       0  \n",
       "73220  789377697524748288.0       0  \n",
       "73226  789331213731434496.0       0  \n",
       "73229  789253199018364928.0       0  \n",
       "\n",
       "[32067 rows x 3 columns]"
      ]
     },
     "execution_count": 6,
     "metadata": {},
     "output_type": "execute_result"
    }
   ],
   "source": [
    "control_df"
   ]
  },
  {
   "cell_type": "code",
   "execution_count": 7,
   "metadata": {},
   "outputs": [],
   "source": [
    "targetdf =  pd.read_csv('hydrated_tweets')"
   ]
  },
  {
   "cell_type": "code",
   "execution_count": 8,
   "metadata": {},
   "outputs": [],
   "source": [
    "targetdf = targetdf[l]"
   ]
  },
  {
   "cell_type": "code",
   "execution_count": 9,
   "metadata": {},
   "outputs": [],
   "source": [
    "targetdf['target'] = 1"
   ]
  },
  {
   "cell_type": "code",
   "execution_count": 10,
   "metadata": {},
   "outputs": [],
   "source": [
    "targetdf= targetdf[targetdf.tweet_text != 'None']"
   ]
  },
  {
   "cell_type": "code",
   "execution_count": 11,
   "metadata": {},
   "outputs": [
    {
     "data": {
      "text/html": [
       "<div>\n",
       "<style scoped>\n",
       "    .dataframe tbody tr th:only-of-type {\n",
       "        vertical-align: middle;\n",
       "    }\n",
       "\n",
       "    .dataframe tbody tr th {\n",
       "        vertical-align: top;\n",
       "    }\n",
       "\n",
       "    .dataframe thead th {\n",
       "        text-align: right;\n",
       "    }\n",
       "</style>\n",
       "<table border=\"1\" class=\"dataframe\">\n",
       "  <thead>\n",
       "    <tr style=\"text-align: right;\">\n",
       "      <th></th>\n",
       "      <th>tweet_text</th>\n",
       "      <th>tweet_id</th>\n",
       "      <th>target</th>\n",
       "    </tr>\n",
       "  </thead>\n",
       "  <tbody>\n",
       "    <tr>\n",
       "      <th>0</th>\n",
       "      <td>I'm not saying I believe there was widespread ...</td>\n",
       "      <td>1329817517590786054</td>\n",
       "      <td>1</td>\n",
       "    </tr>\n",
       "    <tr>\n",
       "      <th>1</th>\n",
       "      <td>Yes of course! https://t.co/YqpjvH0NoS</td>\n",
       "      <td>1330873630515896321</td>\n",
       "      <td>1</td>\n",
       "    </tr>\n",
       "    <tr>\n",
       "      <th>2</th>\n",
       "      <td>@RepPaulMitchell @realDonaldTrump Are you real...</td>\n",
       "      <td>1333262884357419010</td>\n",
       "      <td>1</td>\n",
       "    </tr>\n",
       "    <tr>\n",
       "      <th>3</th>\n",
       "      <td>Unity! https://t.co/I625kseVMn</td>\n",
       "      <td>1331653544579981314</td>\n",
       "      <td>1</td>\n",
       "    </tr>\n",
       "    <tr>\n",
       "      <th>4</th>\n",
       "      <td>Listen to this https://t.co/uhKFLA3GVz</td>\n",
       "      <td>1329835459200114688</td>\n",
       "      <td>1</td>\n",
       "    </tr>\n",
       "    <tr>\n",
       "      <th>...</th>\n",
       "      <td>...</td>\n",
       "      <td>...</td>\n",
       "      <td>...</td>\n",
       "    </tr>\n",
       "    <tr>\n",
       "      <th>67506</th>\n",
       "      <td>@ACTBrigitte Count my family and friends. This...</td>\n",
       "      <td>1331497791944843266</td>\n",
       "      <td>1</td>\n",
       "    </tr>\n",
       "    <tr>\n",
       "      <th>67508</th>\n",
       "      <td>@JudiciaryGOP @GOPChairwoman @GOP @GOPLeader @...</td>\n",
       "      <td>1327465594090754048</td>\n",
       "      <td>1</td>\n",
       "    </tr>\n",
       "    <tr>\n",
       "      <th>67510</th>\n",
       "      <td>OMG https://t.co/QFx2mxyRmj</td>\n",
       "      <td>1331580447495696385</td>\n",
       "      <td>1</td>\n",
       "    </tr>\n",
       "    <tr>\n",
       "      <th>67513</th>\n",
       "      <td>#election2020 #election2020results #electionre...</td>\n",
       "      <td>1325128552426057734</td>\n",
       "      <td>1</td>\n",
       "    </tr>\n",
       "    <tr>\n",
       "      <th>67514</th>\n",
       "      <td>@Italia191 @pm45_ @pjazzopardi @ROBL4DJT @jble...</td>\n",
       "      <td>1330920501670252546</td>\n",
       "      <td>1</td>\n",
       "    </tr>\n",
       "  </tbody>\n",
       "</table>\n",
       "<p>41189 rows × 3 columns</p>\n",
       "</div>"
      ],
      "text/plain": [
       "                                              tweet_text             tweet_id  \\\n",
       "0      I'm not saying I believe there was widespread ...  1329817517590786054   \n",
       "1                 Yes of course! https://t.co/YqpjvH0NoS  1330873630515896321   \n",
       "2      @RepPaulMitchell @realDonaldTrump Are you real...  1333262884357419010   \n",
       "3                         Unity! https://t.co/I625kseVMn  1331653544579981314   \n",
       "4                 Listen to this https://t.co/uhKFLA3GVz  1329835459200114688   \n",
       "...                                                  ...                  ...   \n",
       "67506  @ACTBrigitte Count my family and friends. This...  1331497791944843266   \n",
       "67508  @JudiciaryGOP @GOPChairwoman @GOP @GOPLeader @...  1327465594090754048   \n",
       "67510                        OMG https://t.co/QFx2mxyRmj  1331580447495696385   \n",
       "67513  #election2020 #election2020results #electionre...  1325128552426057734   \n",
       "67514  @Italia191 @pm45_ @pjazzopardi @ROBL4DJT @jble...  1330920501670252546   \n",
       "\n",
       "       target  \n",
       "0           1  \n",
       "1           1  \n",
       "2           1  \n",
       "3           1  \n",
       "4           1  \n",
       "...       ...  \n",
       "67506       1  \n",
       "67508       1  \n",
       "67510       1  \n",
       "67513       1  \n",
       "67514       1  \n",
       "\n",
       "[41189 rows x 3 columns]"
      ]
     },
     "execution_count": 11,
     "metadata": {},
     "output_type": "execute_result"
    }
   ],
   "source": [
    "targetdf"
   ]
  },
  {
   "cell_type": "code",
   "execution_count": 12,
   "metadata": {},
   "outputs": [],
   "source": [
    "alldf = control_df.append(targetdf)"
   ]
  },
  {
   "cell_type": "code",
   "execution_count": 13,
   "metadata": {},
   "outputs": [],
   "source": [
    "alldf.dropna(inplace=True)"
   ]
  },
  {
   "cell_type": "code",
   "execution_count": 14,
   "metadata": {},
   "outputs": [],
   "source": [
    "alldf.set_index('tweet_id' , inplace=True)"
   ]
  },
  {
   "cell_type": "code",
   "execution_count": 15,
   "metadata": {},
   "outputs": [
    {
     "data": {
      "text/html": [
       "<div>\n",
       "<style scoped>\n",
       "    .dataframe tbody tr th:only-of-type {\n",
       "        vertical-align: middle;\n",
       "    }\n",
       "\n",
       "    .dataframe tbody tr th {\n",
       "        vertical-align: top;\n",
       "    }\n",
       "\n",
       "    .dataframe thead th {\n",
       "        text-align: right;\n",
       "    }\n",
       "</style>\n",
       "<table border=\"1\" class=\"dataframe\">\n",
       "  <thead>\n",
       "    <tr style=\"text-align: right;\">\n",
       "      <th></th>\n",
       "      <th>tweet_text</th>\n",
       "      <th>target</th>\n",
       "    </tr>\n",
       "    <tr>\n",
       "      <th>tweet_id</th>\n",
       "      <th></th>\n",
       "      <th></th>\n",
       "    </tr>\n",
       "  </thead>\n",
       "  <tbody>\n",
       "    <tr>\n",
       "      <th>789285389651570688.0</th>\n",
       "      <td>RT @ReaganBattalion: Obama hates @marcorubio b...</td>\n",
       "      <td>0</td>\n",
       "    </tr>\n",
       "    <tr>\n",
       "      <th>789329855565275136.0</th>\n",
       "      <td>RT @lopezdoriga: EN DIRECTO en #Periscope: La ...</td>\n",
       "      <td>0</td>\n",
       "    </tr>\n",
       "    <tr>\n",
       "      <th>789324603516657664.0</th>\n",
       "      <td>RT @wikileaks: There is no US election. There ...</td>\n",
       "      <td>0</td>\n",
       "    </tr>\n",
       "    <tr>\n",
       "      <th>789269561203752960.0</th>\n",
       "      <td>RT @AJemaineClement: The lamest part of Trump'...</td>\n",
       "      <td>0</td>\n",
       "    </tr>\n",
       "    <tr>\n",
       "      <th>789351683503562752.0</th>\n",
       "      <td>@realDonaldTrump #AlSmithDinner #TrumpTapes #H...</td>\n",
       "      <td>0</td>\n",
       "    </tr>\n",
       "    <tr>\n",
       "      <th>...</th>\n",
       "      <td>...</td>\n",
       "      <td>...</td>\n",
       "    </tr>\n",
       "    <tr>\n",
       "      <th>1331497791944843264.0</th>\n",
       "      <td>@ACTBrigitte Count my family and friends. This...</td>\n",
       "      <td>1</td>\n",
       "    </tr>\n",
       "    <tr>\n",
       "      <th>1327465594090754048.0</th>\n",
       "      <td>@JudiciaryGOP @GOPChairwoman @GOP @GOPLeader @...</td>\n",
       "      <td>1</td>\n",
       "    </tr>\n",
       "    <tr>\n",
       "      <th>1331580447495696384.0</th>\n",
       "      <td>OMG https://t.co/QFx2mxyRmj</td>\n",
       "      <td>1</td>\n",
       "    </tr>\n",
       "    <tr>\n",
       "      <th>1325128552426057728.0</th>\n",
       "      <td>#election2020 #election2020results #electionre...</td>\n",
       "      <td>1</td>\n",
       "    </tr>\n",
       "    <tr>\n",
       "      <th>1330920501670252544.0</th>\n",
       "      <td>@Italia191 @pm45_ @pjazzopardi @ROBL4DJT @jble...</td>\n",
       "      <td>1</td>\n",
       "    </tr>\n",
       "  </tbody>\n",
       "</table>\n",
       "<p>73256 rows × 2 columns</p>\n",
       "</div>"
      ],
      "text/plain": [
       "                                                              tweet_text  \\\n",
       "tweet_id                                                                   \n",
       "789285389651570688.0   RT @ReaganBattalion: Obama hates @marcorubio b...   \n",
       "789329855565275136.0   RT @lopezdoriga: EN DIRECTO en #Periscope: La ...   \n",
       "789324603516657664.0   RT @wikileaks: There is no US election. There ...   \n",
       "789269561203752960.0   RT @AJemaineClement: The lamest part of Trump'...   \n",
       "789351683503562752.0   @realDonaldTrump #AlSmithDinner #TrumpTapes #H...   \n",
       "...                                                                  ...   \n",
       "1331497791944843264.0  @ACTBrigitte Count my family and friends. This...   \n",
       "1327465594090754048.0  @JudiciaryGOP @GOPChairwoman @GOP @GOPLeader @...   \n",
       "1331580447495696384.0                        OMG https://t.co/QFx2mxyRmj   \n",
       "1325128552426057728.0  #election2020 #election2020results #electionre...   \n",
       "1330920501670252544.0  @Italia191 @pm45_ @pjazzopardi @ROBL4DJT @jble...   \n",
       "\n",
       "                       target  \n",
       "tweet_id                       \n",
       "789285389651570688.0        0  \n",
       "789329855565275136.0        0  \n",
       "789324603516657664.0        0  \n",
       "789269561203752960.0        0  \n",
       "789351683503562752.0        0  \n",
       "...                       ...  \n",
       "1331497791944843264.0       1  \n",
       "1327465594090754048.0       1  \n",
       "1331580447495696384.0       1  \n",
       "1325128552426057728.0       1  \n",
       "1330920501670252544.0       1  \n",
       "\n",
       "[73256 rows x 2 columns]"
      ]
     },
     "execution_count": 15,
     "metadata": {},
     "output_type": "execute_result"
    }
   ],
   "source": [
    "alldf"
   ]
  },
  {
   "cell_type": "markdown",
   "metadata": {},
   "source": [
    "### Train Test Split "
   ]
  },
  {
   "cell_type": "code",
   "execution_count": 16,
   "metadata": {},
   "outputs": [],
   "source": [
    "X= alldf.tweet_text\n",
    "y = alldf.target\n",
    "\n",
    "X_train, X_test, y_train, y_test = train_test_split(X, y, random_state=42)"
   ]
  },
  {
   "cell_type": "code",
   "execution_count": 17,
   "metadata": {},
   "outputs": [],
   "source": [
    "nltk_sw = stopwords.words('english')\n",
    "politcal_stop = ['trump']\n",
    "tweetstop = ['https', 'co', 'rt']\n",
    "for i in tweetstop:\n",
    "    nltk_sw.append(i)"
   ]
  },
  {
   "cell_type": "code",
   "execution_count": 18,
   "metadata": {},
   "outputs": [],
   "source": [
    "cv_dict = {}\n",
    "def reportcrossval(model, model_name, X, Y):\n",
    "    cv_mean = cross_val_score(model, X, Y).mean()\n",
    "    cv_dict[model_name] = cv_mean\n",
    "    print(f\"The cv mean of {model_name} is {cv_mean}\")"
   ]
  },
  {
   "cell_type": "code",
   "execution_count": 19,
   "metadata": {},
   "outputs": [],
   "source": [
    "pipe_dummy = Pipeline([('dummy', DummyClassifier(strategy='most_frequent'))], verbose=True)"
   ]
  },
  {
   "cell_type": "code",
   "execution_count": 20,
   "metadata": {},
   "outputs": [],
   "source": [
    "pipe_cv_mnnb = Pipeline(steps=[('cv', CountVectorizer()),\n",
    "                               ('mnnb', MultinomialNB())],\n",
    "                        verbose=True)"
   ]
  },
  {
   "cell_type": "code",
   "execution_count": 21,
   "metadata": {},
   "outputs": [
    {
     "name": "stdout",
     "output_type": "stream",
     "text": [
      "[Pipeline] ............. (step 1 of 1) Processing dummy, total=   0.0s\n",
      "[Pipeline] ............. (step 1 of 1) Processing dummy, total=   0.0s\n",
      "[Pipeline] ............. (step 1 of 1) Processing dummy, total=   0.0s\n",
      "[Pipeline] ............. (step 1 of 1) Processing dummy, total=   0.0s\n",
      "[Pipeline] ............. (step 1 of 1) Processing dummy, total=   0.0s\n",
      "The cv mean of Dummy is 0.5620654509624294\n"
     ]
    }
   ],
   "source": [
    "reportcrossval(pipe_dummy, 'Dummy', X_train, y_train)"
   ]
  },
  {
   "cell_type": "code",
   "execution_count": 22,
   "metadata": {
    "scrolled": true
   },
   "outputs": [
    {
     "name": "stdout",
     "output_type": "stream",
     "text": [
      "[Pipeline] ................ (step 1 of 2) Processing cv, total=   1.1s\n",
      "[Pipeline] .............. (step 2 of 2) Processing mnnb, total=   0.0s\n",
      "[Pipeline] ................ (step 1 of 2) Processing cv, total=   1.1s\n",
      "[Pipeline] .............. (step 2 of 2) Processing mnnb, total=   0.0s\n",
      "[Pipeline] ................ (step 1 of 2) Processing cv, total=   1.1s\n",
      "[Pipeline] .............. (step 2 of 2) Processing mnnb, total=   0.0s\n",
      "[Pipeline] ................ (step 1 of 2) Processing cv, total=   1.1s\n",
      "[Pipeline] .............. (step 2 of 2) Processing mnnb, total=   0.0s\n",
      "[Pipeline] ................ (step 1 of 2) Processing cv, total=   1.1s\n",
      "[Pipeline] .............. (step 2 of 2) Processing mnnb, total=   0.0s\n",
      "The cv mean of Default CV and MNNB is 0.9840377061709423\n"
     ]
    }
   ],
   "source": [
    "reportcrossval(pipe_cv_mnnb, 'Default CV and MNNB', X_train, y_train)"
   ]
  },
  {
   "cell_type": "code",
   "execution_count": 23,
   "metadata": {
    "scrolled": true
   },
   "outputs": [
    {
     "name": "stdout",
     "output_type": "stream",
     "text": [
      "[Pipeline] ................ (step 1 of 2) Processing cv, total=   1.3s\n",
      "[Pipeline] .............. (step 2 of 2) Processing mnnb, total=   0.0s\n"
     ]
    },
    {
     "data": {
      "text/plain": [
       "Pipeline(steps=[('cv', CountVectorizer()), ('mnnb', MultinomialNB())],\n",
       "         verbose=True)"
      ]
     },
     "execution_count": 23,
     "metadata": {},
     "output_type": "execute_result"
    }
   ],
   "source": [
    "pipe_cv_mnnb.fit(X_train, y_train)"
   ]
  },
  {
   "cell_type": "markdown",
   "metadata": {},
   "source": [
    "#### Iteration one:\n",
    "\n",
    "We're once again trying the gridsearch for the new stopwords."
   ]
  },
  {
   "cell_type": "code",
   "execution_count": 24,
   "metadata": {},
   "outputs": [],
   "source": [
    "class LemmaTokenizer(object):\n",
    "    def __init__(self):\n",
    "        self.wnl = WordNetLemmatizer()\n",
    "    def __call__(self, articles):\n",
    "        return [self.wnl.lemmatize(t) for t in word_tokenize(articles)]\n",
    "\n",
    "basiclemmer = LemmaTokenizer()"
   ]
  },
  {
   "cell_type": "code",
   "execution_count": 25,
   "metadata": {},
   "outputs": [],
   "source": [
    "param_grid1 = {'cv__ngram_range': [(1, 1), (1, 2), (1, 3)],\n",
    "               'cv__stop_words': [None, nltk_sw, politcal_stop],\n",
    "               'cv__tokenizer' : [None, basiclemmer]}"
   ]
  },
  {
   "cell_type": "code",
   "execution_count": 26,
   "metadata": {},
   "outputs": [],
   "source": [
    "grid1 = GridSearchCV(pipe_cv_mnnb, param_grid1, verbose=1, n_jobs = 4)"
   ]
  },
  {
   "cell_type": "code",
   "execution_count": 27,
   "metadata": {},
   "outputs": [
    {
     "name": "stdout",
     "output_type": "stream",
     "text": [
      "Fitting 5 folds for each of 18 candidates, totalling 90 fits\n"
     ]
    },
    {
     "name": "stderr",
     "output_type": "stream",
     "text": [
      "[Parallel(n_jobs=4)]: Using backend LokyBackend with 4 concurrent workers.\n",
      "[Parallel(n_jobs=4)]: Done  42 tasks      | elapsed:   13.3s\n",
      "[Parallel(n_jobs=4)]: Done  90 out of  90 | elapsed:   36.5s finished\n"
     ]
    },
    {
     "name": "stdout",
     "output_type": "stream",
     "text": [
      "[Pipeline] ................ (step 1 of 2) Processing cv, total=   4.5s\n",
      "[Pipeline] .............. (step 2 of 2) Processing mnnb, total=   0.0s\n"
     ]
    },
    {
     "data": {
      "text/plain": [
       "GridSearchCV(estimator=Pipeline(steps=[('cv', CountVectorizer()),\n",
       "                                       ('mnnb', MultinomialNB())],\n",
       "                                verbose=True),\n",
       "             n_jobs=4,\n",
       "             param_grid={'cv__ngram_range': [(1, 1), (1, 2), (1, 3)],\n",
       "                         'cv__stop_words': [None,\n",
       "                                            ['i', 'me', 'my', 'myself', 'we',\n",
       "                                             'our', 'ours', 'ourselves', 'you',\n",
       "                                             \"you're\", \"you've\", \"you'll\",\n",
       "                                             \"you'd\", 'your', 'yours',\n",
       "                                             'yourself', 'yourselves', 'he',\n",
       "                                             'him', 'his', 'himself', 'she',\n",
       "                                             \"she's\", 'her', 'hers', 'herself',\n",
       "                                             'it', \"it's\", 'its', 'itself', ...],\n",
       "                                            ['trump']],\n",
       "                         'cv__tokenizer': [None,\n",
       "                                           <__main__.LemmaTokenizer object at 0x000001858F10DEE0>]},\n",
       "             verbose=1)"
      ]
     },
     "execution_count": 27,
     "metadata": {},
     "output_type": "execute_result"
    }
   ],
   "source": [
    "grid1.fit(X_train, y_train)"
   ]
  },
  {
   "cell_type": "code",
   "execution_count": 28,
   "metadata": {
    "scrolled": false
   },
   "outputs": [
    {
     "data": {
      "text/plain": [
       "Pipeline(steps=[('cv', CountVectorizer(ngram_range=(1, 3))),\n",
       "                ('mnnb', MultinomialNB())],\n",
       "         verbose=True)"
      ]
     },
     "metadata": {},
     "output_type": "display_data"
    },
    {
     "data": {
      "text/plain": [
       "0.9876233267387254"
      ]
     },
     "metadata": {},
     "output_type": "display_data"
    },
    {
     "data": {
      "text/plain": [
       "{'cv__ngram_range': (1, 3), 'cv__stop_words': None, 'cv__tokenizer': None}"
      ]
     },
     "metadata": {},
     "output_type": "display_data"
    }
   ],
   "source": [
    "display(grid1.best_estimator_)\n",
    "display(grid1.best_score_)\n",
    "display(grid1.best_params_)"
   ]
  },
  {
   "cell_type": "code",
   "execution_count": 29,
   "metadata": {},
   "outputs": [],
   "source": [
    "bestfromgrid1 = Pipeline(steps=[('cv', CountVectorizer(ngram_range =(1, 3))),\n",
    "                               ('mnnb', MultinomialNB())],\n",
    "                        verbose=True)"
   ]
  },
  {
   "cell_type": "code",
   "execution_count": 30,
   "metadata": {},
   "outputs": [
    {
     "name": "stdout",
     "output_type": "stream",
     "text": [
      "[Pipeline] ................ (step 1 of 2) Processing cv, total=   4.5s\n",
      "[Pipeline] .............. (step 2 of 2) Processing mnnb, total=   0.0s\n"
     ]
    },
    {
     "data": {
      "text/plain": [
       "Pipeline(steps=[('cv', CountVectorizer(ngram_range=(1, 3))),\n",
       "                ('mnnb', MultinomialNB())],\n",
       "         verbose=True)"
      ]
     },
     "execution_count": 30,
     "metadata": {},
     "output_type": "execute_result"
    }
   ],
   "source": [
    "bestfromgrid1.fit(X_train, y_train)"
   ]
  },
  {
   "cell_type": "code",
   "execution_count": 31,
   "metadata": {},
   "outputs": [
    {
     "name": "stdout",
     "output_type": "stream",
     "text": [
      "[Pipeline] ................ (step 1 of 2) Processing cv, total=   3.6s\n",
      "[Pipeline] .............. (step 2 of 2) Processing mnnb, total=   0.0s\n",
      "[Pipeline] ................ (step 1 of 2) Processing cv, total=   3.6s\n",
      "[Pipeline] .............. (step 2 of 2) Processing mnnb, total=   0.0s\n",
      "[Pipeline] ................ (step 1 of 2) Processing cv, total=   3.6s\n",
      "[Pipeline] .............. (step 2 of 2) Processing mnnb, total=   0.0s\n",
      "[Pipeline] ................ (step 1 of 2) Processing cv, total=   3.6s\n",
      "[Pipeline] .............. (step 2 of 2) Processing mnnb, total=   0.0s\n",
      "[Pipeline] ................ (step 1 of 2) Processing cv, total=   3.7s\n",
      "[Pipeline] .............. (step 2 of 2) Processing mnnb, total=   0.0s\n",
      "The cv mean of Best CountVectorizer is 0.9876233267387254\n"
     ]
    }
   ],
   "source": [
    " reportcrossval(bestfromgrid1, 'Best CountVectorizer', X_train, y_train)"
   ]
  },
  {
   "cell_type": "markdown",
   "metadata": {},
   "source": [
    "The best model here is unchanged, even given the tweak to the stop words."
   ]
  },
  {
   "cell_type": "markdown",
   "metadata": {},
   "source": [
    "#### Random Forest\n",
    "\n",
    "We know that the new stopwords had an effect on our random forest classifier from before. Let's check the other parameters.  "
   ]
  },
  {
   "cell_type": "code",
   "execution_count": 32,
   "metadata": {},
   "outputs": [],
   "source": [
    "pipe_cv_rf = Pipeline(steps=[('cv', CountVectorizer()), \n",
    "                            ('rf', RandomForestClassifier(random_state=42))],\n",
    "                            verbose=True)"
   ]
  },
  {
   "cell_type": "code",
   "execution_count": 86,
   "metadata": {},
   "outputs": [],
   "source": [
    "param_grid2 = {'cv__ngram_range': [(1, 1), (1, 2)],\n",
    "               'cv__tokenizer' : [None, basiclemmer],\n",
    "               'cv__stop_words': [None, nltk_sw],\n",
    "               'rf__n_estimators': [100,200,500]\n",
    "               }"
   ]
  },
  {
   "cell_type": "code",
   "execution_count": 87,
   "metadata": {},
   "outputs": [],
   "source": [
    "grid2 = GridSearchCV(pipe_cv_rf, param_grid2, verbose=1, n_jobs = 5)"
   ]
  },
  {
   "cell_type": "code",
   "execution_count": 88,
   "metadata": {},
   "outputs": [
    {
     "name": "stdout",
     "output_type": "stream",
     "text": [
      "Fitting 5 folds for each of 24 candidates, totalling 120 fits\n"
     ]
    },
    {
     "name": "stderr",
     "output_type": "stream",
     "text": [
      "[Parallel(n_jobs=5)]: Using backend LokyBackend with 5 concurrent workers.\n",
      "[Parallel(n_jobs=5)]: Done  40 tasks      | elapsed:  3.3min\n",
      "[Parallel(n_jobs=5)]: Done 120 out of 120 | elapsed: 13.3min finished\n"
     ]
    },
    {
     "name": "stdout",
     "output_type": "stream",
     "text": [
      "[Pipeline] ................ (step 1 of 2) Processing cv, total=   1.4s\n",
      "[Pipeline] ................ (step 2 of 2) Processing rf, total= 1.5min\n"
     ]
    },
    {
     "data": {
      "text/plain": [
       "GridSearchCV(estimator=Pipeline(steps=[('cv', CountVectorizer()),\n",
       "                                       ('rf',\n",
       "                                        RandomForestClassifier(random_state=42))],\n",
       "                                verbose=True),\n",
       "             n_jobs=5,\n",
       "             param_grid={'cv__ngram_range': [(1, 1), (1, 2)],\n",
       "                         'cv__stop_words': [None,\n",
       "                                            ['i', 'me', 'my', 'myself', 'we',\n",
       "                                             'our', 'ours', 'ourselves', 'you',\n",
       "                                             \"you're\", \"you've\", \"you'll\",\n",
       "                                             \"you'd\", 'your', 'yours',\n",
       "                                             'yourself', 'yourselves', 'he',\n",
       "                                             'him', 'his', 'himself', 'she',\n",
       "                                             \"she's\", 'her', 'hers', 'herself',\n",
       "                                             'it', \"it's\", 'its', 'itself', ...]],\n",
       "                         'cv__tokenizer': [None,\n",
       "                                           <__main__.LemmaTokenizer object at 0x000001858F10DEE0>],\n",
       "                         'rf__n_estimators': [100, 200, 500]},\n",
       "             verbose=1)"
      ]
     },
     "execution_count": 88,
     "metadata": {},
     "output_type": "execute_result"
    }
   ],
   "source": [
    "grid2.fit(X_train, y_train)"
   ]
  },
  {
   "cell_type": "code",
   "execution_count": 89,
   "metadata": {},
   "outputs": [
    {
     "data": {
      "text/plain": [
       "Pipeline(steps=[('cv',\n",
       "                 CountVectorizer(stop_words=['i', 'me', 'my', 'myself', 'we',\n",
       "                                             'our', 'ours', 'ourselves', 'you',\n",
       "                                             \"you're\", \"you've\", \"you'll\",\n",
       "                                             \"you'd\", 'your', 'yours',\n",
       "                                             'yourself', 'yourselves', 'he',\n",
       "                                             'him', 'his', 'himself', 'she',\n",
       "                                             \"she's\", 'her', 'hers', 'herself',\n",
       "                                             'it', \"it's\", 'its', 'itself', ...])),\n",
       "                ('rf',\n",
       "                 RandomForestClassifier(n_estimators=500, random_state=42))],\n",
       "         verbose=True)"
      ]
     },
     "metadata": {},
     "output_type": "display_data"
    },
    {
     "data": {
      "text/plain": [
       "0.9935932689482015"
      ]
     },
     "metadata": {},
     "output_type": "display_data"
    },
    {
     "data": {
      "text/plain": [
       "{'cv__ngram_range': (1, 1),\n",
       " 'cv__stop_words': ['i',\n",
       "  'me',\n",
       "  'my',\n",
       "  'myself',\n",
       "  'we',\n",
       "  'our',\n",
       "  'ours',\n",
       "  'ourselves',\n",
       "  'you',\n",
       "  \"you're\",\n",
       "  \"you've\",\n",
       "  \"you'll\",\n",
       "  \"you'd\",\n",
       "  'your',\n",
       "  'yours',\n",
       "  'yourself',\n",
       "  'yourselves',\n",
       "  'he',\n",
       "  'him',\n",
       "  'his',\n",
       "  'himself',\n",
       "  'she',\n",
       "  \"she's\",\n",
       "  'her',\n",
       "  'hers',\n",
       "  'herself',\n",
       "  'it',\n",
       "  \"it's\",\n",
       "  'its',\n",
       "  'itself',\n",
       "  'they',\n",
       "  'them',\n",
       "  'their',\n",
       "  'theirs',\n",
       "  'themselves',\n",
       "  'what',\n",
       "  'which',\n",
       "  'who',\n",
       "  'whom',\n",
       "  'this',\n",
       "  'that',\n",
       "  \"that'll\",\n",
       "  'these',\n",
       "  'those',\n",
       "  'am',\n",
       "  'is',\n",
       "  'are',\n",
       "  'was',\n",
       "  'were',\n",
       "  'be',\n",
       "  'been',\n",
       "  'being',\n",
       "  'have',\n",
       "  'has',\n",
       "  'had',\n",
       "  'having',\n",
       "  'do',\n",
       "  'does',\n",
       "  'did',\n",
       "  'doing',\n",
       "  'a',\n",
       "  'an',\n",
       "  'the',\n",
       "  'and',\n",
       "  'but',\n",
       "  'if',\n",
       "  'or',\n",
       "  'because',\n",
       "  'as',\n",
       "  'until',\n",
       "  'while',\n",
       "  'of',\n",
       "  'at',\n",
       "  'by',\n",
       "  'for',\n",
       "  'with',\n",
       "  'about',\n",
       "  'against',\n",
       "  'between',\n",
       "  'into',\n",
       "  'through',\n",
       "  'during',\n",
       "  'before',\n",
       "  'after',\n",
       "  'above',\n",
       "  'below',\n",
       "  'to',\n",
       "  'from',\n",
       "  'up',\n",
       "  'down',\n",
       "  'in',\n",
       "  'out',\n",
       "  'on',\n",
       "  'off',\n",
       "  'over',\n",
       "  'under',\n",
       "  'again',\n",
       "  'further',\n",
       "  'then',\n",
       "  'once',\n",
       "  'here',\n",
       "  'there',\n",
       "  'when',\n",
       "  'where',\n",
       "  'why',\n",
       "  'how',\n",
       "  'all',\n",
       "  'any',\n",
       "  'both',\n",
       "  'each',\n",
       "  'few',\n",
       "  'more',\n",
       "  'most',\n",
       "  'other',\n",
       "  'some',\n",
       "  'such',\n",
       "  'no',\n",
       "  'nor',\n",
       "  'not',\n",
       "  'only',\n",
       "  'own',\n",
       "  'same',\n",
       "  'so',\n",
       "  'than',\n",
       "  'too',\n",
       "  'very',\n",
       "  's',\n",
       "  't',\n",
       "  'can',\n",
       "  'will',\n",
       "  'just',\n",
       "  'don',\n",
       "  \"don't\",\n",
       "  'should',\n",
       "  \"should've\",\n",
       "  'now',\n",
       "  'd',\n",
       "  'll',\n",
       "  'm',\n",
       "  'o',\n",
       "  're',\n",
       "  've',\n",
       "  'y',\n",
       "  'ain',\n",
       "  'aren',\n",
       "  \"aren't\",\n",
       "  'couldn',\n",
       "  \"couldn't\",\n",
       "  'didn',\n",
       "  \"didn't\",\n",
       "  'doesn',\n",
       "  \"doesn't\",\n",
       "  'hadn',\n",
       "  \"hadn't\",\n",
       "  'hasn',\n",
       "  \"hasn't\",\n",
       "  'haven',\n",
       "  \"haven't\",\n",
       "  'isn',\n",
       "  \"isn't\",\n",
       "  'ma',\n",
       "  'mightn',\n",
       "  \"mightn't\",\n",
       "  'mustn',\n",
       "  \"mustn't\",\n",
       "  'needn',\n",
       "  \"needn't\",\n",
       "  'shan',\n",
       "  \"shan't\",\n",
       "  'shouldn',\n",
       "  \"shouldn't\",\n",
       "  'wasn',\n",
       "  \"wasn't\",\n",
       "  'weren',\n",
       "  \"weren't\",\n",
       "  'won',\n",
       "  \"won't\",\n",
       "  'wouldn',\n",
       "  \"wouldn't\",\n",
       "  'https',\n",
       "  'co',\n",
       "  'rt'],\n",
       " 'cv__tokenizer': None,\n",
       " 'rf__n_estimators': 500}"
      ]
     },
     "metadata": {},
     "output_type": "display_data"
    }
   ],
   "source": [
    "display(grid2.best_estimator_)\n",
    "display(grid2.best_score_)\n",
    "display(grid2.best_params_)"
   ]
  },
  {
   "cell_type": "raw",
   "metadata": {},
   "source": [
    "Turns out the best model from the grid is very close to the same model the end of the last notebook."
   ]
  },
  {
   "cell_type": "code",
   "execution_count": 37,
   "metadata": {},
   "outputs": [
    {
     "name": "stdout",
     "output_type": "stream",
     "text": [
      "[Pipeline] ................ (step 1 of 2) Processing cv, total=   1.3s\n",
      "[Pipeline] ................ (step 2 of 2) Processing rf, total= 1.4min\n"
     ]
    },
    {
     "data": {
      "text/plain": [
       "Pipeline(steps=[('cv',\n",
       "                 CountVectorizer(stop_words=['i', 'me', 'my', 'myself', 'we',\n",
       "                                             'our', 'ours', 'ourselves', 'you',\n",
       "                                             \"you're\", \"you've\", \"you'll\",\n",
       "                                             \"you'd\", 'your', 'yours',\n",
       "                                             'yourself', 'yourselves', 'he',\n",
       "                                             'him', 'his', 'himself', 'she',\n",
       "                                             \"she's\", 'her', 'hers', 'herself',\n",
       "                                             'it', \"it's\", 'its', 'itself', ...])),\n",
       "                ('rf',\n",
       "                 RandomForestClassifier(n_estimators=500, random_state=42))],\n",
       "         verbose=True)"
      ]
     },
     "execution_count": 37,
     "metadata": {},
     "output_type": "execute_result"
    }
   ],
   "source": [
    "bestofgrid2 = Pipeline(steps=[('cv', CountVectorizer(stop_words = nltk_sw)), \n",
    "                            ('rf', RandomForestClassifier(n_estimators = 500, random_state=42))],\n",
    "                            verbose=True)\n",
    "bestofgrid2.fit(X_train, y_train)"
   ]
  },
  {
   "cell_type": "code",
   "execution_count": 38,
   "metadata": {},
   "outputs": [
    {
     "name": "stdout",
     "output_type": "stream",
     "text": [
      "[Pipeline] ................ (step 1 of 2) Processing cv, total=   1.0s\n",
      "[Pipeline] ................ (step 2 of 2) Processing rf, total= 1.1min\n",
      "[Pipeline] ................ (step 1 of 2) Processing cv, total=   1.0s\n",
      "[Pipeline] ................ (step 2 of 2) Processing rf, total= 1.0min\n",
      "[Pipeline] ................ (step 1 of 2) Processing cv, total=   1.0s\n",
      "[Pipeline] ................ (step 2 of 2) Processing rf, total= 1.1min\n",
      "[Pipeline] ................ (step 1 of 2) Processing cv, total=   1.0s\n",
      "[Pipeline] ................ (step 2 of 2) Processing rf, total= 1.1min\n",
      "[Pipeline] ................ (step 1 of 2) Processing cv, total=   1.0s\n",
      "[Pipeline] ................ (step 2 of 2) Processing rf, total= 1.0min\n",
      "The cv mean of Best RandomForestClassifier is 0.9935932689482015\n"
     ]
    }
   ],
   "source": [
    " reportcrossval(bestofgrid2, 'Best RandomForestClassifier', X_train, y_train)"
   ]
  },
  {
   "cell_type": "markdown",
   "metadata": {},
   "source": [
    "#### TF-IDF\n",
    "\n",
    "TF-IDF is an alternate way to vectorize text data. Rather than simply counting the number of times a word appears in a document, it compares how often a word appears in a document in relation to how often that word appears in the whole dataset. That is, a word that appears many times in a document but also many times in the corpus as a whole will be given less importance than a word that appears many times in that document but rarely appears in the overall corpus. Below, we paired this vectorizer with the MNNB model we've used before."
   ]
  },
  {
   "cell_type": "code",
   "execution_count": 40,
   "metadata": {},
   "outputs": [],
   "source": [
    "pipe_tfidf_mnnb = Pipeline(steps=[('tfidf', TfidfVectorizer()), \n",
    "                                  ('mnnb', MultinomialNB())],\n",
    "                                  verbose=True)"
   ]
  },
  {
   "cell_type": "code",
   "execution_count": 41,
   "metadata": {},
   "outputs": [],
   "source": [
    "param_grid3 = {'tfidf__ngram_range': [(1, 1), (1, 2), (1, 3)],\n",
    "                'tfidf__stop_words': [None, nltk_sw, politcal_stop]}"
   ]
  },
  {
   "cell_type": "code",
   "execution_count": 42,
   "metadata": {},
   "outputs": [],
   "source": [
    "grid3 = GridSearchCV(pipe_tfidf_mnnb, param_grid3, verbose=1, n_jobs = 4)"
   ]
  },
  {
   "cell_type": "code",
   "execution_count": 46,
   "metadata": {},
   "outputs": [
    {
     "name": "stdout",
     "output_type": "stream",
     "text": [
      "Fitting 5 folds for each of 9 candidates, totalling 45 fits\n"
     ]
    },
    {
     "name": "stderr",
     "output_type": "stream",
     "text": [
      "[Parallel(n_jobs=4)]: Using backend LokyBackend with 4 concurrent workers.\n",
      "[Parallel(n_jobs=4)]: Done  45 out of  45 | elapsed:   40.9s finished\n"
     ]
    },
    {
     "name": "stdout",
     "output_type": "stream",
     "text": [
      "[Pipeline] ............. (step 1 of 2) Processing tfidf, total=   3.0s\n",
      "[Pipeline] .............. (step 2 of 2) Processing mnnb, total=   0.0s\n"
     ]
    },
    {
     "data": {
      "text/plain": [
       "GridSearchCV(estimator=Pipeline(steps=[('tfidf', TfidfVectorizer()),\n",
       "                                       ('mnnb', MultinomialNB())],\n",
       "                                verbose=True),\n",
       "             n_jobs=4,\n",
       "             param_grid={'tfidf__ngram_range': [(1, 1), (1, 2), (1, 3)],\n",
       "                         'tfidf__stop_words': [None,\n",
       "                                               ['i', 'me', 'my', 'myself', 'we',\n",
       "                                                'our', 'ours', 'ourselves',\n",
       "                                                'you', \"you're\", \"you've\",\n",
       "                                                \"you'll\", \"you'd\", 'your',\n",
       "                                                'yours', 'yourself',\n",
       "                                                'yourselves', 'he', 'him',\n",
       "                                                'his', 'himself', 'she',\n",
       "                                                \"she's\", 'her', 'hers',\n",
       "                                                'herself', 'it', \"it's\", 'its',\n",
       "                                                'itself', ...],\n",
       "                                               ['trump']]},\n",
       "             verbose=1)"
      ]
     },
     "execution_count": 46,
     "metadata": {},
     "output_type": "execute_result"
    }
   ],
   "source": [
    "grid3.fit(X_train, y_train)"
   ]
  },
  {
   "cell_type": "code",
   "execution_count": 47,
   "metadata": {},
   "outputs": [
    {
     "data": {
      "text/plain": [
       "Pipeline(steps=[('tfidf', TfidfVectorizer(ngram_range=(1, 2))),\n",
       "                ('mnnb', MultinomialNB())],\n",
       "         verbose=True)"
      ]
     },
     "metadata": {},
     "output_type": "display_data"
    },
    {
     "data": {
      "text/plain": [
       "0.9805976923741759"
      ]
     },
     "metadata": {},
     "output_type": "display_data"
    },
    {
     "data": {
      "text/plain": [
       "{'tfidf__ngram_range': (1, 2), 'tfidf__stop_words': None}"
      ]
     },
     "metadata": {},
     "output_type": "display_data"
    }
   ],
   "source": [
    "display(grid3.best_estimator_)\n",
    "display(grid3.best_score_)\n",
    "display(grid3.best_params_)"
   ]
  },
  {
   "cell_type": "code",
   "execution_count": 48,
   "metadata": {},
   "outputs": [
    {
     "name": "stdout",
     "output_type": "stream",
     "text": [
      "[Pipeline] ............. (step 1 of 2) Processing tfidf, total=   3.0s\n",
      "[Pipeline] .............. (step 2 of 2) Processing mnnb, total=   0.0s\n"
     ]
    },
    {
     "data": {
      "text/plain": [
       "Pipeline(steps=[('tfidf', TfidfVectorizer(ngram_range=(1, 2))),\n",
       "                ('mnnb', MultinomialNB())],\n",
       "         verbose=True)"
      ]
     },
     "execution_count": 48,
     "metadata": {},
     "output_type": "execute_result"
    }
   ],
   "source": [
    "bestofgrid3 = Pipeline([('tfidf', TfidfVectorizer(ngram_range =(1,2),stop_words = None)), \n",
    "                    ('mnnb', MultinomialNB())],\n",
    "                   verbose=True)\n",
    "bestofgrid3.fit(X_train, y_train)"
   ]
  },
  {
   "cell_type": "code",
   "execution_count": 49,
   "metadata": {},
   "outputs": [
    {
     "name": "stdout",
     "output_type": "stream",
     "text": [
      "[Pipeline] ............. (step 1 of 2) Processing tfidf, total=   2.4s\n",
      "[Pipeline] .............. (step 2 of 2) Processing mnnb, total=   0.0s\n",
      "[Pipeline] ............. (step 1 of 2) Processing tfidf, total=   2.4s\n",
      "[Pipeline] .............. (step 2 of 2) Processing mnnb, total=   0.0s\n",
      "[Pipeline] ............. (step 1 of 2) Processing tfidf, total=   2.4s\n",
      "[Pipeline] .............. (step 2 of 2) Processing mnnb, total=   0.0s\n",
      "[Pipeline] ............. (step 1 of 2) Processing tfidf, total=   2.4s\n",
      "[Pipeline] .............. (step 2 of 2) Processing mnnb, total=   0.0s\n",
      "[Pipeline] ............. (step 1 of 2) Processing tfidf, total=   2.4s\n",
      "[Pipeline] .............. (step 2 of 2) Processing mnnb, total=   0.0s\n",
      "The cv mean of Best TFIDF is 0.9805976923741759\n"
     ]
    }
   ],
   "source": [
    "reportcrossval(bestofgrid3, 'Best TFIDF', X_train, y_train)"
   ]
  },
  {
   "cell_type": "code",
   "execution_count": 50,
   "metadata": {
    "scrolled": true
   },
   "outputs": [
    {
     "data": {
      "text/plain": [
       "{'Dummy': 0.5620654509624294,\n",
       " 'Default CV and MNNB': 0.9840377061709423,\n",
       " 'Best CountVectorizer': 0.9876233267387254,\n",
       " 'Best RandomForestClassifier': 0.9935932689482015,\n",
       " 'Best TFIDF': 0.9805976923741759}"
      ]
     },
     "execution_count": 50,
     "metadata": {},
     "output_type": "execute_result"
    }
   ],
   "source": [
    "cv_dict"
   ]
  },
  {
   "cell_type": "markdown",
   "metadata": {},
   "source": [
    "It seems like this change really only affected the random forest classifier. It does work better now and we will proceed as before!"
   ]
  },
  {
   "cell_type": "markdown",
   "metadata": {},
   "source": [
    "#### Analysing the errors\n"
   ]
  },
  {
   "cell_type": "code",
   "execution_count": 71,
   "metadata": {},
   "outputs": [],
   "source": [
    "y_pred = bestofgrid2.predict(X_test)"
   ]
  },
  {
   "cell_type": "code",
   "execution_count": 72,
   "metadata": {},
   "outputs": [],
   "source": [
    "cm = confusion_matrix(y_test, y_pred)"
   ]
  },
  {
   "cell_type": "code",
   "execution_count": 73,
   "metadata": {},
   "outputs": [],
   "source": [
    "cmd = ConfusionMatrixDisplay(cm, display_labels =['Not Misinformation', 'Misinformation'] )"
   ]
  },
  {
   "cell_type": "code",
   "execution_count": 74,
   "metadata": {},
   "outputs": [
    {
     "data": {
      "image/png": "[encoded data removed]",
      "text/plain": [
       "<Figure size 432x288 with 2 Axes>"
      ]
     },
     "metadata": {
      "needs_background": "light"
     },
     "output_type": "display_data"
    }
   ],
   "source": [
    "cmd.plot();"
   ]
  },
  {
   "cell_type": "code",
   "execution_count": 75,
   "metadata": {},
   "outputs": [
    {
     "data": {
      "text/plain": [
       "0.99443451947322"
      ]
     },
     "execution_count": 75,
     "metadata": {},
     "output_type": "execute_result"
    }
   ],
   "source": [
    "roc_auc_score(y_test, y_pred)"
   ]
  },
  {
   "cell_type": "code",
   "execution_count": 76,
   "metadata": {},
   "outputs": [],
   "source": [
    "results_df = pd.DataFrame(y_test)\n",
    "results_df['tweet_text'] = X_test\n",
    "y_pred_proba = bestofgrid2.predict_proba(X_test)\n",
    "y_pred_proba = pd.DataFrame(data = y_pred_proba, columns = ['pred0','pred1'])\n",
    "results_df.insert(loc = 2, column = 'pred0' , value = y_pred_proba['pred0'].values)\n",
    "results_df.insert(loc = 3, column = 'pred1' , value = y_pred_proba['pred1'].values)\n",
    "results_df.insert(loc = 4, column = 'pred' , value = y_pred)"
   ]
  },
  {
   "cell_type": "code",
   "execution_count": 77,
   "metadata": {},
   "outputs": [
    {
     "data": {
      "text/html": [
       "<div>\n",
       "<style scoped>\n",
       "    .dataframe tbody tr th:only-of-type {\n",
       "        vertical-align: middle;\n",
       "    }\n",
       "\n",
       "    .dataframe tbody tr th {\n",
       "        vertical-align: top;\n",
       "    }\n",
       "\n",
       "    .dataframe thead th {\n",
       "        text-align: right;\n",
       "    }\n",
       "</style>\n",
       "<table border=\"1\" class=\"dataframe\">\n",
       "  <thead>\n",
       "    <tr style=\"text-align: right;\">\n",
       "      <th></th>\n",
       "      <th>target</th>\n",
       "      <th>tweet_text</th>\n",
       "      <th>pred0</th>\n",
       "      <th>pred1</th>\n",
       "      <th>pred</th>\n",
       "    </tr>\n",
       "    <tr>\n",
       "      <th>tweet_id</th>\n",
       "      <th></th>\n",
       "      <th></th>\n",
       "      <th></th>\n",
       "      <th></th>\n",
       "      <th></th>\n",
       "    </tr>\n",
       "  </thead>\n",
       "  <tbody>\n",
       "    <tr>\n",
       "      <th>789335093949050880.0</th>\n",
       "      <td>0</td>\n",
       "      <td>US-Wahl kompakt: Trump wird bei Benefiz-Dinner...</td>\n",
       "      <td>0.99799999999999999822</td>\n",
       "      <td>0.00200000000000000004</td>\n",
       "      <td>0</td>\n",
       "    </tr>\n",
       "    <tr>\n",
       "      <th>789331811981664256.0</th>\n",
       "      <td>0</td>\n",
       "      <td>RT @ObamaMalik: Trump family loves all people ...</td>\n",
       "      <td>1.00000000000000000000</td>\n",
       "      <td>0.00000000000000000000</td>\n",
       "      <td>0</td>\n",
       "    </tr>\n",
       "    <tr>\n",
       "      <th>1329829814249922560.0</th>\n",
       "      <td>1</td>\n",
       "      <td>@Timodc @BillKristol @Nate_Cohn @RVAT2020 I’m ...</td>\n",
       "      <td>0.00000000000000000000</td>\n",
       "      <td>1.00000000000000000000</td>\n",
       "      <td>1</td>\n",
       "    </tr>\n",
       "    <tr>\n",
       "      <th>789286228856274944.0</th>\n",
       "      <td>0</td>\n",
       "      <td>How Trump Will Create More ‘Bad Hombres’: The ...</td>\n",
       "      <td>0.99599999999999999645</td>\n",
       "      <td>0.00400000000000000008</td>\n",
       "      <td>0</td>\n",
       "    </tr>\n",
       "    <tr>\n",
       "      <th>1324622713193865216.0</th>\n",
       "      <td>1</td>\n",
       "      <td>While evidence of VOTER FRAUD is coming in, th...</td>\n",
       "      <td>0.00000000000000000000</td>\n",
       "      <td>1.00000000000000000000</td>\n",
       "      <td>1</td>\n",
       "    </tr>\n",
       "    <tr>\n",
       "      <th>...</th>\n",
       "      <td>...</td>\n",
       "      <td>...</td>\n",
       "      <td>...</td>\n",
       "      <td>...</td>\n",
       "      <td>...</td>\n",
       "    </tr>\n",
       "    <tr>\n",
       "      <th>789263931260882944.0</th>\n",
       "      <td>0</td>\n",
       "      <td>RT @sageboggs: I miss the window in this elect...</td>\n",
       "      <td>1.00000000000000000000</td>\n",
       "      <td>0.00000000000000000000</td>\n",
       "      <td>0</td>\n",
       "    </tr>\n",
       "    <tr>\n",
       "      <th>789407616946479104.0</th>\n",
       "      <td>0</td>\n",
       "      <td>RT @QuentinKidd: Women, NOVA, coll educ whites...</td>\n",
       "      <td>1.00000000000000000000</td>\n",
       "      <td>0.00000000000000000000</td>\n",
       "      <td>0</td>\n",
       "    </tr>\n",
       "    <tr>\n",
       "      <th>1325414016324259840.0</th>\n",
       "      <td>1</td>\n",
       "      <td>That Time When Joe Biden Bragged About Voter F...</td>\n",
       "      <td>0.00000000000000000000</td>\n",
       "      <td>1.00000000000000000000</td>\n",
       "      <td>1</td>\n",
       "    </tr>\n",
       "    <tr>\n",
       "      <th>789320732803211264.0</th>\n",
       "      <td>0</td>\n",
       "      <td>RT @acompton44: Another accuser steps forward ...</td>\n",
       "      <td>0.99799999999999999822</td>\n",
       "      <td>0.00200000000000000004</td>\n",
       "      <td>0</td>\n",
       "    </tr>\n",
       "    <tr>\n",
       "      <th>789302561127866368.0</th>\n",
       "      <td>0</td>\n",
       "      <td>RT @ANOMALY1: \"2 THE BRAVEST WOMAN I KNOW\"Form...</td>\n",
       "      <td>0.99799999999999999822</td>\n",
       "      <td>0.00200000000000000004</td>\n",
       "      <td>0</td>\n",
       "    </tr>\n",
       "  </tbody>\n",
       "</table>\n",
       "<p>18314 rows × 5 columns</p>\n",
       "</div>"
      ],
      "text/plain": [
       "                       target  \\\n",
       "tweet_id                        \n",
       "789335093949050880.0        0   \n",
       "789331811981664256.0        0   \n",
       "1329829814249922560.0       1   \n",
       "789286228856274944.0        0   \n",
       "1324622713193865216.0       1   \n",
       "...                       ...   \n",
       "789263931260882944.0        0   \n",
       "789407616946479104.0        0   \n",
       "1325414016324259840.0       1   \n",
       "789320732803211264.0        0   \n",
       "789302561127866368.0        0   \n",
       "\n",
       "                                                              tweet_text  \\\n",
       "tweet_id                                                                   \n",
       "789335093949050880.0   US-Wahl kompakt: Trump wird bei Benefiz-Dinner...   \n",
       "789331811981664256.0   RT @ObamaMalik: Trump family loves all people ...   \n",
       "1329829814249922560.0  @Timodc @BillKristol @Nate_Cohn @RVAT2020 I’m ...   \n",
       "789286228856274944.0   How Trump Will Create More ‘Bad Hombres’: The ...   \n",
       "1324622713193865216.0  While evidence of VOTER FRAUD is coming in, th...   \n",
       "...                                                                  ...   \n",
       "789263931260882944.0   RT @sageboggs: I miss the window in this elect...   \n",
       "789407616946479104.0   RT @QuentinKidd: Women, NOVA, coll educ whites...   \n",
       "1325414016324259840.0  That Time When Joe Biden Bragged About Voter F...   \n",
       "789320732803211264.0   RT @acompton44: Another accuser steps forward ...   \n",
       "789302561127866368.0   RT @ANOMALY1: \"2 THE BRAVEST WOMAN I KNOW\"Form...   \n",
       "\n",
       "                                        pred0                   pred1  pred  \n",
       "tweet_id                                                                     \n",
       "789335093949050880.0   0.99799999999999999822  0.00200000000000000004     0  \n",
       "789331811981664256.0   1.00000000000000000000  0.00000000000000000000     0  \n",
       "1329829814249922560.0  0.00000000000000000000  1.00000000000000000000     1  \n",
       "789286228856274944.0   0.99599999999999999645  0.00400000000000000008     0  \n",
       "1324622713193865216.0  0.00000000000000000000  1.00000000000000000000     1  \n",
       "...                                       ...                     ...   ...  \n",
       "789263931260882944.0   1.00000000000000000000  0.00000000000000000000     0  \n",
       "789407616946479104.0   1.00000000000000000000  0.00000000000000000000     0  \n",
       "1325414016324259840.0  0.00000000000000000000  1.00000000000000000000     1  \n",
       "789320732803211264.0   0.99799999999999999822  0.00200000000000000004     0  \n",
       "789302561127866368.0   0.99799999999999999822  0.00200000000000000004     0  \n",
       "\n",
       "[18314 rows x 5 columns]"
      ]
     },
     "execution_count": 77,
     "metadata": {},
     "output_type": "execute_result"
    }
   ],
   "source": [
    "results_df"
   ]
  },
  {
   "cell_type": "code",
   "execution_count": 78,
   "metadata": {},
   "outputs": [],
   "source": [
    "errors_df = results_df[results_df['target'] != results_df['pred']]  "
   ]
  },
  {
   "cell_type": "code",
   "execution_count": 79,
   "metadata": {},
   "outputs": [
    {
     "data": {
      "text/html": [
       "<div>\n",
       "<style scoped>\n",
       "    .dataframe tbody tr th:only-of-type {\n",
       "        vertical-align: middle;\n",
       "    }\n",
       "\n",
       "    .dataframe tbody tr th {\n",
       "        vertical-align: top;\n",
       "    }\n",
       "\n",
       "    .dataframe thead th {\n",
       "        text-align: right;\n",
       "    }\n",
       "</style>\n",
       "<table border=\"1\" class=\"dataframe\">\n",
       "  <thead>\n",
       "    <tr style=\"text-align: right;\">\n",
       "      <th></th>\n",
       "      <th>target</th>\n",
       "      <th>tweet_text</th>\n",
       "      <th>pred0</th>\n",
       "      <th>pred1</th>\n",
       "      <th>pred</th>\n",
       "    </tr>\n",
       "    <tr>\n",
       "      <th>tweet_id</th>\n",
       "      <th></th>\n",
       "      <th></th>\n",
       "      <th></th>\n",
       "      <th></th>\n",
       "      <th></th>\n",
       "    </tr>\n",
       "  </thead>\n",
       "  <tbody>\n",
       "    <tr>\n",
       "      <th>1329464227724210176.0</th>\n",
       "      <td>1</td>\n",
       "      <td>#Truth https://t.co/SZgFbPbjW2</td>\n",
       "      <td>0.78200000000000002842</td>\n",
       "      <td>0.21799999999999999933</td>\n",
       "      <td>0</td>\n",
       "    </tr>\n",
       "    <tr>\n",
       "      <th>1332402029571026944.0</th>\n",
       "      <td>1</td>\n",
       "      <td>@TherapyWestside @KamalaHarris @Official_tyler...</td>\n",
       "      <td>0.54400000000000003908</td>\n",
       "      <td>0.45600000000000001643</td>\n",
       "      <td>0</td>\n",
       "    </tr>\n",
       "    <tr>\n",
       "      <th>1330612952064520192.0</th>\n",
       "      <td>1</td>\n",
       "      <td>Why would they cover the windows???? No corrup...</td>\n",
       "      <td>0.92200000000000004174</td>\n",
       "      <td>0.07799999999999999989</td>\n",
       "      <td>0</td>\n",
       "    </tr>\n",
       "    <tr>\n",
       "      <th>1325049239353712640.0</th>\n",
       "      <td>1</td>\n",
       "      <td>😅😂😅😂😅😂😅😂😅 https://t.co/tf0Nw2N8FY</td>\n",
       "      <td>0.92000000000000003997</td>\n",
       "      <td>0.08000000000000000167</td>\n",
       "      <td>0</td>\n",
       "    </tr>\n",
       "    <tr>\n",
       "      <th>1325831415200669696.0</th>\n",
       "      <td>1</td>\n",
       "      <td>Right on, my brother. We were warned way in ad...</td>\n",
       "      <td>0.96199999999999996625</td>\n",
       "      <td>0.03799999999999999906</td>\n",
       "      <td>0</td>\n",
       "    </tr>\n",
       "    <tr>\n",
       "      <th>...</th>\n",
       "      <td>...</td>\n",
       "      <td>...</td>\n",
       "      <td>...</td>\n",
       "      <td>...</td>\n",
       "      <td>...</td>\n",
       "    </tr>\n",
       "    <tr>\n",
       "      <th>1324143228363415552.0</th>\n",
       "      <td>1</td>\n",
       "      <td>Here's an interesting take. Didn't think about...</td>\n",
       "      <td>0.95999999999999996447</td>\n",
       "      <td>0.04000000000000000083</td>\n",
       "      <td>0</td>\n",
       "    </tr>\n",
       "    <tr>\n",
       "      <th>1329541189478064128.0</th>\n",
       "      <td>1</td>\n",
       "      <td>There should be an independent forensic ballot...</td>\n",
       "      <td>0.51800000000000001599</td>\n",
       "      <td>0.48199999999999998401</td>\n",
       "      <td>0</td>\n",
       "    </tr>\n",
       "    <tr>\n",
       "      <th>1324601076352385024.0</th>\n",
       "      <td>1</td>\n",
       "      <td>.@realDonaldTrump @FLOTUS @VP @EricTrump @Ivan...</td>\n",
       "      <td>0.90800000000000002931</td>\n",
       "      <td>0.09199999999999999845</td>\n",
       "      <td>0</td>\n",
       "    </tr>\n",
       "    <tr>\n",
       "      <th>1330508599513272320.0</th>\n",
       "      <td>1</td>\n",
       "      <td>🥊💥 https://t.co/dxXdPyVpss</td>\n",
       "      <td>0.92000000000000003997</td>\n",
       "      <td>0.08000000000000000167</td>\n",
       "      <td>0</td>\n",
       "    </tr>\n",
       "    <tr>\n",
       "      <th>1324169557074849792.0</th>\n",
       "      <td>1</td>\n",
       "      <td>ELECTION FRAUD UPDATE: Veritas to release BOMB...</td>\n",
       "      <td>0.65600000000000002753</td>\n",
       "      <td>0.34399999999999997247</td>\n",
       "      <td>0</td>\n",
       "    </tr>\n",
       "  </tbody>\n",
       "</table>\n",
       "<p>111 rows × 5 columns</p>\n",
       "</div>"
      ],
      "text/plain": [
       "                       target  \\\n",
       "tweet_id                        \n",
       "1329464227724210176.0       1   \n",
       "1332402029571026944.0       1   \n",
       "1330612952064520192.0       1   \n",
       "1325049239353712640.0       1   \n",
       "1325831415200669696.0       1   \n",
       "...                       ...   \n",
       "1324143228363415552.0       1   \n",
       "1329541189478064128.0       1   \n",
       "1324601076352385024.0       1   \n",
       "1330508599513272320.0       1   \n",
       "1324169557074849792.0       1   \n",
       "\n",
       "                                                              tweet_text  \\\n",
       "tweet_id                                                                   \n",
       "1329464227724210176.0                     #Truth https://t.co/SZgFbPbjW2   \n",
       "1332402029571026944.0  @TherapyWestside @KamalaHarris @Official_tyler...   \n",
       "1330612952064520192.0  Why would they cover the windows???? No corrup...   \n",
       "1325049239353712640.0                  😅😂😅😂😅😂😅😂😅 https://t.co/tf0Nw2N8FY   \n",
       "1325831415200669696.0  Right on, my brother. We were warned way in ad...   \n",
       "...                                                                  ...   \n",
       "1324143228363415552.0  Here's an interesting take. Didn't think about...   \n",
       "1329541189478064128.0  There should be an independent forensic ballot...   \n",
       "1324601076352385024.0  .@realDonaldTrump @FLOTUS @VP @EricTrump @Ivan...   \n",
       "1330508599513272320.0                         🥊💥 https://t.co/dxXdPyVpss   \n",
       "1324169557074849792.0  ELECTION FRAUD UPDATE: Veritas to release BOMB...   \n",
       "\n",
       "                                        pred0                   pred1  pred  \n",
       "tweet_id                                                                     \n",
       "1329464227724210176.0  0.78200000000000002842  0.21799999999999999933     0  \n",
       "1332402029571026944.0  0.54400000000000003908  0.45600000000000001643     0  \n",
       "1330612952064520192.0  0.92200000000000004174  0.07799999999999999989     0  \n",
       "1325049239353712640.0  0.92000000000000003997  0.08000000000000000167     0  \n",
       "1325831415200669696.0  0.96199999999999996625  0.03799999999999999906     0  \n",
       "...                                       ...                     ...   ...  \n",
       "1324143228363415552.0  0.95999999999999996447  0.04000000000000000083     0  \n",
       "1329541189478064128.0  0.51800000000000001599  0.48199999999999998401     0  \n",
       "1324601076352385024.0  0.90800000000000002931  0.09199999999999999845     0  \n",
       "1330508599513272320.0  0.92000000000000003997  0.08000000000000000167     0  \n",
       "1324169557074849792.0  0.65600000000000002753  0.34399999999999997247     0  \n",
       "\n",
       "[111 rows x 5 columns]"
      ]
     },
     "execution_count": 79,
     "metadata": {},
     "output_type": "execute_result"
    }
   ],
   "source": [
    "errors_df"
   ]
  },
  {
   "cell_type": "code",
   "execution_count": 70,
   "metadata": {
    "scrolled": false
   },
   "outputs": [
    {
     "name": "stderr",
     "output_type": "stream",
     "text": [
      "<ipython-input-70-524cf3dd28e8>:2: SettingWithCopyWarning: \n",
      "A value is trying to be set on a copy of a slice from a DataFrame\n",
      "\n",
      "See the caveats in the documentation: https://pandas.pydata.org/pandas-docs/stable/user_guide/indexing.html#returning-a-view-versus-a-copy\n",
      "  false_neg_df.sort_values(by = 'pred1', inplace = True)\n"
     ]
    },
    {
     "data": {
      "text/html": [
       "<div>\n",
       "<style scoped>\n",
       "    .dataframe tbody tr th:only-of-type {\n",
       "        vertical-align: middle;\n",
       "    }\n",
       "\n",
       "    .dataframe tbody tr th {\n",
       "        vertical-align: top;\n",
       "    }\n",
       "\n",
       "    .dataframe thead th {\n",
       "        text-align: right;\n",
       "    }\n",
       "</style>\n",
       "<table border=\"1\" class=\"dataframe\">\n",
       "  <thead>\n",
       "    <tr style=\"text-align: right;\">\n",
       "      <th></th>\n",
       "      <th>target</th>\n",
       "      <th>tweet_text</th>\n",
       "      <th>pred0</th>\n",
       "      <th>pred1</th>\n",
       "      <th>pred</th>\n",
       "    </tr>\n",
       "    <tr>\n",
       "      <th>tweet_id</th>\n",
       "      <th></th>\n",
       "      <th></th>\n",
       "      <th></th>\n",
       "      <th></th>\n",
       "      <th></th>\n",
       "    </tr>\n",
       "  </thead>\n",
       "  <tbody>\n",
       "    <tr>\n",
       "      <th>1329760854515052544.0</th>\n",
       "      <td>1</td>\n",
       "      <td>Fox News Calls Giuliani Liar After Conference ...</td>\n",
       "      <td>0.99799999999999999822</td>\n",
       "      <td>0.00200000000000000004</td>\n",
       "      <td>0</td>\n",
       "    </tr>\n",
       "    <tr>\n",
       "      <th>1322926947052277760.0</th>\n",
       "      <td>1</td>\n",
       "      <td>How is this not a conflict of interest?  Trump...</td>\n",
       "      <td>0.99799999999999999822</td>\n",
       "      <td>0.00200000000000000004</td>\n",
       "      <td>0</td>\n",
       "    </tr>\n",
       "    <tr>\n",
       "      <th>1330316158885646336.0</th>\n",
       "      <td>1</td>\n",
       "      <td>Thats a fact. So much money and property at st...</td>\n",
       "      <td>0.99399999999999999467</td>\n",
       "      <td>0.00600000000000000012</td>\n",
       "      <td>0</td>\n",
       "    </tr>\n",
       "    <tr>\n",
       "      <th>1324543469801492480.0</th>\n",
       "      <td>1</td>\n",
       "      <td>Brazen!!! No shame!!!! @DonaldJTrumpJr @realDo...</td>\n",
       "      <td>0.97999999999999998224</td>\n",
       "      <td>0.02000000000000000042</td>\n",
       "      <td>0</td>\n",
       "    </tr>\n",
       "    <tr>\n",
       "      <th>1326411178545991680.0</th>\n",
       "      <td>1</td>\n",
       "      <td>Lessons from WW2 were learned by this \"journal...</td>\n",
       "      <td>0.97599999999999997868</td>\n",
       "      <td>0.02400000000000000050</td>\n",
       "      <td>0</td>\n",
       "    </tr>\n",
       "    <tr>\n",
       "      <th>...</th>\n",
       "      <td>...</td>\n",
       "      <td>...</td>\n",
       "      <td>...</td>\n",
       "      <td>...</td>\n",
       "      <td>...</td>\n",
       "    </tr>\n",
       "    <tr>\n",
       "      <th>1329541189478064128.0</th>\n",
       "      <td>1</td>\n",
       "      <td>There should be an independent forensic ballot...</td>\n",
       "      <td>0.51800000000000001599</td>\n",
       "      <td>0.48199999999999998401</td>\n",
       "      <td>0</td>\n",
       "    </tr>\n",
       "    <tr>\n",
       "      <th>1329318761896226816.0</th>\n",
       "      <td>1</td>\n",
       "      <td>@Kiwicambo @bropologist @JackPosobiec @BobSpin...</td>\n",
       "      <td>0.50600000000000000533</td>\n",
       "      <td>0.49399999999999999467</td>\n",
       "      <td>0</td>\n",
       "    </tr>\n",
       "    <tr>\n",
       "      <th>1332900405014122496.0</th>\n",
       "      <td>1</td>\n",
       "      <td>@JakeCorman how can you sleep at night knowing...</td>\n",
       "      <td>0.50400000000000000355</td>\n",
       "      <td>0.49599999999999999645</td>\n",
       "      <td>0</td>\n",
       "    </tr>\n",
       "    <tr>\n",
       "      <th>1329550617770139648.0</th>\n",
       "      <td>1</td>\n",
       "      <td>@whatsgngonhere @RawStory Multiple states will...</td>\n",
       "      <td>0.50200000000000000178</td>\n",
       "      <td>0.49799999999999999822</td>\n",
       "      <td>0</td>\n",
       "    </tr>\n",
       "    <tr>\n",
       "      <th>1326967884262752256.0</th>\n",
       "      <td>1</td>\n",
       "      <td>@seanhannity We \"THE PEOPLE\" MUST FIND THE TRU...</td>\n",
       "      <td>0.50200000000000000178</td>\n",
       "      <td>0.49799999999999999822</td>\n",
       "      <td>0</td>\n",
       "    </tr>\n",
       "  </tbody>\n",
       "</table>\n",
       "<p>98 rows × 5 columns</p>\n",
       "</div>"
      ],
      "text/plain": [
       "                       target  \\\n",
       "tweet_id                        \n",
       "1329760854515052544.0       1   \n",
       "1322926947052277760.0       1   \n",
       "1330316158885646336.0       1   \n",
       "1324543469801492480.0       1   \n",
       "1326411178545991680.0       1   \n",
       "...                       ...   \n",
       "1329541189478064128.0       1   \n",
       "1329318761896226816.0       1   \n",
       "1332900405014122496.0       1   \n",
       "1329550617770139648.0       1   \n",
       "1326967884262752256.0       1   \n",
       "\n",
       "                                                              tweet_text  \\\n",
       "tweet_id                                                                   \n",
       "1329760854515052544.0  Fox News Calls Giuliani Liar After Conference ...   \n",
       "1322926947052277760.0  How is this not a conflict of interest?  Trump...   \n",
       "1330316158885646336.0  Thats a fact. So much money and property at st...   \n",
       "1324543469801492480.0  Brazen!!! No shame!!!! @DonaldJTrumpJr @realDo...   \n",
       "1326411178545991680.0  Lessons from WW2 were learned by this \"journal...   \n",
       "...                                                                  ...   \n",
       "1329541189478064128.0  There should be an independent forensic ballot...   \n",
       "1329318761896226816.0  @Kiwicambo @bropologist @JackPosobiec @BobSpin...   \n",
       "1332900405014122496.0  @JakeCorman how can you sleep at night knowing...   \n",
       "1329550617770139648.0  @whatsgngonhere @RawStory Multiple states will...   \n",
       "1326967884262752256.0  @seanhannity We \"THE PEOPLE\" MUST FIND THE TRU...   \n",
       "\n",
       "                                        pred0                   pred1  pred  \n",
       "tweet_id                                                                     \n",
       "1329760854515052544.0  0.99799999999999999822  0.00200000000000000004     0  \n",
       "1322926947052277760.0  0.99799999999999999822  0.00200000000000000004     0  \n",
       "1330316158885646336.0  0.99399999999999999467  0.00600000000000000012     0  \n",
       "1324543469801492480.0  0.97999999999999998224  0.02000000000000000042     0  \n",
       "1326411178545991680.0  0.97599999999999997868  0.02400000000000000050     0  \n",
       "...                                       ...                     ...   ...  \n",
       "1329541189478064128.0  0.51800000000000001599  0.48199999999999998401     0  \n",
       "1329318761896226816.0  0.50600000000000000533  0.49399999999999999467     0  \n",
       "1332900405014122496.0  0.50400000000000000355  0.49599999999999999645     0  \n",
       "1329550617770139648.0  0.50200000000000000178  0.49799999999999999822     0  \n",
       "1326967884262752256.0  0.50200000000000000178  0.49799999999999999822     0  \n",
       "\n",
       "[98 rows x 5 columns]"
      ]
     },
     "execution_count": 70,
     "metadata": {},
     "output_type": "execute_result"
    }
   ],
   "source": [
    "false_neg_df = errors_df[errors_df['target'] == 1]\n",
    "false_neg_df.sort_values(by = 'pred1', inplace = True)\n",
    "\n",
    "false_neg_df"
   ]
  },
  {
   "cell_type": "code",
   "execution_count": 80,
   "metadata": {},
   "outputs": [
    {
     "data": {
      "text/plain": [
       "array(['Fox News Calls Giuliani Liar After Conference https://t.co/GxXUt06JDX',\n",
       "       'How is this not a conflict of interest?  Trump should insist on a new design, and make these all obsolete. https://t.co/vu44yK3bCr',\n",
       "       'Thats a fact. So much money and property at steak here.. Trump broke their bank.lmao https://t.co/afjBIDkplL',\n",
       "       'Brazen!!! No shame!!!! @DonaldJTrumpJr @realDonaldTrump https://t.co/dnDEDZfCKw',\n",
       "       'Lessons from WW2 were learned by this \"journalist\" - unfortunately from the Nazi side. CNN and WaPo = Propaganda. https://t.co/lYSzU5aXzF',\n",
       "       'Ok there it is...  turn it in. https://t.co/zaGyhcBj11'],\n",
       "      dtype=object)"
      ]
     },
     "execution_count": 80,
     "metadata": {},
     "output_type": "execute_result"
    }
   ],
   "source": [
    "most_confident_false_neg = false_neg_df.iloc[0:6].tweet_text.values\n",
    "\n",
    "most_confident_false_neg"
   ]
  },
  {
   "cell_type": "code",
   "execution_count": 81,
   "metadata": {},
   "outputs": [
    {
     "name": "stderr",
     "output_type": "stream",
     "text": [
      "<ipython-input-81-a9e78aeda2be>:2: SettingWithCopyWarning: \n",
      "A value is trying to be set on a copy of a slice from a DataFrame\n",
      "\n",
      "See the caveats in the documentation: https://pandas.pydata.org/pandas-docs/stable/user_guide/indexing.html#returning-a-view-versus-a-copy\n",
      "  false_pos_df.sort_values(by = 'pred0', inplace = True)\n"
     ]
    },
    {
     "data": {
      "text/html": [
       "<div>\n",
       "<style scoped>\n",
       "    .dataframe tbody tr th:only-of-type {\n",
       "        vertical-align: middle;\n",
       "    }\n",
       "\n",
       "    .dataframe tbody tr th {\n",
       "        vertical-align: top;\n",
       "    }\n",
       "\n",
       "    .dataframe thead th {\n",
       "        text-align: right;\n",
       "    }\n",
       "</style>\n",
       "<table border=\"1\" class=\"dataframe\">\n",
       "  <thead>\n",
       "    <tr style=\"text-align: right;\">\n",
       "      <th></th>\n",
       "      <th>target</th>\n",
       "      <th>tweet_text</th>\n",
       "      <th>pred0</th>\n",
       "      <th>pred1</th>\n",
       "      <th>pred</th>\n",
       "    </tr>\n",
       "    <tr>\n",
       "      <th>tweet_id</th>\n",
       "      <th></th>\n",
       "      <th></th>\n",
       "      <th></th>\n",
       "      <th></th>\n",
       "      <th></th>\n",
       "    </tr>\n",
       "  </thead>\n",
       "  <tbody>\n",
       "    <tr>\n",
       "      <th>789254122188906496.0</th>\n",
       "      <td>0</td>\n",
       "      <td>RT @Bakari_Sellers: But but voter fraud... htt...</td>\n",
       "      <td>0.01000000000000000021</td>\n",
       "      <td>0.98999999999999999112</td>\n",
       "      <td>1</td>\n",
       "    </tr>\n",
       "    <tr>\n",
       "      <th>789305130361421824.0</th>\n",
       "      <td>0</td>\n",
       "      <td>Embattled sheriff trails in reelection bid.If ...</td>\n",
       "      <td>0.14399999999999998912</td>\n",
       "      <td>0.85599999999999998312</td>\n",
       "      <td>1</td>\n",
       "    </tr>\n",
       "    <tr>\n",
       "      <th>789255736085712896.0</th>\n",
       "      <td>0</td>\n",
       "      <td>#TrumpBookReports #WhyIWrite #HouseholdClassic...</td>\n",
       "      <td>0.14599999999999999090</td>\n",
       "      <td>0.85399999999999998135</td>\n",
       "      <td>1</td>\n",
       "    </tr>\n",
       "    <tr>\n",
       "      <th>789411907954278400.0</th>\n",
       "      <td>0</td>\n",
       "      <td>RT @TRUNEWS: .@JamesCarville Admits Democratic...</td>\n",
       "      <td>0.24399999999999999467</td>\n",
       "      <td>0.75600000000000000533</td>\n",
       "      <td>1</td>\n",
       "    </tr>\n",
       "    <tr>\n",
       "      <th>789319533450268672.0</th>\n",
       "      <td>0</td>\n",
       "      <td>RT @MedianPolitics: .@seanhannity @newtgingric...</td>\n",
       "      <td>0.25000000000000000000</td>\n",
       "      <td>0.75000000000000000000</td>\n",
       "      <td>1</td>\n",
       "    </tr>\n",
       "    <tr>\n",
       "      <th>789384716650631168.0</th>\n",
       "      <td>0</td>\n",
       "      <td>RT @CBS4Indy: Gov. Pence at Nevada rally: ‘Vot...</td>\n",
       "      <td>0.28399999999999997469</td>\n",
       "      <td>0.71599999999999996980</td>\n",
       "      <td>1</td>\n",
       "    </tr>\n",
       "    <tr>\n",
       "      <th>789340219438870528.0</th>\n",
       "      <td>0</td>\n",
       "      <td>RT @jewelry487jw62: Aren't the state's that Vo...</td>\n",
       "      <td>0.28599999999999997646</td>\n",
       "      <td>0.71399999999999996803</td>\n",
       "      <td>1</td>\n",
       "    </tr>\n",
       "    <tr>\n",
       "      <th>789340031764799488.0</th>\n",
       "      <td>0</td>\n",
       "      <td>RT @FOX59: Governor Mike Pence at rally: ‘Vote...</td>\n",
       "      <td>0.32000000000000000666</td>\n",
       "      <td>0.68000000000000004885</td>\n",
       "      <td>1</td>\n",
       "    </tr>\n",
       "    <tr>\n",
       "      <th>789323962408853504.0</th>\n",
       "      <td>0</td>\n",
       "      <td>RT @RoboHoward: Proof in Court that th 2000 el...</td>\n",
       "      <td>0.34200000000000002620</td>\n",
       "      <td>0.65800000000000002931</td>\n",
       "      <td>1</td>\n",
       "    </tr>\n",
       "    <tr>\n",
       "      <th>789338343318388736.0</th>\n",
       "      <td>0</td>\n",
       "      <td>RT @mediumvillain: @DKG3387 @ProgressiveArmy @...</td>\n",
       "      <td>0.36599999999999999201</td>\n",
       "      <td>0.63400000000000000799</td>\n",
       "      <td>1</td>\n",
       "    </tr>\n",
       "    <tr>\n",
       "      <th>789308816500387840.0</th>\n",
       "      <td>0</td>\n",
       "      <td>RT @kierobar: He also controls the Associated ...</td>\n",
       "      <td>0.38200000000000000622</td>\n",
       "      <td>0.61799999999999999378</td>\n",
       "      <td>1</td>\n",
       "    </tr>\n",
       "    <tr>\n",
       "      <th>789276355158499328.0</th>\n",
       "      <td>0</td>\n",
       "      <td>RT @Summer_Sez: In recent weeks I have been re...</td>\n",
       "      <td>0.39800000000000002043</td>\n",
       "      <td>0.60199999999999997957</td>\n",
       "      <td>1</td>\n",
       "    </tr>\n",
       "    <tr>\n",
       "      <th>789269004229705728.0</th>\n",
       "      <td>0</td>\n",
       "      <td>Mike Pence \"Voter Fraud Is Real\"  10/20/16 htt...</td>\n",
       "      <td>0.42399999999999998801</td>\n",
       "      <td>0.57599999999999995648</td>\n",
       "      <td>1</td>\n",
       "    </tr>\n",
       "  </tbody>\n",
       "</table>\n",
       "</div>"
      ],
      "text/plain": [
       "                      target  \\\n",
       "tweet_id                       \n",
       "789254122188906496.0       0   \n",
       "789305130361421824.0       0   \n",
       "789255736085712896.0       0   \n",
       "789411907954278400.0       0   \n",
       "789319533450268672.0       0   \n",
       "789384716650631168.0       0   \n",
       "789340219438870528.0       0   \n",
       "789340031764799488.0       0   \n",
       "789323962408853504.0       0   \n",
       "789338343318388736.0       0   \n",
       "789308816500387840.0       0   \n",
       "789276355158499328.0       0   \n",
       "789269004229705728.0       0   \n",
       "\n",
       "                                                             tweet_text  \\\n",
       "tweet_id                                                                  \n",
       "789254122188906496.0  RT @Bakari_Sellers: But but voter fraud... htt...   \n",
       "789305130361421824.0  Embattled sheriff trails in reelection bid.If ...   \n",
       "789255736085712896.0  #TrumpBookReports #WhyIWrite #HouseholdClassic...   \n",
       "789411907954278400.0  RT @TRUNEWS: .@JamesCarville Admits Democratic...   \n",
       "789319533450268672.0  RT @MedianPolitics: .@seanhannity @newtgingric...   \n",
       "789384716650631168.0  RT @CBS4Indy: Gov. Pence at Nevada rally: ‘Vot...   \n",
       "789340219438870528.0  RT @jewelry487jw62: Aren't the state's that Vo...   \n",
       "789340031764799488.0  RT @FOX59: Governor Mike Pence at rally: ‘Vote...   \n",
       "789323962408853504.0  RT @RoboHoward: Proof in Court that th 2000 el...   \n",
       "789338343318388736.0  RT @mediumvillain: @DKG3387 @ProgressiveArmy @...   \n",
       "789308816500387840.0  RT @kierobar: He also controls the Associated ...   \n",
       "789276355158499328.0  RT @Summer_Sez: In recent weeks I have been re...   \n",
       "789269004229705728.0  Mike Pence \"Voter Fraud Is Real\"  10/20/16 htt...   \n",
       "\n",
       "                                       pred0                   pred1  pred  \n",
       "tweet_id                                                                    \n",
       "789254122188906496.0  0.01000000000000000021  0.98999999999999999112     1  \n",
       "789305130361421824.0  0.14399999999999998912  0.85599999999999998312     1  \n",
       "789255736085712896.0  0.14599999999999999090  0.85399999999999998135     1  \n",
       "789411907954278400.0  0.24399999999999999467  0.75600000000000000533     1  \n",
       "789319533450268672.0  0.25000000000000000000  0.75000000000000000000     1  \n",
       "789384716650631168.0  0.28399999999999997469  0.71599999999999996980     1  \n",
       "789340219438870528.0  0.28599999999999997646  0.71399999999999996803     1  \n",
       "789340031764799488.0  0.32000000000000000666  0.68000000000000004885     1  \n",
       "789323962408853504.0  0.34200000000000002620  0.65800000000000002931     1  \n",
       "789338343318388736.0  0.36599999999999999201  0.63400000000000000799     1  \n",
       "789308816500387840.0  0.38200000000000000622  0.61799999999999999378     1  \n",
       "789276355158499328.0  0.39800000000000002043  0.60199999999999997957     1  \n",
       "789269004229705728.0  0.42399999999999998801  0.57599999999999995648     1  "
      ]
     },
     "execution_count": 81,
     "metadata": {},
     "output_type": "execute_result"
    }
   ],
   "source": [
    "false_pos_df = errors_df[errors_df['target'] == 0]\n",
    "false_pos_df.sort_values(by = 'pred0', inplace = True)\n",
    "\n",
    "false_pos_df"
   ]
  },
  {
   "cell_type": "code",
   "execution_count": 82,
   "metadata": {},
   "outputs": [
    {
     "data": {
      "text/plain": [
       "array(['RT @Bakari_Sellers: But but voter fraud... https://t.co/oP9LlzNoVF',\n",
       "       'Embattled sheriff trails in reelection bid.If he loses the voter fraud programmers will be executed on spot  https://t.co/I4ywuWuK1a',\n",
       "       '#TrumpBookReports #WhyIWrite #HouseholdClassicFilms #PodestaEmails13 #ObamaEmails #VoterFraud #IsReal @BillKristol https://t.co/erYVSIKTn1',\n",
       "       'RT @TRUNEWS: .@JamesCarville Admits Democratic #Election Fraud https://t.co/IBg20Jqnfr https://t.co/tGNmBVHAjC',\n",
       "       'RT @MedianPolitics: .@seanhannity @newtgingrich ELECTION FRAUD \\nhttps://t.co/kNRl0EqGyU'],\n",
       "      dtype=object)"
      ]
     },
     "execution_count": 82,
     "metadata": {},
     "output_type": "execute_result"
    }
   ],
   "source": [
    "most_confident_false_pos = false_pos_df.iloc[0:5].tweet_text.values\n",
    "least_confident_false_pos = false_pos_df.iloc[-6:-1].tweet_text.values\n",
    "\n",
    "most_confident_false_pos"
   ]
  },
  {
   "cell_type": "markdown",
   "metadata": {},
   "source": [
    "This looks great! I'm going to move this to the final notebook."
   ]
  }
 ],
 "metadata": {
  "kernelspec": {
   "display_name": "Python (learn-env)",
   "language": "python",
   "name": "learn-env"
  },
  "language_info": {
   "codemirror_mode": {
    "name": "ipython",
    "version": 3
   },
   "file_extension": ".py",
   "mimetype": "text/x-python",
   "name": "python",
   "nbconvert_exporter": "python",
   "pygments_lexer": "ipython3",
   "version": "3.8.5"
  }
 },
 "nbformat": 4,
 "nbformat_minor": 4
}
