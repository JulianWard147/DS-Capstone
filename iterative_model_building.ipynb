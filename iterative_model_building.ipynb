{
 "cells": [
  {
   "cell_type": "markdown",
   "metadata": {},
   "source": [
    "### Imports"
   ]
  },
  {
   "cell_type": "code",
   "execution_count": 222,
   "metadata": {},
   "outputs": [],
   "source": [
    "import pandas as pd\n",
    "import matplotlib.pyplot as plt\n",
    "import numpy as np\n",
    "\n",
    "from sklearn.model_selection import train_test_split, cross_val_score, GridSearchCV\n",
    "from sklearn.dummy import DummyClassifier\n",
    "from sklearn.pipeline import Pipeline\n",
    "from sklearn.feature_extraction.text import CountVectorizer, TfidfVectorizer\n",
    "from sklearn.naive_bayes import MultinomialNB\n",
    "from sklearn.metrics import ConfusionMatrixDisplay, confusion_matrix, roc_auc_score\n",
    "from nltk.tokenize import RegexpTokenizer\n",
    "\n",
    "from nltk.corpus import stopwords\n",
    "from nltk.stem import WordNetLemmatizer\n",
    "\n",
    "from sklearn.ensemble import RandomForestClassifier\n",
    "\n",
    "\n",
    "\n",
    "\n",
    "\n",
    "%matplotlib inline\n",
    "\n",
    "pd.set_option(\"display.precision\", 20)\n",
    "\n",
    "np.set_printoptions(suppress=True)"
   ]
  },
  {
   "cell_type": "markdown",
   "metadata": {},
   "source": [
    "### Loading Data"
   ]
  },
  {
   "cell_type": "code",
   "execution_count": 2,
   "metadata": {},
   "outputs": [],
   "source": [
    "control_df = pd.read_csv('tweets_2016')"
   ]
  },
  {
   "cell_type": "code",
   "execution_count": 3,
   "metadata": {},
   "outputs": [],
   "source": [
    "l = ['tweet_text', 'tweet_id']\n",
    "\n",
    "control_df =  control_df[l]"
   ]
  },
  {
   "cell_type": "code",
   "execution_count": 4,
   "metadata": {},
   "outputs": [],
   "source": [
    "control_df['target'] = 0"
   ]
  },
  {
   "cell_type": "code",
   "execution_count": 5,
   "metadata": {},
   "outputs": [],
   "source": [
    "control_df= control_df[control_df.tweet_text != 'None']"
   ]
  },
  {
   "cell_type": "code",
   "execution_count": 6,
   "metadata": {},
   "outputs": [
    {
     "data": {
      "text/html": [
       "<div>\n",
       "<style scoped>\n",
       "    .dataframe tbody tr th:only-of-type {\n",
       "        vertical-align: middle;\n",
       "    }\n",
       "\n",
       "    .dataframe tbody tr th {\n",
       "        vertical-align: top;\n",
       "    }\n",
       "\n",
       "    .dataframe thead th {\n",
       "        text-align: right;\n",
       "    }\n",
       "</style>\n",
       "<table border=\"1\" class=\"dataframe\">\n",
       "  <thead>\n",
       "    <tr style=\"text-align: right;\">\n",
       "      <th></th>\n",
       "      <th>tweet_text</th>\n",
       "      <th>tweet_id</th>\n",
       "      <th>target</th>\n",
       "    </tr>\n",
       "  </thead>\n",
       "  <tbody>\n",
       "    <tr>\n",
       "      <th>0</th>\n",
       "      <td>RT @ReaganBattalion: Obama hates @marcorubio b...</td>\n",
       "      <td>7.892854e+17</td>\n",
       "      <td>0</td>\n",
       "    </tr>\n",
       "    <tr>\n",
       "      <th>2</th>\n",
       "      <td>RT @lopezdoriga: EN DIRECTO en #Periscope: La ...</td>\n",
       "      <td>7.893299e+17</td>\n",
       "      <td>0</td>\n",
       "    </tr>\n",
       "    <tr>\n",
       "      <th>3</th>\n",
       "      <td>RT @wikileaks: There is no US election. There ...</td>\n",
       "      <td>7.893246e+17</td>\n",
       "      <td>0</td>\n",
       "    </tr>\n",
       "    <tr>\n",
       "      <th>7</th>\n",
       "      <td>RT @AJemaineClement: The lamest part of Trump'...</td>\n",
       "      <td>7.892696e+17</td>\n",
       "      <td>0</td>\n",
       "    </tr>\n",
       "    <tr>\n",
       "      <th>14</th>\n",
       "      <td>@realDonaldTrump #AlSmithDinner #TrumpTapes #H...</td>\n",
       "      <td>7.893517e+17</td>\n",
       "      <td>0</td>\n",
       "    </tr>\n",
       "    <tr>\n",
       "      <th>...</th>\n",
       "      <td>...</td>\n",
       "      <td>...</td>\n",
       "      <td>...</td>\n",
       "    </tr>\n",
       "    <tr>\n",
       "      <th>73211</th>\n",
       "      <td>RT @LifeSite: The next ‘deplorables’? Clinton ...</td>\n",
       "      <td>7.892677e+17</td>\n",
       "      <td>0</td>\n",
       "    </tr>\n",
       "    <tr>\n",
       "      <th>73212</th>\n",
       "      <td>Speaking is not his thing. He isn't intellectu...</td>\n",
       "      <td>7.892680e+17</td>\n",
       "      <td>0</td>\n",
       "    </tr>\n",
       "    <tr>\n",
       "      <th>73220</th>\n",
       "      <td>#Bestseller #greatreads #goodbooks  #BookBoost...</td>\n",
       "      <td>7.893777e+17</td>\n",
       "      <td>0</td>\n",
       "    </tr>\n",
       "    <tr>\n",
       "      <th>73226</th>\n",
       "      <td>RT @activist360: The #AlSmithDinner was no dif...</td>\n",
       "      <td>7.893312e+17</td>\n",
       "      <td>0</td>\n",
       "    </tr>\n",
       "    <tr>\n",
       "      <th>73229</th>\n",
       "      <td>A look at the Trudeau Liberals a year after th...</td>\n",
       "      <td>7.892532e+17</td>\n",
       "      <td>0</td>\n",
       "    </tr>\n",
       "  </tbody>\n",
       "</table>\n",
       "<p>32067 rows × 3 columns</p>\n",
       "</div>"
      ],
      "text/plain": [
       "                                              tweet_text      tweet_id  target\n",
       "0      RT @ReaganBattalion: Obama hates @marcorubio b...  7.892854e+17       0\n",
       "2      RT @lopezdoriga: EN DIRECTO en #Periscope: La ...  7.893299e+17       0\n",
       "3      RT @wikileaks: There is no US election. There ...  7.893246e+17       0\n",
       "7      RT @AJemaineClement: The lamest part of Trump'...  7.892696e+17       0\n",
       "14     @realDonaldTrump #AlSmithDinner #TrumpTapes #H...  7.893517e+17       0\n",
       "...                                                  ...           ...     ...\n",
       "73211  RT @LifeSite: The next ‘deplorables’? Clinton ...  7.892677e+17       0\n",
       "73212  Speaking is not his thing. He isn't intellectu...  7.892680e+17       0\n",
       "73220  #Bestseller #greatreads #goodbooks  #BookBoost...  7.893777e+17       0\n",
       "73226  RT @activist360: The #AlSmithDinner was no dif...  7.893312e+17       0\n",
       "73229  A look at the Trudeau Liberals a year after th...  7.892532e+17       0\n",
       "\n",
       "[32067 rows x 3 columns]"
      ]
     },
     "execution_count": 6,
     "metadata": {},
     "output_type": "execute_result"
    }
   ],
   "source": [
    "control_df"
   ]
  },
  {
   "cell_type": "code",
   "execution_count": 7,
   "metadata": {},
   "outputs": [],
   "source": [
    "targetdf =  pd.read_csv('hydrated_tweets')"
   ]
  },
  {
   "cell_type": "code",
   "execution_count": 8,
   "metadata": {},
   "outputs": [],
   "source": [
    "targetdf = targetdf[l]"
   ]
  },
  {
   "cell_type": "code",
   "execution_count": 9,
   "metadata": {},
   "outputs": [],
   "source": [
    "targetdf['target'] = 1"
   ]
  },
  {
   "cell_type": "code",
   "execution_count": 10,
   "metadata": {},
   "outputs": [],
   "source": [
    "targetdf= targetdf[targetdf.tweet_text != 'None']"
   ]
  },
  {
   "cell_type": "code",
   "execution_count": 11,
   "metadata": {},
   "outputs": [
    {
     "data": {
      "text/html": [
       "<div>\n",
       "<style scoped>\n",
       "    .dataframe tbody tr th:only-of-type {\n",
       "        vertical-align: middle;\n",
       "    }\n",
       "\n",
       "    .dataframe tbody tr th {\n",
       "        vertical-align: top;\n",
       "    }\n",
       "\n",
       "    .dataframe thead th {\n",
       "        text-align: right;\n",
       "    }\n",
       "</style>\n",
       "<table border=\"1\" class=\"dataframe\">\n",
       "  <thead>\n",
       "    <tr style=\"text-align: right;\">\n",
       "      <th></th>\n",
       "      <th>tweet_text</th>\n",
       "      <th>tweet_id</th>\n",
       "      <th>target</th>\n",
       "    </tr>\n",
       "  </thead>\n",
       "  <tbody>\n",
       "    <tr>\n",
       "      <th>0</th>\n",
       "      <td>I'm not saying I believe there was widespread ...</td>\n",
       "      <td>1329817517590786054</td>\n",
       "      <td>1</td>\n",
       "    </tr>\n",
       "    <tr>\n",
       "      <th>1</th>\n",
       "      <td>Yes of course! https://t.co/YqpjvH0NoS</td>\n",
       "      <td>1330873630515896321</td>\n",
       "      <td>1</td>\n",
       "    </tr>\n",
       "    <tr>\n",
       "      <th>2</th>\n",
       "      <td>@RepPaulMitchell @realDonaldTrump Are you real...</td>\n",
       "      <td>1333262884357419010</td>\n",
       "      <td>1</td>\n",
       "    </tr>\n",
       "    <tr>\n",
       "      <th>3</th>\n",
       "      <td>Unity! https://t.co/I625kseVMn</td>\n",
       "      <td>1331653544579981314</td>\n",
       "      <td>1</td>\n",
       "    </tr>\n",
       "    <tr>\n",
       "      <th>4</th>\n",
       "      <td>Listen to this https://t.co/uhKFLA3GVz</td>\n",
       "      <td>1329835459200114688</td>\n",
       "      <td>1</td>\n",
       "    </tr>\n",
       "    <tr>\n",
       "      <th>...</th>\n",
       "      <td>...</td>\n",
       "      <td>...</td>\n",
       "      <td>...</td>\n",
       "    </tr>\n",
       "    <tr>\n",
       "      <th>67506</th>\n",
       "      <td>@ACTBrigitte Count my family and friends. This...</td>\n",
       "      <td>1331497791944843266</td>\n",
       "      <td>1</td>\n",
       "    </tr>\n",
       "    <tr>\n",
       "      <th>67508</th>\n",
       "      <td>@JudiciaryGOP @GOPChairwoman @GOP @GOPLeader @...</td>\n",
       "      <td>1327465594090754048</td>\n",
       "      <td>1</td>\n",
       "    </tr>\n",
       "    <tr>\n",
       "      <th>67510</th>\n",
       "      <td>OMG https://t.co/QFx2mxyRmj</td>\n",
       "      <td>1331580447495696385</td>\n",
       "      <td>1</td>\n",
       "    </tr>\n",
       "    <tr>\n",
       "      <th>67513</th>\n",
       "      <td>#election2020 #election2020results #electionre...</td>\n",
       "      <td>1325128552426057734</td>\n",
       "      <td>1</td>\n",
       "    </tr>\n",
       "    <tr>\n",
       "      <th>67514</th>\n",
       "      <td>@Italia191 @pm45_ @pjazzopardi @ROBL4DJT @jble...</td>\n",
       "      <td>1330920501670252546</td>\n",
       "      <td>1</td>\n",
       "    </tr>\n",
       "  </tbody>\n",
       "</table>\n",
       "<p>41189 rows × 3 columns</p>\n",
       "</div>"
      ],
      "text/plain": [
       "                                              tweet_text             tweet_id  \\\n",
       "0      I'm not saying I believe there was widespread ...  1329817517590786054   \n",
       "1                 Yes of course! https://t.co/YqpjvH0NoS  1330873630515896321   \n",
       "2      @RepPaulMitchell @realDonaldTrump Are you real...  1333262884357419010   \n",
       "3                         Unity! https://t.co/I625kseVMn  1331653544579981314   \n",
       "4                 Listen to this https://t.co/uhKFLA3GVz  1329835459200114688   \n",
       "...                                                  ...                  ...   \n",
       "67506  @ACTBrigitte Count my family and friends. This...  1331497791944843266   \n",
       "67508  @JudiciaryGOP @GOPChairwoman @GOP @GOPLeader @...  1327465594090754048   \n",
       "67510                        OMG https://t.co/QFx2mxyRmj  1331580447495696385   \n",
       "67513  #election2020 #election2020results #electionre...  1325128552426057734   \n",
       "67514  @Italia191 @pm45_ @pjazzopardi @ROBL4DJT @jble...  1330920501670252546   \n",
       "\n",
       "       target  \n",
       "0           1  \n",
       "1           1  \n",
       "2           1  \n",
       "3           1  \n",
       "4           1  \n",
       "...       ...  \n",
       "67506       1  \n",
       "67508       1  \n",
       "67510       1  \n",
       "67513       1  \n",
       "67514       1  \n",
       "\n",
       "[41189 rows x 3 columns]"
      ]
     },
     "execution_count": 11,
     "metadata": {},
     "output_type": "execute_result"
    }
   ],
   "source": [
    "targetdf"
   ]
  },
  {
   "cell_type": "code",
   "execution_count": 12,
   "metadata": {},
   "outputs": [],
   "source": [
    "alldf = control_df.append(targetdf)"
   ]
  },
  {
   "cell_type": "code",
   "execution_count": 13,
   "metadata": {},
   "outputs": [],
   "source": [
    "alldf.dropna(inplace=True)"
   ]
  },
  {
   "cell_type": "code",
   "execution_count": 14,
   "metadata": {},
   "outputs": [],
   "source": [
    "alldf.set_index('tweet_id' , inplace=True)"
   ]
  },
  {
   "cell_type": "code",
   "execution_count": 50,
   "metadata": {},
   "outputs": [
    {
     "data": {
      "text/html": [
       "<div>\n",
       "<style scoped>\n",
       "    .dataframe tbody tr th:only-of-type {\n",
       "        vertical-align: middle;\n",
       "    }\n",
       "\n",
       "    .dataframe tbody tr th {\n",
       "        vertical-align: top;\n",
       "    }\n",
       "\n",
       "    .dataframe thead th {\n",
       "        text-align: right;\n",
       "    }\n",
       "</style>\n",
       "<table border=\"1\" class=\"dataframe\">\n",
       "  <thead>\n",
       "    <tr style=\"text-align: right;\">\n",
       "      <th></th>\n",
       "      <th>tweet_text</th>\n",
       "      <th>target</th>\n",
       "    </tr>\n",
       "    <tr>\n",
       "      <th>tweet_id</th>\n",
       "      <th></th>\n",
       "      <th></th>\n",
       "    </tr>\n",
       "  </thead>\n",
       "  <tbody>\n",
       "    <tr>\n",
       "      <th>7.892854e+17</th>\n",
       "      <td>RT @ReaganBattalion: Obama hates @marcorubio b...</td>\n",
       "      <td>0</td>\n",
       "    </tr>\n",
       "    <tr>\n",
       "      <th>7.893299e+17</th>\n",
       "      <td>RT @lopezdoriga: EN DIRECTO en #Periscope: La ...</td>\n",
       "      <td>0</td>\n",
       "    </tr>\n",
       "    <tr>\n",
       "      <th>7.893246e+17</th>\n",
       "      <td>RT @wikileaks: There is no US election. There ...</td>\n",
       "      <td>0</td>\n",
       "    </tr>\n",
       "    <tr>\n",
       "      <th>7.892696e+17</th>\n",
       "      <td>RT @AJemaineClement: The lamest part of Trump'...</td>\n",
       "      <td>0</td>\n",
       "    </tr>\n",
       "    <tr>\n",
       "      <th>7.893517e+17</th>\n",
       "      <td>@realDonaldTrump #AlSmithDinner #TrumpTapes #H...</td>\n",
       "      <td>0</td>\n",
       "    </tr>\n",
       "    <tr>\n",
       "      <th>...</th>\n",
       "      <td>...</td>\n",
       "      <td>...</td>\n",
       "    </tr>\n",
       "    <tr>\n",
       "      <th>1.331498e+18</th>\n",
       "      <td>@ACTBrigitte Count my family and friends. This...</td>\n",
       "      <td>1</td>\n",
       "    </tr>\n",
       "    <tr>\n",
       "      <th>1.327466e+18</th>\n",
       "      <td>@JudiciaryGOP @GOPChairwoman @GOP @GOPLeader @...</td>\n",
       "      <td>1</td>\n",
       "    </tr>\n",
       "    <tr>\n",
       "      <th>1.331580e+18</th>\n",
       "      <td>OMG https://t.co/QFx2mxyRmj</td>\n",
       "      <td>1</td>\n",
       "    </tr>\n",
       "    <tr>\n",
       "      <th>1.325129e+18</th>\n",
       "      <td>#election2020 #election2020results #electionre...</td>\n",
       "      <td>1</td>\n",
       "    </tr>\n",
       "    <tr>\n",
       "      <th>1.330921e+18</th>\n",
       "      <td>@Italia191 @pm45_ @pjazzopardi @ROBL4DJT @jble...</td>\n",
       "      <td>1</td>\n",
       "    </tr>\n",
       "  </tbody>\n",
       "</table>\n",
       "<p>73256 rows × 2 columns</p>\n",
       "</div>"
      ],
      "text/plain": [
       "                                                     tweet_text  target\n",
       "tweet_id                                                               \n",
       "7.892854e+17  RT @ReaganBattalion: Obama hates @marcorubio b...       0\n",
       "7.893299e+17  RT @lopezdoriga: EN DIRECTO en #Periscope: La ...       0\n",
       "7.893246e+17  RT @wikileaks: There is no US election. There ...       0\n",
       "7.892696e+17  RT @AJemaineClement: The lamest part of Trump'...       0\n",
       "7.893517e+17  @realDonaldTrump #AlSmithDinner #TrumpTapes #H...       0\n",
       "...                                                         ...     ...\n",
       "1.331498e+18  @ACTBrigitte Count my family and friends. This...       1\n",
       "1.327466e+18  @JudiciaryGOP @GOPChairwoman @GOP @GOPLeader @...       1\n",
       "1.331580e+18                        OMG https://t.co/QFx2mxyRmj       1\n",
       "1.325129e+18  #election2020 #election2020results #electionre...       1\n",
       "1.330921e+18  @Italia191 @pm45_ @pjazzopardi @ROBL4DJT @jble...       1\n",
       "\n",
       "[73256 rows x 2 columns]"
      ]
     },
     "execution_count": 50,
     "metadata": {},
     "output_type": "execute_result"
    }
   ],
   "source": [
    "alldf"
   ]
  },
  {
   "cell_type": "markdown",
   "metadata": {},
   "source": [
    "### Train Test Split "
   ]
  },
  {
   "cell_type": "code",
   "execution_count": 15,
   "metadata": {},
   "outputs": [],
   "source": [
    "X= alldf.tweet_text\n",
    "y = alldf.target\n",
    "\n",
    "X_train, X_test, y_train, y_test = train_test_split(X, y, random_state=42)"
   ]
  },
  {
   "cell_type": "code",
   "execution_count": 16,
   "metadata": {},
   "outputs": [],
   "source": [
    "nltk_sw = stopwords.words('english')\n",
    "politcal_stop = ['trump']"
   ]
  },
  {
   "cell_type": "code",
   "execution_count": 17,
   "metadata": {},
   "outputs": [],
   "source": [
    "#This creates a dictionary for the reportcrossval function to drop results into\n",
    "cv_dict = {}\n",
    "\n",
    "def reportcrossval(model, model_name, X, Y):\n",
    "    # This function takes in a model, test data for both X and Y\n",
    "    # It then adds the mean of the crossval scores to a dictionary called cv_dict\n",
    "    # and prints the results out.\n",
    "    \n",
    "    cv_mean = cross_val_score(model, X, Y).mean()\n",
    "    cv_dict[model_name] = cv_mean\n",
    "    print(f\"The cv mean of {model_name} is {cv_mean}\")\n"
   ]
  },
  {
   "cell_type": "code",
   "execution_count": 18,
   "metadata": {},
   "outputs": [],
   "source": [
    "pipe_dummy = Pipeline([('dummy', DummyClassifier(strategy='most_frequent'))], verbose=True)"
   ]
  },
  {
   "cell_type": "code",
   "execution_count": 19,
   "metadata": {},
   "outputs": [],
   "source": [
    "pipe_cv_mnnb = Pipeline(steps=[('cv', CountVectorizer()),\n",
    "                               ('mnnb', MultinomialNB())],\n",
    "                        verbose=True)"
   ]
  },
  {
   "cell_type": "code",
   "execution_count": 20,
   "metadata": {},
   "outputs": [
    {
     "name": "stdout",
     "output_type": "stream",
     "text": [
      "[Pipeline] ............. (step 1 of 1) Processing dummy, total=   0.0s\n",
      "[Pipeline] ............. (step 1 of 1) Processing dummy, total=   0.0s\n",
      "[Pipeline] ............. (step 1 of 1) Processing dummy, total=   0.0s\n",
      "[Pipeline] ............. (step 1 of 1) Processing dummy, total=   0.0s\n",
      "[Pipeline] ............. (step 1 of 1) Processing dummy, total=   0.0s\n",
      "The cv mean of Dummy is 0.5620654509624294\n"
     ]
    }
   ],
   "source": [
    "reportcrossval(pipe_dummy, 'Dummy', X_train, y_train)"
   ]
  },
  {
   "cell_type": "code",
   "execution_count": 21,
   "metadata": {
    "scrolled": true
   },
   "outputs": [
    {
     "name": "stdout",
     "output_type": "stream",
     "text": [
      "[Pipeline] ................ (step 1 of 2) Processing cv, total=   1.1s\n",
      "[Pipeline] .............. (step 2 of 2) Processing mnnb, total=   0.0s\n",
      "[Pipeline] ................ (step 1 of 2) Processing cv, total=   1.1s\n",
      "[Pipeline] .............. (step 2 of 2) Processing mnnb, total=   0.0s\n",
      "[Pipeline] ................ (step 1 of 2) Processing cv, total=   1.1s\n",
      "[Pipeline] .............. (step 2 of 2) Processing mnnb, total=   0.0s\n",
      "[Pipeline] ................ (step 1 of 2) Processing cv, total=   1.1s\n",
      "[Pipeline] .............. (step 2 of 2) Processing mnnb, total=   0.0s\n",
      "[Pipeline] ................ (step 1 of 2) Processing cv, total=   1.1s\n",
      "[Pipeline] .............. (step 2 of 2) Processing mnnb, total=   0.0s\n",
      "The cv mean of Default CV and MNNB is 0.9840377061709423\n"
     ]
    }
   ],
   "source": [
    "reportcrossval(pipe_cv_mnnb, 'Default CV and MNNB', X_train, y_train)"
   ]
  },
  {
   "cell_type": "markdown",
   "metadata": {},
   "source": [
    "Notes on this model:\n",
    "\n",
    "This is pretty good for a first simple model. So much so that I wanted to take a closer look at the output in order to guide my iterative model building process."
   ]
  },
  {
   "cell_type": "code",
   "execution_count": 22,
   "metadata": {
    "scrolled": true
   },
   "outputs": [
    {
     "name": "stdout",
     "output_type": "stream",
     "text": [
      "[Pipeline] ................ (step 1 of 2) Processing cv, total=   1.3s\n",
      "[Pipeline] .............. (step 2 of 2) Processing mnnb, total=   0.0s\n"
     ]
    },
    {
     "data": {
      "text/plain": [
       "Pipeline(steps=[('cv', CountVectorizer()), ('mnnb', MultinomialNB())],\n",
       "         verbose=True)"
      ]
     },
     "execution_count": 22,
     "metadata": {},
     "output_type": "execute_result"
    }
   ],
   "source": [
    "pipe_cv_mnnb.fit(X_train, y_train)"
   ]
  },
  {
   "cell_type": "markdown",
   "metadata": {},
   "source": [
    "#### Iteration one:\n",
    "\n",
    "For this stage I've decided to stick with CountVectorizor and try a few parameters. "
   ]
  },
  {
   "cell_type": "code",
   "execution_count": 65,
   "metadata": {},
   "outputs": [],
   "source": [
    "class LemmaTokenizer(object):\n",
    "    def __init__(self):\n",
    "        self.wnl = WordNetLemmatizer()\n",
    "    def __call__(self, articles):\n",
    "        return [self.wnl.lemmatize(t) for t in word_tokenize(articles)]\n",
    "\n",
    "basiclemmer = LemmaTokenizer()"
   ]
  },
  {
   "cell_type": "code",
   "execution_count": 66,
   "metadata": {},
   "outputs": [],
   "source": [
    "param_grid1 = {'cv__ngram_range': [(1, 1), (1, 2), (1, 3)],\n",
    "               'cv__stop_words': [None, nltk_sw, politcal_stop],\n",
    "               'cv__tokenizer' : [None, basiclemmer]}"
   ]
  },
  {
   "cell_type": "code",
   "execution_count": 69,
   "metadata": {},
   "outputs": [],
   "source": [
    "#grid1 = GridSearchCV(pipe_cv_mnnb, param_grid1, verbose=1, n_jobs = 4)"
   ]
  },
  {
   "cell_type": "code",
   "execution_count": 70,
   "metadata": {},
   "outputs": [
    {
     "name": "stdout",
     "output_type": "stream",
     "text": [
      "Fitting 5 folds for each of 18 candidates, totalling 90 fits\n"
     ]
    },
    {
     "name": "stderr",
     "output_type": "stream",
     "text": [
      "[Parallel(n_jobs=4)]: Using backend LokyBackend with 4 concurrent workers.\n",
      "[Parallel(n_jobs=4)]: Done  42 tasks      | elapsed:   13.9s\n",
      "[Parallel(n_jobs=4)]: Done  90 out of  90 | elapsed:   37.7s finished\n"
     ]
    },
    {
     "name": "stdout",
     "output_type": "stream",
     "text": [
      "[Pipeline] ................ (step 1 of 2) Processing cv, total=   4.6s\n",
      "[Pipeline] .............. (step 2 of 2) Processing mnnb, total=   0.0s\n"
     ]
    },
    {
     "data": {
      "text/plain": [
       "GridSearchCV(estimator=Pipeline(steps=[('cv', CountVectorizer()),\n",
       "                                       ('mnnb', MultinomialNB())],\n",
       "                                verbose=True),\n",
       "             n_jobs=4,\n",
       "             param_grid={'cv__ngram_range': [(1, 1), (1, 2), (1, 3)],\n",
       "                         'cv__stop_words': [None,\n",
       "                                            ['i', 'me', 'my', 'myself', 'we',\n",
       "                                             'our', 'ours', 'ourselves', 'you',\n",
       "                                             \"you're\", \"you've\", \"you'll\",\n",
       "                                             \"you'd\", 'your', 'yours',\n",
       "                                             'yourself', 'yourselves', 'he',\n",
       "                                             'him', 'his', 'himself', 'she',\n",
       "                                             \"she's\", 'her', 'hers', 'herself',\n",
       "                                             'it', \"it's\", 'its', 'itself', ...],\n",
       "                                            ['trump']],\n",
       "                         'cv__tokenizer': [None,\n",
       "                                           <__main__.LemmaTokenizer object at 0x0000019683F65B20>]},\n",
       "             verbose=1)"
      ]
     },
     "execution_count": 70,
     "metadata": {},
     "output_type": "execute_result"
    }
   ],
   "source": [
    "grid1.fit(X_train, y_train)"
   ]
  },
  {
   "cell_type": "code",
   "execution_count": 71,
   "metadata": {
    "scrolled": false
   },
   "outputs": [
    {
     "data": {
      "text/plain": [
       "Pipeline(steps=[('cv', CountVectorizer(ngram_range=(1, 3))),\n",
       "                ('mnnb', MultinomialNB())],\n",
       "         verbose=True)"
      ]
     },
     "metadata": {},
     "output_type": "display_data"
    },
    {
     "data": {
      "text/plain": [
       "0.9876233267387254"
      ]
     },
     "metadata": {},
     "output_type": "display_data"
    },
    {
     "data": {
      "text/plain": [
       "{'cv__ngram_range': (1, 3), 'cv__stop_words': None, 'cv__tokenizer': None}"
      ]
     },
     "metadata": {},
     "output_type": "display_data"
    }
   ],
   "source": [
    "display(grid1.best_estimator_)\n",
    "display(grid1.best_score_)\n",
    "display(grid1.best_params_)"
   ]
  },
  {
   "cell_type": "code",
   "execution_count": 95,
   "metadata": {},
   "outputs": [],
   "source": [
    "bestfromgrid1 = Pipeline(steps=[('cv', CountVectorizer(ngram_range =(1, 3))),\n",
    "                               ('mnnb', MultinomialNB())],\n",
    "                        verbose=True)"
   ]
  },
  {
   "cell_type": "code",
   "execution_count": 97,
   "metadata": {},
   "outputs": [
    {
     "name": "stdout",
     "output_type": "stream",
     "text": [
      "[Pipeline] ................ (step 1 of 2) Processing cv, total=   4.6s\n",
      "[Pipeline] .............. (step 2 of 2) Processing mnnb, total=   0.0s\n"
     ]
    },
    {
     "data": {
      "text/plain": [
       "Pipeline(steps=[('cv', CountVectorizer(ngram_range=(1, 3))),\n",
       "                ('mnnb', MultinomialNB())],\n",
       "         verbose=True)"
      ]
     },
     "execution_count": 97,
     "metadata": {},
     "output_type": "execute_result"
    }
   ],
   "source": [
    "bestfromgrid1.fit(X_train, y_train)"
   ]
  },
  {
   "cell_type": "code",
   "execution_count": null,
   "metadata": {},
   "outputs": [],
   "source": [
    " reportcrossval(bestofgrid1, 'Best CountVectorizer', X_train, y_train)"
   ]
  },
  {
   "cell_type": "markdown",
   "metadata": {},
   "source": [
    "The best model here is all default settings except for: \n",
    "\n",
    "Although we see a bump up in accuracy with 1-3 n-grams, the other adjustements seem not to be helping. Let's try a different sorting method. "
   ]
  },
  {
   "cell_type": "markdown",
   "metadata": {},
   "source": [
    "#### Random Forest\n",
    "\n",
    "A random forest classifier  "
   ]
  },
  {
   "cell_type": "code",
   "execution_count": 74,
   "metadata": {},
   "outputs": [],
   "source": [
    "pipe_cv_rf = Pipeline(steps=[('cv', CountVectorizer()), \n",
    "                            ('rf', RandomForestClassifier(random_state=42))],\n",
    "                            verbose=True)"
   ]
  },
  {
   "cell_type": "code",
   "execution_count": 76,
   "metadata": {},
   "outputs": [],
   "source": [
    "param_grid2 = {'cv__ngram_range': [(1, 1), (1, 2), (1, 3)],\n",
    "               'cv__stop_words': [None, nltk_sw],\n",
    "               'rf__n_estimators': [100,200,500]\n",
    "               }"
   ]
  },
  {
   "cell_type": "code",
   "execution_count": 77,
   "metadata": {},
   "outputs": [],
   "source": [
    "grid2 = GridSearchCV(pipe_cv_rf, param_grid2, verbose=1, n_jobs = 4)"
   ]
  },
  {
   "cell_type": "code",
   "execution_count": 78,
   "metadata": {},
   "outputs": [
    {
     "name": "stdout",
     "output_type": "stream",
     "text": [
      "Fitting 5 folds for each of 18 candidates, totalling 90 fits\n"
     ]
    },
    {
     "name": "stderr",
     "output_type": "stream",
     "text": [
      "[Parallel(n_jobs=4)]: Using backend LokyBackend with 4 concurrent workers.\n",
      "[Parallel(n_jobs=4)]: Done  42 tasks      | elapsed:  8.8min\n",
      "[Parallel(n_jobs=4)]: Done  90 out of  90 | elapsed: 30.9min finished\n"
     ]
    },
    {
     "name": "stdout",
     "output_type": "stream",
     "text": [
      "[Pipeline] ................ (step 1 of 2) Processing cv, total=   1.4s\n",
      "[Pipeline] ................ (step 2 of 2) Processing rf, total= 1.4min\n"
     ]
    },
    {
     "data": {
      "text/plain": [
       "GridSearchCV(estimator=Pipeline(steps=[('cv', CountVectorizer()),\n",
       "                                       ('rf',\n",
       "                                        RandomForestClassifier(random_state=42))],\n",
       "                                verbose=True),\n",
       "             n_jobs=4,\n",
       "             param_grid={'cv__ngram_range': [(1, 1), (1, 2), (1, 3)],\n",
       "                         'cv__stop_words': [None,\n",
       "                                            ['i', 'me', 'my', 'myself', 'we',\n",
       "                                             'our', 'ours', 'ourselves', 'you',\n",
       "                                             \"you're\", \"you've\", \"you'll\",\n",
       "                                             \"you'd\", 'your', 'yours',\n",
       "                                             'yourself', 'yourselves', 'he',\n",
       "                                             'him', 'his', 'himself', 'she',\n",
       "                                             \"she's\", 'her', 'hers', 'herself',\n",
       "                                             'it', \"it's\", 'its', 'itself', ...]],\n",
       "                         'rf__n_estimators': [100, 200, 500]},\n",
       "             verbose=1)"
      ]
     },
     "execution_count": 78,
     "metadata": {},
     "output_type": "execute_result"
    }
   ],
   "source": [
    "#grid2.fit(X_train, y_train)"
   ]
  },
  {
   "cell_type": "code",
   "execution_count": 94,
   "metadata": {},
   "outputs": [
    {
     "data": {
      "text/plain": [
       "Pipeline(steps=[('cv',\n",
       "                 CountVectorizer(stop_words=['i', 'me', 'my', 'myself', 'we',\n",
       "                                             'our', 'ours', 'ourselves', 'you',\n",
       "                                             \"you're\", \"you've\", \"you'll\",\n",
       "                                             \"you'd\", 'your', 'yours',\n",
       "                                             'yourself', 'yourselves', 'he',\n",
       "                                             'him', 'his', 'himself', 'she',\n",
       "                                             \"she's\", 'her', 'hers', 'herself',\n",
       "                                             'it', \"it's\", 'its', 'itself', ...])),\n",
       "                ('rf',\n",
       "                 RandomForestClassifier(n_estimators=500, random_state=42))],\n",
       "         verbose=True)"
      ]
     },
     "metadata": {},
     "output_type": "display_data"
    },
    {
     "data": {
      "text/plain": [
       "0.9937752873500962"
      ]
     },
     "metadata": {},
     "output_type": "display_data"
    },
    {
     "data": {
      "text/plain": [
       "{'cv__ngram_range': (1, 1),\n",
       " 'cv__stop_words': ['i',\n",
       "  'me',\n",
       "  'my',\n",
       "  'myself',\n",
       "  'we',\n",
       "  'our',\n",
       "  'ours',\n",
       "  'ourselves',\n",
       "  'you',\n",
       "  \"you're\",\n",
       "  \"you've\",\n",
       "  \"you'll\",\n",
       "  \"you'd\",\n",
       "  'your',\n",
       "  'yours',\n",
       "  'yourself',\n",
       "  'yourselves',\n",
       "  'he',\n",
       "  'him',\n",
       "  'his',\n",
       "  'himself',\n",
       "  'she',\n",
       "  \"she's\",\n",
       "  'her',\n",
       "  'hers',\n",
       "  'herself',\n",
       "  'it',\n",
       "  \"it's\",\n",
       "  'its',\n",
       "  'itself',\n",
       "  'they',\n",
       "  'them',\n",
       "  'their',\n",
       "  'theirs',\n",
       "  'themselves',\n",
       "  'what',\n",
       "  'which',\n",
       "  'who',\n",
       "  'whom',\n",
       "  'this',\n",
       "  'that',\n",
       "  \"that'll\",\n",
       "  'these',\n",
       "  'those',\n",
       "  'am',\n",
       "  'is',\n",
       "  'are',\n",
       "  'was',\n",
       "  'were',\n",
       "  'be',\n",
       "  'been',\n",
       "  'being',\n",
       "  'have',\n",
       "  'has',\n",
       "  'had',\n",
       "  'having',\n",
       "  'do',\n",
       "  'does',\n",
       "  'did',\n",
       "  'doing',\n",
       "  'a',\n",
       "  'an',\n",
       "  'the',\n",
       "  'and',\n",
       "  'but',\n",
       "  'if',\n",
       "  'or',\n",
       "  'because',\n",
       "  'as',\n",
       "  'until',\n",
       "  'while',\n",
       "  'of',\n",
       "  'at',\n",
       "  'by',\n",
       "  'for',\n",
       "  'with',\n",
       "  'about',\n",
       "  'against',\n",
       "  'between',\n",
       "  'into',\n",
       "  'through',\n",
       "  'during',\n",
       "  'before',\n",
       "  'after',\n",
       "  'above',\n",
       "  'below',\n",
       "  'to',\n",
       "  'from',\n",
       "  'up',\n",
       "  'down',\n",
       "  'in',\n",
       "  'out',\n",
       "  'on',\n",
       "  'off',\n",
       "  'over',\n",
       "  'under',\n",
       "  'again',\n",
       "  'further',\n",
       "  'then',\n",
       "  'once',\n",
       "  'here',\n",
       "  'there',\n",
       "  'when',\n",
       "  'where',\n",
       "  'why',\n",
       "  'how',\n",
       "  'all',\n",
       "  'any',\n",
       "  'both',\n",
       "  'each',\n",
       "  'few',\n",
       "  'more',\n",
       "  'most',\n",
       "  'other',\n",
       "  'some',\n",
       "  'such',\n",
       "  'no',\n",
       "  'nor',\n",
       "  'not',\n",
       "  'only',\n",
       "  'own',\n",
       "  'same',\n",
       "  'so',\n",
       "  'than',\n",
       "  'too',\n",
       "  'very',\n",
       "  's',\n",
       "  't',\n",
       "  'can',\n",
       "  'will',\n",
       "  'just',\n",
       "  'don',\n",
       "  \"don't\",\n",
       "  'should',\n",
       "  \"should've\",\n",
       "  'now',\n",
       "  'd',\n",
       "  'll',\n",
       "  'm',\n",
       "  'o',\n",
       "  're',\n",
       "  've',\n",
       "  'y',\n",
       "  'ain',\n",
       "  'aren',\n",
       "  \"aren't\",\n",
       "  'couldn',\n",
       "  \"couldn't\",\n",
       "  'didn',\n",
       "  \"didn't\",\n",
       "  'doesn',\n",
       "  \"doesn't\",\n",
       "  'hadn',\n",
       "  \"hadn't\",\n",
       "  'hasn',\n",
       "  \"hasn't\",\n",
       "  'haven',\n",
       "  \"haven't\",\n",
       "  'isn',\n",
       "  \"isn't\",\n",
       "  'ma',\n",
       "  'mightn',\n",
       "  \"mightn't\",\n",
       "  'mustn',\n",
       "  \"mustn't\",\n",
       "  'needn',\n",
       "  \"needn't\",\n",
       "  'shan',\n",
       "  \"shan't\",\n",
       "  'shouldn',\n",
       "  \"shouldn't\",\n",
       "  'wasn',\n",
       "  \"wasn't\",\n",
       "  'weren',\n",
       "  \"weren't\",\n",
       "  'won',\n",
       "  \"won't\",\n",
       "  'wouldn',\n",
       "  \"wouldn't\"],\n",
       " 'rf__n_estimators': 500}"
      ]
     },
     "metadata": {},
     "output_type": "display_data"
    }
   ],
   "source": [
    "display(grid2.best_estimator_)\n",
    "display(grid2.best_score_)\n",
    "display(grid2.best_params_)"
   ]
  },
  {
   "cell_type": "raw",
   "metadata": {},
   "source": [
    "Very accurate! Much slower, but very accurate. "
   ]
  },
  {
   "cell_type": "code",
   "execution_count": 92,
   "metadata": {},
   "outputs": [
    {
     "name": "stdout",
     "output_type": "stream",
     "text": [
      "[Pipeline] ................ (step 1 of 2) Processing cv, total=   1.3s\n",
      "[Pipeline] ................ (step 2 of 2) Processing rf, total= 1.4min\n"
     ]
    },
    {
     "data": {
      "text/plain": [
       "Pipeline(steps=[('cv',\n",
       "                 CountVectorizer(stop_words=['i', 'me', 'my', 'myself', 'we',\n",
       "                                             'our', 'ours', 'ourselves', 'you',\n",
       "                                             \"you're\", \"you've\", \"you'll\",\n",
       "                                             \"you'd\", 'your', 'yours',\n",
       "                                             'yourself', 'yourselves', 'he',\n",
       "                                             'him', 'his', 'himself', 'she',\n",
       "                                             \"she's\", 'her', 'hers', 'herself',\n",
       "                                             'it', \"it's\", 'its', 'itself', ...])),\n",
       "                ('rf',\n",
       "                 RandomForestClassifier(n_estimators=500, random_state=42))],\n",
       "         verbose=True)"
      ]
     },
     "execution_count": 92,
     "metadata": {},
     "output_type": "execute_result"
    }
   ],
   "source": [
    "bestofgrid2 = Pipeline(steps=[('cv', CountVectorizer(stop_words = nltk_sw)), \n",
    "                            ('rf', RandomForestClassifier(n_estimators = 500, random_state=42))],\n",
    "                            verbose=True)\n",
    "bestofgrid2.fit(X_train, y_train)"
   ]
  },
  {
   "cell_type": "code",
   "execution_count": 96,
   "metadata": {
    "collapsed": true
   },
   "outputs": [
    {
     "name": "stdout",
     "output_type": "stream",
     "text": [
      "[Pipeline] ................ (step 1 of 2) Processing cv, total=   1.1s\n",
      "[Pipeline] ................ (step 2 of 2) Processing rf, total= 1.0min\n",
      "[Pipeline] ................ (step 1 of 2) Processing cv, total=   1.1s\n",
      "[Pipeline] ................ (step 2 of 2) Processing rf, total=  59.7s\n",
      "[Pipeline] ................ (step 1 of 2) Processing cv, total=   1.1s\n",
      "[Pipeline] ................ (step 2 of 2) Processing rf, total= 1.0min\n",
      "[Pipeline] ................ (step 1 of 2) Processing cv, total=   1.1s\n",
      "[Pipeline] ................ (step 2 of 2) Processing rf, total= 1.0min\n",
      "[Pipeline] ................ (step 1 of 2) Processing cv, total=   1.1s\n",
      "[Pipeline] ................ (step 2 of 2) Processing rf, total= 1.0min\n",
      "The cv mean of Best RandomForestClassifier is 0.9937752873500962\n"
     ]
    }
   ],
   "source": [
    " reportcrossval(bestofgrid2, 'Best RandomForestClassifier', X_train, y_train)"
   ]
  },
  {
   "cell_type": "code",
   "execution_count": 98,
   "metadata": {},
   "outputs": [
    {
     "name": "stdout",
     "output_type": "stream",
     "text": [
      "0.9942120781915474\n"
     ]
    }
   ],
   "source": [
    "i = bestofgrid2.score(X_test, y_test)\n",
    "print(i)"
   ]
  },
  {
   "cell_type": "markdown",
   "metadata": {},
   "source": [
    "#### TF-IDF\n",
    "\n",
    "TF-IDF is an alternate way to vectorize text data. Rather than simply counting the number of times a word appears in a document, it compares how often a word appears in a document in relation to how often that word appears in the whole dataset. That is, a word that appears many times in a document but also many times in the corpus as a whole will be given less importance than a word that appears many times in that document but rarely appears in the overall corpus. Below, we paired this vectorizer with the MNNB model we've used before."
   ]
  },
  {
   "cell_type": "code",
   "execution_count": 79,
   "metadata": {},
   "outputs": [],
   "source": [
    "pipe_tfidf_mnnb = Pipeline(steps=[('tfidf', TfidfVectorizer()), \n",
    "                                  ('mnnb', MultinomialNB())],\n",
    "                                  verbose=True)"
   ]
  },
  {
   "cell_type": "code",
   "execution_count": 82,
   "metadata": {},
   "outputs": [],
   "source": [
    "param_grid3 = {'tfidf__ngram_range': [(1, 1), (1, 2), (1, 3)],\n",
    "                'tfidf__stop_words': [None, nltk_sw, politcal_stop]}"
   ]
  },
  {
   "cell_type": "code",
   "execution_count": 83,
   "metadata": {},
   "outputs": [],
   "source": [
    "grid3 = GridSearchCV(pipe_tfidf_mnnb, param_grid3, verbose=1, n_jobs = 4)"
   ]
  },
  {
   "cell_type": "code",
   "execution_count": 84,
   "metadata": {},
   "outputs": [
    {
     "name": "stdout",
     "output_type": "stream",
     "text": [
      "Fitting 5 folds for each of 9 candidates, totalling 45 fits\n"
     ]
    },
    {
     "name": "stderr",
     "output_type": "stream",
     "text": [
      "[Parallel(n_jobs=4)]: Using backend LokyBackend with 4 concurrent workers.\n",
      "[Parallel(n_jobs=4)]: Done  45 out of  45 | elapsed:   42.2s finished\n"
     ]
    },
    {
     "name": "stdout",
     "output_type": "stream",
     "text": [
      "[Pipeline] ............. (step 1 of 2) Processing tfidf, total=   2.8s\n",
      "[Pipeline] .............. (step 2 of 2) Processing mnnb, total=   0.0s\n"
     ]
    },
    {
     "data": {
      "text/plain": [
       "GridSearchCV(estimator=Pipeline(steps=[('tfidf', TfidfVectorizer()),\n",
       "                                       ('mnnb', MultinomialNB())],\n",
       "                                verbose=True),\n",
       "             n_jobs=4,\n",
       "             param_grid={'tfidf__ngram_range': [(1, 1), (1, 2), (1, 3)],\n",
       "                         'tfidf__stop_words': [None,\n",
       "                                               ['i', 'me', 'my', 'myself', 'we',\n",
       "                                                'our', 'ours', 'ourselves',\n",
       "                                                'you', \"you're\", \"you've\",\n",
       "                                                \"you'll\", \"you'd\", 'your',\n",
       "                                                'yours', 'yourself',\n",
       "                                                'yourselves', 'he', 'him',\n",
       "                                                'his', 'himself', 'she',\n",
       "                                                \"she's\", 'her', 'hers',\n",
       "                                                'herself', 'it', \"it's\", 'its',\n",
       "                                                'itself', ...],\n",
       "                                               ['trump']]},\n",
       "             verbose=1)"
      ]
     },
     "execution_count": 84,
     "metadata": {},
     "output_type": "execute_result"
    }
   ],
   "source": [
    "#grid3.fit(X_train, y_train)"
   ]
  },
  {
   "cell_type": "code",
   "execution_count": 85,
   "metadata": {},
   "outputs": [
    {
     "data": {
      "text/plain": [
       "Pipeline(steps=[('tfidf',\n",
       "                 TfidfVectorizer(ngram_range=(1, 2),\n",
       "                                 stop_words=['i', 'me', 'my', 'myself', 'we',\n",
       "                                             'our', 'ours', 'ourselves', 'you',\n",
       "                                             \"you're\", \"you've\", \"you'll\",\n",
       "                                             \"you'd\", 'your', 'yours',\n",
       "                                             'yourself', 'yourselves', 'he',\n",
       "                                             'him', 'his', 'himself', 'she',\n",
       "                                             \"she's\", 'her', 'hers', 'herself',\n",
       "                                             'it', \"it's\", 'its', 'itself', ...])),\n",
       "                ('mnnb', MultinomialNB())],\n",
       "         verbose=True)"
      ]
     },
     "metadata": {},
     "output_type": "display_data"
    },
    {
     "data": {
      "text/plain": [
       "0.9816169778674328"
      ]
     },
     "metadata": {},
     "output_type": "display_data"
    },
    {
     "data": {
      "text/plain": [
       "{'tfidf__ngram_range': (1, 2),\n",
       " 'tfidf__stop_words': ['i',\n",
       "  'me',\n",
       "  'my',\n",
       "  'myself',\n",
       "  'we',\n",
       "  'our',\n",
       "  'ours',\n",
       "  'ourselves',\n",
       "  'you',\n",
       "  \"you're\",\n",
       "  \"you've\",\n",
       "  \"you'll\",\n",
       "  \"you'd\",\n",
       "  'your',\n",
       "  'yours',\n",
       "  'yourself',\n",
       "  'yourselves',\n",
       "  'he',\n",
       "  'him',\n",
       "  'his',\n",
       "  'himself',\n",
       "  'she',\n",
       "  \"she's\",\n",
       "  'her',\n",
       "  'hers',\n",
       "  'herself',\n",
       "  'it',\n",
       "  \"it's\",\n",
       "  'its',\n",
       "  'itself',\n",
       "  'they',\n",
       "  'them',\n",
       "  'their',\n",
       "  'theirs',\n",
       "  'themselves',\n",
       "  'what',\n",
       "  'which',\n",
       "  'who',\n",
       "  'whom',\n",
       "  'this',\n",
       "  'that',\n",
       "  \"that'll\",\n",
       "  'these',\n",
       "  'those',\n",
       "  'am',\n",
       "  'is',\n",
       "  'are',\n",
       "  'was',\n",
       "  'were',\n",
       "  'be',\n",
       "  'been',\n",
       "  'being',\n",
       "  'have',\n",
       "  'has',\n",
       "  'had',\n",
       "  'having',\n",
       "  'do',\n",
       "  'does',\n",
       "  'did',\n",
       "  'doing',\n",
       "  'a',\n",
       "  'an',\n",
       "  'the',\n",
       "  'and',\n",
       "  'but',\n",
       "  'if',\n",
       "  'or',\n",
       "  'because',\n",
       "  'as',\n",
       "  'until',\n",
       "  'while',\n",
       "  'of',\n",
       "  'at',\n",
       "  'by',\n",
       "  'for',\n",
       "  'with',\n",
       "  'about',\n",
       "  'against',\n",
       "  'between',\n",
       "  'into',\n",
       "  'through',\n",
       "  'during',\n",
       "  'before',\n",
       "  'after',\n",
       "  'above',\n",
       "  'below',\n",
       "  'to',\n",
       "  'from',\n",
       "  'up',\n",
       "  'down',\n",
       "  'in',\n",
       "  'out',\n",
       "  'on',\n",
       "  'off',\n",
       "  'over',\n",
       "  'under',\n",
       "  'again',\n",
       "  'further',\n",
       "  'then',\n",
       "  'once',\n",
       "  'here',\n",
       "  'there',\n",
       "  'when',\n",
       "  'where',\n",
       "  'why',\n",
       "  'how',\n",
       "  'all',\n",
       "  'any',\n",
       "  'both',\n",
       "  'each',\n",
       "  'few',\n",
       "  'more',\n",
       "  'most',\n",
       "  'other',\n",
       "  'some',\n",
       "  'such',\n",
       "  'no',\n",
       "  'nor',\n",
       "  'not',\n",
       "  'only',\n",
       "  'own',\n",
       "  'same',\n",
       "  'so',\n",
       "  'than',\n",
       "  'too',\n",
       "  'very',\n",
       "  's',\n",
       "  't',\n",
       "  'can',\n",
       "  'will',\n",
       "  'just',\n",
       "  'don',\n",
       "  \"don't\",\n",
       "  'should',\n",
       "  \"should've\",\n",
       "  'now',\n",
       "  'd',\n",
       "  'll',\n",
       "  'm',\n",
       "  'o',\n",
       "  're',\n",
       "  've',\n",
       "  'y',\n",
       "  'ain',\n",
       "  'aren',\n",
       "  \"aren't\",\n",
       "  'couldn',\n",
       "  \"couldn't\",\n",
       "  'didn',\n",
       "  \"didn't\",\n",
       "  'doesn',\n",
       "  \"doesn't\",\n",
       "  'hadn',\n",
       "  \"hadn't\",\n",
       "  'hasn',\n",
       "  \"hasn't\",\n",
       "  'haven',\n",
       "  \"haven't\",\n",
       "  'isn',\n",
       "  \"isn't\",\n",
       "  'ma',\n",
       "  'mightn',\n",
       "  \"mightn't\",\n",
       "  'mustn',\n",
       "  \"mustn't\",\n",
       "  'needn',\n",
       "  \"needn't\",\n",
       "  'shan',\n",
       "  \"shan't\",\n",
       "  'shouldn',\n",
       "  \"shouldn't\",\n",
       "  'wasn',\n",
       "  \"wasn't\",\n",
       "  'weren',\n",
       "  \"weren't\",\n",
       "  'won',\n",
       "  \"won't\",\n",
       "  'wouldn',\n",
       "  \"wouldn't\"]}"
      ]
     },
     "metadata": {},
     "output_type": "display_data"
    }
   ],
   "source": [
    "display(grid3.best_estimator_)\n",
    "display(grid3.best_score_)\n",
    "display(grid3.best_params_)"
   ]
  },
  {
   "cell_type": "code",
   "execution_count": 90,
   "metadata": {},
   "outputs": [
    {
     "name": "stdout",
     "output_type": "stream",
     "text": [
      "[Pipeline] ............. (step 1 of 2) Processing tfidf, total=   2.7s\n",
      "[Pipeline] .............. (step 2 of 2) Processing mnnb, total=   0.0s\n"
     ]
    },
    {
     "data": {
      "text/plain": [
       "Pipeline(steps=[('tfidf',\n",
       "                 TfidfVectorizer(ngram_range=(1, 2),\n",
       "                                 stop_words=['i', 'me', 'my', 'myself', 'we',\n",
       "                                             'our', 'ours', 'ourselves', 'you',\n",
       "                                             \"you're\", \"you've\", \"you'll\",\n",
       "                                             \"you'd\", 'your', 'yours',\n",
       "                                             'yourself', 'yourselves', 'he',\n",
       "                                             'him', 'his', 'himself', 'she',\n",
       "                                             \"she's\", 'her', 'hers', 'herself',\n",
       "                                             'it', \"it's\", 'its', 'itself', ...])),\n",
       "                ('mnnb', MultinomialNB())],\n",
       "         verbose=True)"
      ]
     },
     "execution_count": 90,
     "metadata": {},
     "output_type": "execute_result"
    }
   ],
   "source": [
    "bestofgrid3 = Pipeline([('tfidf', TfidfVectorizer(ngram_range =(1,2),stop_words = nltk_sw)), \n",
    "                    ('mnnb', MultinomialNB())],\n",
    "                   verbose=True)\n",
    "bestofgrid3.fit(X_train, y_train)"
   ]
  },
  {
   "cell_type": "code",
   "execution_count": 91,
   "metadata": {},
   "outputs": [
    {
     "name": "stdout",
     "output_type": "stream",
     "text": [
      "[Pipeline] ............. (step 1 of 2) Processing tfidf, total=   2.1s\n",
      "[Pipeline] .............. (step 2 of 2) Processing mnnb, total=   0.0s\n",
      "[Pipeline] ............. (step 1 of 2) Processing tfidf, total=   2.1s\n",
      "[Pipeline] .............. (step 2 of 2) Processing mnnb, total=   0.0s\n",
      "[Pipeline] ............. (step 1 of 2) Processing tfidf, total=   2.1s\n",
      "[Pipeline] .............. (step 2 of 2) Processing mnnb, total=   0.0s\n",
      "[Pipeline] ............. (step 1 of 2) Processing tfidf, total=   2.1s\n",
      "[Pipeline] .............. (step 2 of 2) Processing mnnb, total=   0.0s\n",
      "[Pipeline] ............. (step 1 of 2) Processing tfidf, total=   2.1s\n",
      "[Pipeline] .............. (step 2 of 2) Processing mnnb, total=   0.0s\n",
      "The cv mean of Best TFIDF is 0.9816169778674328\n"
     ]
    }
   ],
   "source": [
    " reportcrossval(bestofgrid3, 'Best TFIDF', X_train, y_train)"
   ]
  },
  {
   "cell_type": "code",
   "execution_count": null,
   "metadata": {},
   "outputs": [],
   "source": []
  },
  {
   "cell_type": "markdown",
   "metadata": {},
   "source": [
    "#### Analysing the errors\n"
   ]
  },
  {
   "cell_type": "code",
   "execution_count": 100,
   "metadata": {},
   "outputs": [],
   "source": [
    "y_pred = bestfromgrid1.predict(X_test)"
   ]
  },
  {
   "cell_type": "code",
   "execution_count": 101,
   "metadata": {},
   "outputs": [],
   "source": [
    "cm = confusion_matrix(y_test, y_pred)"
   ]
  },
  {
   "cell_type": "code",
   "execution_count": 102,
   "metadata": {},
   "outputs": [],
   "source": [
    "cmd = ConfusionMatrixDisplay(cm, display_labels =['Not Misinformation', 'Misinformation'] )"
   ]
  },
  {
   "cell_type": "code",
   "execution_count": 131,
   "metadata": {
    "scrolled": true
   },
   "outputs": [
    {
     "data": {
      "image/png": "[encoded data removed]",
      "text/plain": [
       "<Figure size 432x288 with 2 Axes>"
      ]
     },
     "metadata": {
      "needs_background": "light"
     },
     "output_type": "display_data"
    }
   ],
   "source": [
    "cmd.plot();"
   ]
  },
  {
   "cell_type": "code",
   "execution_count": 223,
   "metadata": {
    "scrolled": true
   },
   "outputs": [
    {
     "data": {
      "text/plain": [
       "0.9868691685543176"
      ]
     },
     "execution_count": 223,
     "metadata": {},
     "output_type": "execute_result"
    }
   ],
   "source": [
    "roc_auc_score(y_test, y_pred)"
   ]
  },
  {
   "cell_type": "code",
   "execution_count": 171,
   "metadata": {},
   "outputs": [],
   "source": [
    "results_df = pd.DataFrame(y_test)\n",
    "\n"
   ]
  },
  {
   "cell_type": "code",
   "execution_count": 172,
   "metadata": {},
   "outputs": [
    {
     "data": {
      "text/html": [
       "<div>\n",
       "<style scoped>\n",
       "    .dataframe tbody tr th:only-of-type {\n",
       "        vertical-align: middle;\n",
       "    }\n",
       "\n",
       "    .dataframe tbody tr th {\n",
       "        vertical-align: top;\n",
       "    }\n",
       "\n",
       "    .dataframe thead th {\n",
       "        text-align: right;\n",
       "    }\n",
       "</style>\n",
       "<table border=\"1\" class=\"dataframe\">\n",
       "  <thead>\n",
       "    <tr style=\"text-align: right;\">\n",
       "      <th></th>\n",
       "      <th>target</th>\n",
       "    </tr>\n",
       "    <tr>\n",
       "      <th>tweet_id</th>\n",
       "      <th></th>\n",
       "    </tr>\n",
       "  </thead>\n",
       "  <tbody>\n",
       "    <tr>\n",
       "      <th>789335093949050880.0</th>\n",
       "      <td>0</td>\n",
       "    </tr>\n",
       "    <tr>\n",
       "      <th>789331811981664256.0</th>\n",
       "      <td>0</td>\n",
       "    </tr>\n",
       "    <tr>\n",
       "      <th>1329829814249922560.0</th>\n",
       "      <td>1</td>\n",
       "    </tr>\n",
       "    <tr>\n",
       "      <th>789286228856274944.0</th>\n",
       "      <td>0</td>\n",
       "    </tr>\n",
       "    <tr>\n",
       "      <th>1324622713193865216.0</th>\n",
       "      <td>1</td>\n",
       "    </tr>\n",
       "    <tr>\n",
       "      <th>...</th>\n",
       "      <td>...</td>\n",
       "    </tr>\n",
       "    <tr>\n",
       "      <th>789263931260882944.0</th>\n",
       "      <td>0</td>\n",
       "    </tr>\n",
       "    <tr>\n",
       "      <th>789407616946479104.0</th>\n",
       "      <td>0</td>\n",
       "    </tr>\n",
       "    <tr>\n",
       "      <th>1325414016324259840.0</th>\n",
       "      <td>1</td>\n",
       "    </tr>\n",
       "    <tr>\n",
       "      <th>789320732803211264.0</th>\n",
       "      <td>0</td>\n",
       "    </tr>\n",
       "    <tr>\n",
       "      <th>789302561127866368.0</th>\n",
       "      <td>0</td>\n",
       "    </tr>\n",
       "  </tbody>\n",
       "</table>\n",
       "<p>18314 rows × 1 columns</p>\n",
       "</div>"
      ],
      "text/plain": [
       "                       target\n",
       "tweet_id                     \n",
       "789335093949050880.0        0\n",
       "789331811981664256.0        0\n",
       "1329829814249922560.0       1\n",
       "789286228856274944.0        0\n",
       "1324622713193865216.0       1\n",
       "...                       ...\n",
       "789263931260882944.0        0\n",
       "789407616946479104.0        0\n",
       "1325414016324259840.0       1\n",
       "789320732803211264.0        0\n",
       "789302561127866368.0        0\n",
       "\n",
       "[18314 rows x 1 columns]"
      ]
     },
     "execution_count": 172,
     "metadata": {},
     "output_type": "execute_result"
    }
   ],
   "source": [
    "results_df"
   ]
  },
  {
   "cell_type": "code",
   "execution_count": 173,
   "metadata": {
    "scrolled": true
   },
   "outputs": [],
   "source": [
    "results_df['tweet_text'] = X_test"
   ]
  },
  {
   "cell_type": "code",
   "execution_count": 174,
   "metadata": {
    "scrolled": true
   },
   "outputs": [
    {
     "data": {
      "text/html": [
       "<div>\n",
       "<style scoped>\n",
       "    .dataframe tbody tr th:only-of-type {\n",
       "        vertical-align: middle;\n",
       "    }\n",
       "\n",
       "    .dataframe tbody tr th {\n",
       "        vertical-align: top;\n",
       "    }\n",
       "\n",
       "    .dataframe thead th {\n",
       "        text-align: right;\n",
       "    }\n",
       "</style>\n",
       "<table border=\"1\" class=\"dataframe\">\n",
       "  <thead>\n",
       "    <tr style=\"text-align: right;\">\n",
       "      <th></th>\n",
       "      <th>target</th>\n",
       "      <th>tweet_text</th>\n",
       "    </tr>\n",
       "    <tr>\n",
       "      <th>tweet_id</th>\n",
       "      <th></th>\n",
       "      <th></th>\n",
       "    </tr>\n",
       "  </thead>\n",
       "  <tbody>\n",
       "    <tr>\n",
       "      <th>789335093949050880.0</th>\n",
       "      <td>0</td>\n",
       "      <td>US-Wahl kompakt: Trump wird bei Benefiz-Dinner...</td>\n",
       "    </tr>\n",
       "    <tr>\n",
       "      <th>789331811981664256.0</th>\n",
       "      <td>0</td>\n",
       "      <td>RT @ObamaMalik: Trump family loves all people ...</td>\n",
       "    </tr>\n",
       "    <tr>\n",
       "      <th>1329829814249922560.0</th>\n",
       "      <td>1</td>\n",
       "      <td>@Timodc @BillKristol @Nate_Cohn @RVAT2020 I’m ...</td>\n",
       "    </tr>\n",
       "    <tr>\n",
       "      <th>789286228856274944.0</th>\n",
       "      <td>0</td>\n",
       "      <td>How Trump Will Create More ‘Bad Hombres’: The ...</td>\n",
       "    </tr>\n",
       "    <tr>\n",
       "      <th>1324622713193865216.0</th>\n",
       "      <td>1</td>\n",
       "      <td>While evidence of VOTER FRAUD is coming in, th...</td>\n",
       "    </tr>\n",
       "    <tr>\n",
       "      <th>...</th>\n",
       "      <td>...</td>\n",
       "      <td>...</td>\n",
       "    </tr>\n",
       "    <tr>\n",
       "      <th>789263931260882944.0</th>\n",
       "      <td>0</td>\n",
       "      <td>RT @sageboggs: I miss the window in this elect...</td>\n",
       "    </tr>\n",
       "    <tr>\n",
       "      <th>789407616946479104.0</th>\n",
       "      <td>0</td>\n",
       "      <td>RT @QuentinKidd: Women, NOVA, coll educ whites...</td>\n",
       "    </tr>\n",
       "    <tr>\n",
       "      <th>1325414016324259840.0</th>\n",
       "      <td>1</td>\n",
       "      <td>That Time When Joe Biden Bragged About Voter F...</td>\n",
       "    </tr>\n",
       "    <tr>\n",
       "      <th>789320732803211264.0</th>\n",
       "      <td>0</td>\n",
       "      <td>RT @acompton44: Another accuser steps forward ...</td>\n",
       "    </tr>\n",
       "    <tr>\n",
       "      <th>789302561127866368.0</th>\n",
       "      <td>0</td>\n",
       "      <td>RT @ANOMALY1: \"2 THE BRAVEST WOMAN I KNOW\"Form...</td>\n",
       "    </tr>\n",
       "  </tbody>\n",
       "</table>\n",
       "<p>18314 rows × 2 columns</p>\n",
       "</div>"
      ],
      "text/plain": [
       "                       target  \\\n",
       "tweet_id                        \n",
       "789335093949050880.0        0   \n",
       "789331811981664256.0        0   \n",
       "1329829814249922560.0       1   \n",
       "789286228856274944.0        0   \n",
       "1324622713193865216.0       1   \n",
       "...                       ...   \n",
       "789263931260882944.0        0   \n",
       "789407616946479104.0        0   \n",
       "1325414016324259840.0       1   \n",
       "789320732803211264.0        0   \n",
       "789302561127866368.0        0   \n",
       "\n",
       "                                                              tweet_text  \n",
       "tweet_id                                                                  \n",
       "789335093949050880.0   US-Wahl kompakt: Trump wird bei Benefiz-Dinner...  \n",
       "789331811981664256.0   RT @ObamaMalik: Trump family loves all people ...  \n",
       "1329829814249922560.0  @Timodc @BillKristol @Nate_Cohn @RVAT2020 I’m ...  \n",
       "789286228856274944.0   How Trump Will Create More ‘Bad Hombres’: The ...  \n",
       "1324622713193865216.0  While evidence of VOTER FRAUD is coming in, th...  \n",
       "...                                                                  ...  \n",
       "789263931260882944.0   RT @sageboggs: I miss the window in this elect...  \n",
       "789407616946479104.0   RT @QuentinKidd: Women, NOVA, coll educ whites...  \n",
       "1325414016324259840.0  That Time When Joe Biden Bragged About Voter F...  \n",
       "789320732803211264.0   RT @acompton44: Another accuser steps forward ...  \n",
       "789302561127866368.0   RT @ANOMALY1: \"2 THE BRAVEST WOMAN I KNOW\"Form...  \n",
       "\n",
       "[18314 rows x 2 columns]"
      ]
     },
     "execution_count": 174,
     "metadata": {},
     "output_type": "execute_result"
    }
   ],
   "source": [
    "results_df"
   ]
  },
  {
   "cell_type": "code",
   "execution_count": 175,
   "metadata": {},
   "outputs": [],
   "source": [
    "y_pred_proba = bestfromgrid1.predict_proba(X_test)\n"
   ]
  },
  {
   "cell_type": "code",
   "execution_count": 176,
   "metadata": {},
   "outputs": [
    {
     "data": {
      "text/plain": [
       "array([1., 1., 0., ..., 0., 1., 1.])"
      ]
     },
     "execution_count": 176,
     "metadata": {},
     "output_type": "execute_result"
    }
   ],
   "source": [
    "y_pred_proba = pd.DataFrame(data = y_pred_proba, columns = ['pred0','pred1'])\n",
    "y_pred_proba['pred0'].values"
   ]
  },
  {
   "cell_type": "code",
   "execution_count": 177,
   "metadata": {
    "scrolled": true
   },
   "outputs": [],
   "source": [
    "results_df.insert(loc = 2, column = 'pred0' , value = y_pred_proba['pred0'].values)\n",
    "results_df.insert(loc = 3, column = 'pred1' , value = y_pred_proba['pred1'].values)\n",
    "results_df.insert(loc = 4, column = 'pred' , value = y_pred.values)"
   ]
  },
  {
   "cell_type": "code",
   "execution_count": 178,
   "metadata": {},
   "outputs": [
    {
     "data": {
      "text/html": [
       "<div>\n",
       "<style scoped>\n",
       "    .dataframe tbody tr th:only-of-type {\n",
       "        vertical-align: middle;\n",
       "    }\n",
       "\n",
       "    .dataframe tbody tr th {\n",
       "        vertical-align: top;\n",
       "    }\n",
       "\n",
       "    .dataframe thead th {\n",
       "        text-align: right;\n",
       "    }\n",
       "</style>\n",
       "<table border=\"1\" class=\"dataframe\">\n",
       "  <thead>\n",
       "    <tr style=\"text-align: right;\">\n",
       "      <th></th>\n",
       "      <th>target</th>\n",
       "      <th>tweet_text</th>\n",
       "      <th>pred0</th>\n",
       "      <th>pred1</th>\n",
       "      <th>pred</th>\n",
       "    </tr>\n",
       "    <tr>\n",
       "      <th>tweet_id</th>\n",
       "      <th></th>\n",
       "      <th></th>\n",
       "      <th></th>\n",
       "      <th></th>\n",
       "      <th></th>\n",
       "    </tr>\n",
       "  </thead>\n",
       "  <tbody>\n",
       "    <tr>\n",
       "      <th>789335093949050880.0</th>\n",
       "      <td>0</td>\n",
       "      <td>US-Wahl kompakt: Trump wird bei Benefiz-Dinner...</td>\n",
       "      <td>1.00000000000000000000e+00</td>\n",
       "      <td>1.23422569226399562225e-14</td>\n",
       "      <td>0</td>\n",
       "    </tr>\n",
       "    <tr>\n",
       "      <th>789331811981664256.0</th>\n",
       "      <td>0</td>\n",
       "      <td>RT @ObamaMalik: Trump family loves all people ...</td>\n",
       "      <td>1.00000000000000000000e+00</td>\n",
       "      <td>1.82132828108059110733e-47</td>\n",
       "      <td>0</td>\n",
       "    </tr>\n",
       "    <tr>\n",
       "      <th>1329829814249922560.0</th>\n",
       "      <td>1</td>\n",
       "      <td>@Timodc @BillKristol @Nate_Cohn @RVAT2020 I’m ...</td>\n",
       "      <td>1.55145822407455187937e-204</td>\n",
       "      <td>1.00000000000000000000e+00</td>\n",
       "      <td>1</td>\n",
       "    </tr>\n",
       "    <tr>\n",
       "      <th>789286228856274944.0</th>\n",
       "      <td>0</td>\n",
       "      <td>How Trump Will Create More ‘Bad Hombres’: The ...</td>\n",
       "      <td>9.99999999986755483405e-01</td>\n",
       "      <td>1.32377405362839887649e-11</td>\n",
       "      <td>0</td>\n",
       "    </tr>\n",
       "    <tr>\n",
       "      <th>1324622713193865216.0</th>\n",
       "      <td>1</td>\n",
       "      <td>While evidence of VOTER FRAUD is coming in, th...</td>\n",
       "      <td>4.47245925006609331101e-126</td>\n",
       "      <td>1.00000000000000000000e+00</td>\n",
       "      <td>1</td>\n",
       "    </tr>\n",
       "    <tr>\n",
       "      <th>...</th>\n",
       "      <td>...</td>\n",
       "      <td>...</td>\n",
       "      <td>...</td>\n",
       "      <td>...</td>\n",
       "      <td>...</td>\n",
       "    </tr>\n",
       "    <tr>\n",
       "      <th>789263931260882944.0</th>\n",
       "      <td>0</td>\n",
       "      <td>RT @sageboggs: I miss the window in this elect...</td>\n",
       "      <td>1.00000000000000000000e+00</td>\n",
       "      <td>1.20102722266312210397e-55</td>\n",
       "      <td>0</td>\n",
       "    </tr>\n",
       "    <tr>\n",
       "      <th>789407616946479104.0</th>\n",
       "      <td>0</td>\n",
       "      <td>RT @QuentinKidd: Women, NOVA, coll educ whites...</td>\n",
       "      <td>1.00000000000000000000e+00</td>\n",
       "      <td>1.04235164051533142933e-25</td>\n",
       "      <td>0</td>\n",
       "    </tr>\n",
       "    <tr>\n",
       "      <th>1325414016324259840.0</th>\n",
       "      <td>1</td>\n",
       "      <td>That Time When Joe Biden Bragged About Voter F...</td>\n",
       "      <td>2.22694349548039555731e-49</td>\n",
       "      <td>1.00000000000000000000e+00</td>\n",
       "      <td>1</td>\n",
       "    </tr>\n",
       "    <tr>\n",
       "      <th>789320732803211264.0</th>\n",
       "      <td>0</td>\n",
       "      <td>RT @acompton44: Another accuser steps forward ...</td>\n",
       "      <td>1.00000000000000000000e+00</td>\n",
       "      <td>2.33987548247453040860e-40</td>\n",
       "      <td>0</td>\n",
       "    </tr>\n",
       "    <tr>\n",
       "      <th>789302561127866368.0</th>\n",
       "      <td>0</td>\n",
       "      <td>RT @ANOMALY1: \"2 THE BRAVEST WOMAN I KNOW\"Form...</td>\n",
       "      <td>1.00000000000000000000e+00</td>\n",
       "      <td>1.92417625537634720498e-44</td>\n",
       "      <td>0</td>\n",
       "    </tr>\n",
       "  </tbody>\n",
       "</table>\n",
       "<p>18314 rows × 5 columns</p>\n",
       "</div>"
      ],
      "text/plain": [
       "                       target  \\\n",
       "tweet_id                        \n",
       "789335093949050880.0        0   \n",
       "789331811981664256.0        0   \n",
       "1329829814249922560.0       1   \n",
       "789286228856274944.0        0   \n",
       "1324622713193865216.0       1   \n",
       "...                       ...   \n",
       "789263931260882944.0        0   \n",
       "789407616946479104.0        0   \n",
       "1325414016324259840.0       1   \n",
       "789320732803211264.0        0   \n",
       "789302561127866368.0        0   \n",
       "\n",
       "                                                              tweet_text  \\\n",
       "tweet_id                                                                   \n",
       "789335093949050880.0   US-Wahl kompakt: Trump wird bei Benefiz-Dinner...   \n",
       "789331811981664256.0   RT @ObamaMalik: Trump family loves all people ...   \n",
       "1329829814249922560.0  @Timodc @BillKristol @Nate_Cohn @RVAT2020 I’m ...   \n",
       "789286228856274944.0   How Trump Will Create More ‘Bad Hombres’: The ...   \n",
       "1324622713193865216.0  While evidence of VOTER FRAUD is coming in, th...   \n",
       "...                                                                  ...   \n",
       "789263931260882944.0   RT @sageboggs: I miss the window in this elect...   \n",
       "789407616946479104.0   RT @QuentinKidd: Women, NOVA, coll educ whites...   \n",
       "1325414016324259840.0  That Time When Joe Biden Bragged About Voter F...   \n",
       "789320732803211264.0   RT @acompton44: Another accuser steps forward ...   \n",
       "789302561127866368.0   RT @ANOMALY1: \"2 THE BRAVEST WOMAN I KNOW\"Form...   \n",
       "\n",
       "                                             pred0  \\\n",
       "tweet_id                                             \n",
       "789335093949050880.0    1.00000000000000000000e+00   \n",
       "789331811981664256.0    1.00000000000000000000e+00   \n",
       "1329829814249922560.0  1.55145822407455187937e-204   \n",
       "789286228856274944.0    9.99999999986755483405e-01   \n",
       "1324622713193865216.0  4.47245925006609331101e-126   \n",
       "...                                            ...   \n",
       "789263931260882944.0    1.00000000000000000000e+00   \n",
       "789407616946479104.0    1.00000000000000000000e+00   \n",
       "1325414016324259840.0   2.22694349548039555731e-49   \n",
       "789320732803211264.0    1.00000000000000000000e+00   \n",
       "789302561127866368.0    1.00000000000000000000e+00   \n",
       "\n",
       "                                            pred1  pred  \n",
       "tweet_id                                                 \n",
       "789335093949050880.0   1.23422569226399562225e-14     0  \n",
       "789331811981664256.0   1.82132828108059110733e-47     0  \n",
       "1329829814249922560.0  1.00000000000000000000e+00     1  \n",
       "789286228856274944.0   1.32377405362839887649e-11     0  \n",
       "1324622713193865216.0  1.00000000000000000000e+00     1  \n",
       "...                                           ...   ...  \n",
       "789263931260882944.0   1.20102722266312210397e-55     0  \n",
       "789407616946479104.0   1.04235164051533142933e-25     0  \n",
       "1325414016324259840.0  1.00000000000000000000e+00     1  \n",
       "789320732803211264.0   2.33987548247453040860e-40     0  \n",
       "789302561127866368.0   1.92417625537634720498e-44     0  \n",
       "\n",
       "[18314 rows x 5 columns]"
      ]
     },
     "execution_count": 178,
     "metadata": {},
     "output_type": "execute_result"
    }
   ],
   "source": [
    "results_df"
   ]
  },
  {
   "cell_type": "code",
   "execution_count": 180,
   "metadata": {},
   "outputs": [],
   "source": [
    "errors_df = results_df[results_df['target'] != results_df['pred']]  "
   ]
  },
  {
   "cell_type": "code",
   "execution_count": 181,
   "metadata": {},
   "outputs": [
    {
     "data": {
      "text/html": [
       "<div>\n",
       "<style scoped>\n",
       "    .dataframe tbody tr th:only-of-type {\n",
       "        vertical-align: middle;\n",
       "    }\n",
       "\n",
       "    .dataframe tbody tr th {\n",
       "        vertical-align: top;\n",
       "    }\n",
       "\n",
       "    .dataframe thead th {\n",
       "        text-align: right;\n",
       "    }\n",
       "</style>\n",
       "<table border=\"1\" class=\"dataframe\">\n",
       "  <thead>\n",
       "    <tr style=\"text-align: right;\">\n",
       "      <th></th>\n",
       "      <th>target</th>\n",
       "      <th>tweet_text</th>\n",
       "      <th>pred0</th>\n",
       "      <th>pred1</th>\n",
       "      <th>pred</th>\n",
       "    </tr>\n",
       "    <tr>\n",
       "      <th>tweet_id</th>\n",
       "      <th></th>\n",
       "      <th></th>\n",
       "      <th></th>\n",
       "      <th></th>\n",
       "      <th></th>\n",
       "    </tr>\n",
       "  </thead>\n",
       "  <tbody>\n",
       "    <tr>\n",
       "      <th>789288703688642560.0</th>\n",
       "      <td>0</td>\n",
       "      <td>. https://t.co/V0eKM7zWNw</td>\n",
       "      <td>0.39830730866328240003</td>\n",
       "      <td>0.60169269133671843264</td>\n",
       "      <td>1</td>\n",
       "    </tr>\n",
       "    <tr>\n",
       "      <th>789402586981904384.0</th>\n",
       "      <td>0</td>\n",
       "      <td>@TylerPreston20 https://t.co/dGCIXnIhah</td>\n",
       "      <td>0.39830730866328240003</td>\n",
       "      <td>0.60169269133671843264</td>\n",
       "      <td>1</td>\n",
       "    </tr>\n",
       "    <tr>\n",
       "      <th>1329464227724210176.0</th>\n",
       "      <td>1</td>\n",
       "      <td>#Truth https://t.co/SZgFbPbjW2</td>\n",
       "      <td>0.95192177279264833523</td>\n",
       "      <td>0.04807822720734933331</td>\n",
       "      <td>0</td>\n",
       "    </tr>\n",
       "    <tr>\n",
       "      <th>1332402029571026944.0</th>\n",
       "      <td>1</td>\n",
       "      <td>@TherapyWestside @KamalaHarris @Official_tyler...</td>\n",
       "      <td>0.99999964134355712186</td>\n",
       "      <td>0.00000035865649504136</td>\n",
       "      <td>0</td>\n",
       "    </tr>\n",
       "    <tr>\n",
       "      <th>789361634556776448.0</th>\n",
       "      <td>0</td>\n",
       "      <td>@BonnieLustsYou the insanity going on. I'm hor...</td>\n",
       "      <td>0.25827345285167840894</td>\n",
       "      <td>0.74172654714832875200</td>\n",
       "      <td>1</td>\n",
       "    </tr>\n",
       "    <tr>\n",
       "      <th>...</th>\n",
       "      <td>...</td>\n",
       "      <td>...</td>\n",
       "      <td>...</td>\n",
       "      <td>...</td>\n",
       "      <td>...</td>\n",
       "    </tr>\n",
       "    <tr>\n",
       "      <th>789312001805848576.0</th>\n",
       "      <td>0</td>\n",
       "      <td>Rigged? https://t.co/QgjyFNlUOf</td>\n",
       "      <td>0.27181145444423265856</td>\n",
       "      <td>0.72818854555576728593</td>\n",
       "      <td>1</td>\n",
       "    </tr>\n",
       "    <tr>\n",
       "      <th>789304118292557824.0</th>\n",
       "      <td>0</td>\n",
       "      <td>https://t.co/nZV5cct97i</td>\n",
       "      <td>0.39830730866328240003</td>\n",
       "      <td>0.60169269133671843264</td>\n",
       "      <td>1</td>\n",
       "    </tr>\n",
       "    <tr>\n",
       "      <th>1329184443022512128.0</th>\n",
       "      <td>1</td>\n",
       "      <td>@Squirrels_Mama Floyd County, GA Why in the wo...</td>\n",
       "      <td>0.99999992558236094897</td>\n",
       "      <td>0.00000007441766031495</td>\n",
       "      <td>0</td>\n",
       "    </tr>\n",
       "    <tr>\n",
       "      <th>789304276820426752.0</th>\n",
       "      <td>0</td>\n",
       "      <td>面白いサイトを見つけた。大統領選はまだわからない。投票率が下がればトランプが勝つかも。htt...</td>\n",
       "      <td>0.39830730866328240003</td>\n",
       "      <td>0.60169269133671843264</td>\n",
       "      <td>1</td>\n",
       "    </tr>\n",
       "    <tr>\n",
       "      <th>789313966212284416.0</th>\n",
       "      <td>0</td>\n",
       "      <td>🔥🔥🔥 https://t.co/L93N4nUoz3</td>\n",
       "      <td>0.39830730866328240003</td>\n",
       "      <td>0.60169269133671843264</td>\n",
       "      <td>1</td>\n",
       "    </tr>\n",
       "  </tbody>\n",
       "</table>\n",
       "<p>227 rows × 5 columns</p>\n",
       "</div>"
      ],
      "text/plain": [
       "                       target  \\\n",
       "tweet_id                        \n",
       "789288703688642560.0        0   \n",
       "789402586981904384.0        0   \n",
       "1329464227724210176.0       1   \n",
       "1332402029571026944.0       1   \n",
       "789361634556776448.0        0   \n",
       "...                       ...   \n",
       "789312001805848576.0        0   \n",
       "789304118292557824.0        0   \n",
       "1329184443022512128.0       1   \n",
       "789304276820426752.0        0   \n",
       "789313966212284416.0        0   \n",
       "\n",
       "                                                              tweet_text  \\\n",
       "tweet_id                                                                   \n",
       "789288703688642560.0                           . https://t.co/V0eKM7zWNw   \n",
       "789402586981904384.0             @TylerPreston20 https://t.co/dGCIXnIhah   \n",
       "1329464227724210176.0                     #Truth https://t.co/SZgFbPbjW2   \n",
       "1332402029571026944.0  @TherapyWestside @KamalaHarris @Official_tyler...   \n",
       "789361634556776448.0   @BonnieLustsYou the insanity going on. I'm hor...   \n",
       "...                                                                  ...   \n",
       "789312001805848576.0                     Rigged? https://t.co/QgjyFNlUOf   \n",
       "789304118292557824.0                             https://t.co/nZV5cct97i   \n",
       "1329184443022512128.0  @Squirrels_Mama Floyd County, GA Why in the wo...   \n",
       "789304276820426752.0   面白いサイトを見つけた。大統領選はまだわからない。投票率が下がればトランプが勝つかも。htt...   \n",
       "789313966212284416.0                         🔥🔥🔥 https://t.co/L93N4nUoz3   \n",
       "\n",
       "                                        pred0                   pred1  pred  \n",
       "tweet_id                                                                     \n",
       "789288703688642560.0   0.39830730866328240003  0.60169269133671843264     1  \n",
       "789402586981904384.0   0.39830730866328240003  0.60169269133671843264     1  \n",
       "1329464227724210176.0  0.95192177279264833523  0.04807822720734933331     0  \n",
       "1332402029571026944.0  0.99999964134355712186  0.00000035865649504136     0  \n",
       "789361634556776448.0   0.25827345285167840894  0.74172654714832875200     1  \n",
       "...                                       ...                     ...   ...  \n",
       "789312001805848576.0   0.27181145444423265856  0.72818854555576728593     1  \n",
       "789304118292557824.0   0.39830730866328240003  0.60169269133671843264     1  \n",
       "1329184443022512128.0  0.99999992558236094897  0.00000007441766031495     0  \n",
       "789304276820426752.0   0.39830730866328240003  0.60169269133671843264     1  \n",
       "789313966212284416.0   0.39830730866328240003  0.60169269133671843264     1  \n",
       "\n",
       "[227 rows x 5 columns]"
      ]
     },
     "execution_count": 181,
     "metadata": {},
     "output_type": "execute_result"
    }
   ],
   "source": [
    "errors_df"
   ]
  },
  {
   "cell_type": "code",
   "execution_count": 182,
   "metadata": {
    "scrolled": false
   },
   "outputs": [
    {
     "data": {
      "text/html": [
       "<div>\n",
       "<style scoped>\n",
       "    .dataframe tbody tr th:only-of-type {\n",
       "        vertical-align: middle;\n",
       "    }\n",
       "\n",
       "    .dataframe tbody tr th {\n",
       "        vertical-align: top;\n",
       "    }\n",
       "\n",
       "    .dataframe thead th {\n",
       "        text-align: right;\n",
       "    }\n",
       "</style>\n",
       "<table border=\"1\" class=\"dataframe\">\n",
       "  <thead>\n",
       "    <tr style=\"text-align: right;\">\n",
       "      <th></th>\n",
       "      <th>target</th>\n",
       "      <th>tweet_text</th>\n",
       "      <th>pred0</th>\n",
       "      <th>pred1</th>\n",
       "      <th>pred</th>\n",
       "    </tr>\n",
       "    <tr>\n",
       "      <th>tweet_id</th>\n",
       "      <th></th>\n",
       "      <th></th>\n",
       "      <th></th>\n",
       "      <th></th>\n",
       "      <th></th>\n",
       "    </tr>\n",
       "  </thead>\n",
       "  <tbody>\n",
       "    <tr>\n",
       "      <th>1329464227724210176.0</th>\n",
       "      <td>1</td>\n",
       "      <td>#Truth https://t.co/SZgFbPbjW2</td>\n",
       "      <td>0.95192177279264833523</td>\n",
       "      <td>4.80782272073493333053e-02</td>\n",
       "      <td>0</td>\n",
       "    </tr>\n",
       "    <tr>\n",
       "      <th>1332402029571026944.0</th>\n",
       "      <td>1</td>\n",
       "      <td>@TherapyWestside @KamalaHarris @Official_tyler...</td>\n",
       "      <td>0.99999964134355712186</td>\n",
       "      <td>3.58656495041359455364e-07</td>\n",
       "      <td>0</td>\n",
       "    </tr>\n",
       "    <tr>\n",
       "      <th>1325831415200669696.0</th>\n",
       "      <td>1</td>\n",
       "      <td>Right on, my brother. We were warned way in ad...</td>\n",
       "      <td>1.00000000000000000000</td>\n",
       "      <td>2.02300991887967407291e-41</td>\n",
       "      <td>0</td>\n",
       "    </tr>\n",
       "    <tr>\n",
       "      <th>1331452446082646016.0</th>\n",
       "      <td>1</td>\n",
       "      <td>Please Release the KRAKEN Already!!! https://t...</td>\n",
       "      <td>0.84991229895819730977</td>\n",
       "      <td>1.50087701041809684632e-01</td>\n",
       "      <td>0</td>\n",
       "    </tr>\n",
       "    <tr>\n",
       "      <th>1330631238495956992.0</th>\n",
       "      <td>1</td>\n",
       "      <td>Rt https://t.co/jqsyAP78M0</td>\n",
       "      <td>0.99991576931095116354</td>\n",
       "      <td>8.42306890476770143278e-05</td>\n",
       "      <td>0</td>\n",
       "    </tr>\n",
       "    <tr>\n",
       "      <th>...</th>\n",
       "      <td>...</td>\n",
       "      <td>...</td>\n",
       "      <td>...</td>\n",
       "      <td>...</td>\n",
       "      <td>...</td>\n",
       "    </tr>\n",
       "    <tr>\n",
       "      <th>1324143228363415552.0</th>\n",
       "      <td>1</td>\n",
       "      <td>Here's an interesting take. Didn't think about...</td>\n",
       "      <td>0.99999955394683581744</td>\n",
       "      <td>4.46053184018505350188e-07</td>\n",
       "      <td>0</td>\n",
       "    </tr>\n",
       "    <tr>\n",
       "      <th>1329541189478064128.0</th>\n",
       "      <td>1</td>\n",
       "      <td>There should be an independent forensic ballot...</td>\n",
       "      <td>0.96189330363838032589</td>\n",
       "      <td>3.81066963616457365926e-02</td>\n",
       "      <td>0</td>\n",
       "    </tr>\n",
       "    <tr>\n",
       "      <th>1324601076352385024.0</th>\n",
       "      <td>1</td>\n",
       "      <td>.@realDonaldTrump @FLOTUS @VP @EricTrump @Ivan...</td>\n",
       "      <td>0.99999998171529136393</td>\n",
       "      <td>1.82847059656475169239e-08</td>\n",
       "      <td>0</td>\n",
       "    </tr>\n",
       "    <tr>\n",
       "      <th>1324169557074849792.0</th>\n",
       "      <td>1</td>\n",
       "      <td>ELECTION FRAUD UPDATE: Veritas to release BOMB...</td>\n",
       "      <td>0.99966354433188886475</td>\n",
       "      <td>3.36455668121657868949e-04</td>\n",
       "      <td>0</td>\n",
       "    </tr>\n",
       "    <tr>\n",
       "      <th>1329184443022512128.0</th>\n",
       "      <td>1</td>\n",
       "      <td>@Squirrels_Mama Floyd County, GA Why in the wo...</td>\n",
       "      <td>0.99999992558236094897</td>\n",
       "      <td>7.44176603149536463470e-08</td>\n",
       "      <td>0</td>\n",
       "    </tr>\n",
       "  </tbody>\n",
       "</table>\n",
       "<p>75 rows × 5 columns</p>\n",
       "</div>"
      ],
      "text/plain": [
       "                       target  \\\n",
       "tweet_id                        \n",
       "1329464227724210176.0       1   \n",
       "1332402029571026944.0       1   \n",
       "1325831415200669696.0       1   \n",
       "1331452446082646016.0       1   \n",
       "1330631238495956992.0       1   \n",
       "...                       ...   \n",
       "1324143228363415552.0       1   \n",
       "1329541189478064128.0       1   \n",
       "1324601076352385024.0       1   \n",
       "1324169557074849792.0       1   \n",
       "1329184443022512128.0       1   \n",
       "\n",
       "                                                              tweet_text  \\\n",
       "tweet_id                                                                   \n",
       "1329464227724210176.0                     #Truth https://t.co/SZgFbPbjW2   \n",
       "1332402029571026944.0  @TherapyWestside @KamalaHarris @Official_tyler...   \n",
       "1325831415200669696.0  Right on, my brother. We were warned way in ad...   \n",
       "1331452446082646016.0  Please Release the KRAKEN Already!!! https://t...   \n",
       "1330631238495956992.0                         Rt https://t.co/jqsyAP78M0   \n",
       "...                                                                  ...   \n",
       "1324143228363415552.0  Here's an interesting take. Didn't think about...   \n",
       "1329541189478064128.0  There should be an independent forensic ballot...   \n",
       "1324601076352385024.0  .@realDonaldTrump @FLOTUS @VP @EricTrump @Ivan...   \n",
       "1324169557074849792.0  ELECTION FRAUD UPDATE: Veritas to release BOMB...   \n",
       "1329184443022512128.0  @Squirrels_Mama Floyd County, GA Why in the wo...   \n",
       "\n",
       "                                        pred0                       pred1  \\\n",
       "tweet_id                                                                    \n",
       "1329464227724210176.0  0.95192177279264833523  4.80782272073493333053e-02   \n",
       "1332402029571026944.0  0.99999964134355712186  3.58656495041359455364e-07   \n",
       "1325831415200669696.0  1.00000000000000000000  2.02300991887967407291e-41   \n",
       "1331452446082646016.0  0.84991229895819730977  1.50087701041809684632e-01   \n",
       "1330631238495956992.0  0.99991576931095116354  8.42306890476770143278e-05   \n",
       "...                                       ...                         ...   \n",
       "1324143228363415552.0  0.99999955394683581744  4.46053184018505350188e-07   \n",
       "1329541189478064128.0  0.96189330363838032589  3.81066963616457365926e-02   \n",
       "1324601076352385024.0  0.99999998171529136393  1.82847059656475169239e-08   \n",
       "1324169557074849792.0  0.99966354433188886475  3.36455668121657868949e-04   \n",
       "1329184443022512128.0  0.99999992558236094897  7.44176603149536463470e-08   \n",
       "\n",
       "                       pred  \n",
       "tweet_id                     \n",
       "1329464227724210176.0     0  \n",
       "1332402029571026944.0     0  \n",
       "1325831415200669696.0     0  \n",
       "1331452446082646016.0     0  \n",
       "1330631238495956992.0     0  \n",
       "...                     ...  \n",
       "1324143228363415552.0     0  \n",
       "1329541189478064128.0     0  \n",
       "1324601076352385024.0     0  \n",
       "1324169557074849792.0     0  \n",
       "1329184443022512128.0     0  \n",
       "\n",
       "[75 rows x 5 columns]"
      ]
     },
     "execution_count": 182,
     "metadata": {},
     "output_type": "execute_result"
    }
   ],
   "source": [
    "false_neg_df = errors_df[errors_df['target'] == 1]\n",
    "false_neg_df"
   ]
  },
  {
   "cell_type": "code",
   "execution_count": 195,
   "metadata": {
    "scrolled": true
   },
   "outputs": [
    {
     "name": "stderr",
     "output_type": "stream",
     "text": [
      "<ipython-input-195-11fab79e3136>:1: SettingWithCopyWarning: \n",
      "A value is trying to be set on a copy of a slice from a DataFrame\n",
      "\n",
      "See the caveats in the documentation: https://pandas.pydata.org/pandas-docs/stable/user_guide/indexing.html#returning-a-view-versus-a-copy\n",
      "  false_neg_df.sort_values(by = 'pred1', inplace = True)\n"
     ]
    },
    {
     "data": {
      "text/html": [
       "<div>\n",
       "<style scoped>\n",
       "    .dataframe tbody tr th:only-of-type {\n",
       "        vertical-align: middle;\n",
       "    }\n",
       "\n",
       "    .dataframe tbody tr th {\n",
       "        vertical-align: top;\n",
       "    }\n",
       "\n",
       "    .dataframe thead th {\n",
       "        text-align: right;\n",
       "    }\n",
       "</style>\n",
       "<table border=\"1\" class=\"dataframe\">\n",
       "  <thead>\n",
       "    <tr style=\"text-align: right;\">\n",
       "      <th></th>\n",
       "      <th>target</th>\n",
       "      <th>tweet_text</th>\n",
       "      <th>pred0</th>\n",
       "      <th>pred1</th>\n",
       "      <th>pred</th>\n",
       "    </tr>\n",
       "    <tr>\n",
       "      <th>tweet_id</th>\n",
       "      <th></th>\n",
       "      <th></th>\n",
       "      <th></th>\n",
       "      <th></th>\n",
       "      <th></th>\n",
       "    </tr>\n",
       "  </thead>\n",
       "  <tbody>\n",
       "    <tr>\n",
       "      <th>1325831415200669696.0</th>\n",
       "      <td>1</td>\n",
       "      <td>Right on, my brother. We were warned way in ad...</td>\n",
       "      <td>1.00000000000000000000</td>\n",
       "      <td>2.02300991887967407291e-41</td>\n",
       "      <td>0</td>\n",
       "    </tr>\n",
       "    <tr>\n",
       "      <th>1333178921517338624.0</th>\n",
       "      <td>1</td>\n",
       "      <td>Lame steam media cares more about the flavor o...</td>\n",
       "      <td>1.00000000000000000000</td>\n",
       "      <td>9.98018622390543646948e-17</td>\n",
       "      <td>0</td>\n",
       "    </tr>\n",
       "    <tr>\n",
       "      <th>1325344582327005184.0</th>\n",
       "      <td>1</td>\n",
       "      <td>No way! Media control very real! We want to he...</td>\n",
       "      <td>1.00000000000000000000</td>\n",
       "      <td>4.21375156696182765331e-15</td>\n",
       "      <td>0</td>\n",
       "    </tr>\n",
       "    <tr>\n",
       "      <th>1325908821252960256.0</th>\n",
       "      <td>1</td>\n",
       "      <td>@SebGorka @AndrewCMcCarthy I have heard (you) ...</td>\n",
       "      <td>1.00000000000000000000</td>\n",
       "      <td>6.96132921902966795324e-15</td>\n",
       "      <td>0</td>\n",
       "    </tr>\n",
       "    <tr>\n",
       "      <th>1324604103750799360.0</th>\n",
       "      <td>1</td>\n",
       "      <td>I have no evidence for fraud. But that's not m...</td>\n",
       "      <td>0.99999999999965893949</td>\n",
       "      <td>3.78670216745135193458e-13</td>\n",
       "      <td>0</td>\n",
       "    </tr>\n",
       "    <tr>\n",
       "      <th>...</th>\n",
       "      <td>...</td>\n",
       "      <td>...</td>\n",
       "      <td>...</td>\n",
       "      <td>...</td>\n",
       "      <td>...</td>\n",
       "    </tr>\n",
       "    <tr>\n",
       "      <th>1326967884262752256.0</th>\n",
       "      <td>1</td>\n",
       "      <td>@seanhannity We \"THE PEOPLE\" MUST FIND THE TRU...</td>\n",
       "      <td>0.91420184921999447791</td>\n",
       "      <td>8.57981507799962933580e-02</td>\n",
       "      <td>0</td>\n",
       "    </tr>\n",
       "    <tr>\n",
       "      <th>1331452446082646016.0</th>\n",
       "      <td>1</td>\n",
       "      <td>Please Release the KRAKEN Already!!! https://t...</td>\n",
       "      <td>0.84991229895819730977</td>\n",
       "      <td>1.50087701041809684632e-01</td>\n",
       "      <td>0</td>\n",
       "    </tr>\n",
       "    <tr>\n",
       "      <th>1326504284523962368.0</th>\n",
       "      <td>1</td>\n",
       "      <td>@CLewandowski_ @findtruthalways https://t.co/4...</td>\n",
       "      <td>0.76283769565345871388</td>\n",
       "      <td>2.37162304346541480404e-01</td>\n",
       "      <td>0</td>\n",
       "    </tr>\n",
       "    <tr>\n",
       "      <th>1328473091165470720.0</th>\n",
       "      <td>1</td>\n",
       "      <td>Part 2... https://t.co/KOMr24UPbC</td>\n",
       "      <td>0.72831543305423851464</td>\n",
       "      <td>2.71684566945765093582e-01</td>\n",
       "      <td>0</td>\n",
       "    </tr>\n",
       "    <tr>\n",
       "      <th>1328321300717309952.0</th>\n",
       "      <td>1</td>\n",
       "      <td>Ruh roh. https://t.co/B8cYGkhSWC</td>\n",
       "      <td>0.64764072126972060950</td>\n",
       "      <td>3.52359278730277891700e-01</td>\n",
       "      <td>0</td>\n",
       "    </tr>\n",
       "  </tbody>\n",
       "</table>\n",
       "<p>75 rows × 5 columns</p>\n",
       "</div>"
      ],
      "text/plain": [
       "                       target  \\\n",
       "tweet_id                        \n",
       "1325831415200669696.0       1   \n",
       "1333178921517338624.0       1   \n",
       "1325344582327005184.0       1   \n",
       "1325908821252960256.0       1   \n",
       "1324604103750799360.0       1   \n",
       "...                       ...   \n",
       "1326967884262752256.0       1   \n",
       "1331452446082646016.0       1   \n",
       "1326504284523962368.0       1   \n",
       "1328473091165470720.0       1   \n",
       "1328321300717309952.0       1   \n",
       "\n",
       "                                                              tweet_text  \\\n",
       "tweet_id                                                                   \n",
       "1325831415200669696.0  Right on, my brother. We were warned way in ad...   \n",
       "1333178921517338624.0  Lame steam media cares more about the flavor o...   \n",
       "1325344582327005184.0  No way! Media control very real! We want to he...   \n",
       "1325908821252960256.0  @SebGorka @AndrewCMcCarthy I have heard (you) ...   \n",
       "1324604103750799360.0  I have no evidence for fraud. But that's not m...   \n",
       "...                                                                  ...   \n",
       "1326967884262752256.0  @seanhannity We \"THE PEOPLE\" MUST FIND THE TRU...   \n",
       "1331452446082646016.0  Please Release the KRAKEN Already!!! https://t...   \n",
       "1326504284523962368.0  @CLewandowski_ @findtruthalways https://t.co/4...   \n",
       "1328473091165470720.0                  Part 2... https://t.co/KOMr24UPbC   \n",
       "1328321300717309952.0                   Ruh roh. https://t.co/B8cYGkhSWC   \n",
       "\n",
       "                                        pred0                       pred1  \\\n",
       "tweet_id                                                                    \n",
       "1325831415200669696.0  1.00000000000000000000  2.02300991887967407291e-41   \n",
       "1333178921517338624.0  1.00000000000000000000  9.98018622390543646948e-17   \n",
       "1325344582327005184.0  1.00000000000000000000  4.21375156696182765331e-15   \n",
       "1325908821252960256.0  1.00000000000000000000  6.96132921902966795324e-15   \n",
       "1324604103750799360.0  0.99999999999965893949  3.78670216745135193458e-13   \n",
       "...                                       ...                         ...   \n",
       "1326967884262752256.0  0.91420184921999447791  8.57981507799962933580e-02   \n",
       "1331452446082646016.0  0.84991229895819730977  1.50087701041809684632e-01   \n",
       "1326504284523962368.0  0.76283769565345871388  2.37162304346541480404e-01   \n",
       "1328473091165470720.0  0.72831543305423851464  2.71684566945765093582e-01   \n",
       "1328321300717309952.0  0.64764072126972060950  3.52359278730277891700e-01   \n",
       "\n",
       "                       pred  \n",
       "tweet_id                     \n",
       "1325831415200669696.0     0  \n",
       "1333178921517338624.0     0  \n",
       "1325344582327005184.0     0  \n",
       "1325908821252960256.0     0  \n",
       "1324604103750799360.0     0  \n",
       "...                     ...  \n",
       "1326967884262752256.0     0  \n",
       "1331452446082646016.0     0  \n",
       "1326504284523962368.0     0  \n",
       "1328473091165470720.0     0  \n",
       "1328321300717309952.0     0  \n",
       "\n",
       "[75 rows x 5 columns]"
      ]
     },
     "execution_count": 195,
     "metadata": {},
     "output_type": "execute_result"
    }
   ],
   "source": [
    "false_neg_df.sort_values(by = 'pred1', inplace = True)\n",
    "\n",
    "false_neg_df"
   ]
  },
  {
   "cell_type": "code",
   "execution_count": 229,
   "metadata": {},
   "outputs": [
    {
     "data": {
      "text/plain": [
       "\"Right on, my brother. We were warned way in advance to expect exactly what they've done. The entire world knows Trump won! I've heard from scores in so many countries, they want a Trump of their own! \\nTrump symbolizes victory over tyranny all over the world.🇺🇸\\n@realDonaldTrump https://t.co/cYYz2gp4xX\""
      ]
     },
     "execution_count": 229,
     "metadata": {},
     "output_type": "execute_result"
    }
   ],
   "source": [
    "most_confident_false_neg = false_neg_df.iloc[0:6].tweet_text.values\n",
    "\n",
    "most_confident_false_neg[0]"
   ]
  },
  {
   "cell_type": "code",
   "execution_count": 211,
   "metadata": {},
   "outputs": [
    {
     "name": "stderr",
     "output_type": "stream",
     "text": [
      "<ipython-input-211-11d4309920cd>:3: SettingWithCopyWarning: \n",
      "A value is trying to be set on a copy of a slice from a DataFrame\n",
      "\n",
      "See the caveats in the documentation: https://pandas.pydata.org/pandas-docs/stable/user_guide/indexing.html#returning-a-view-versus-a-copy\n",
      "  false_pos_df.sort_values(by = 'pred0', inplace = True)\n"
     ]
    },
    {
     "data": {
      "text/html": [
       "<div>\n",
       "<style scoped>\n",
       "    .dataframe tbody tr th:only-of-type {\n",
       "        vertical-align: middle;\n",
       "    }\n",
       "\n",
       "    .dataframe tbody tr th {\n",
       "        vertical-align: top;\n",
       "    }\n",
       "\n",
       "    .dataframe thead th {\n",
       "        text-align: right;\n",
       "    }\n",
       "</style>\n",
       "<table border=\"1\" class=\"dataframe\">\n",
       "  <thead>\n",
       "    <tr style=\"text-align: right;\">\n",
       "      <th></th>\n",
       "      <th>target</th>\n",
       "      <th>tweet_text</th>\n",
       "      <th>pred0</th>\n",
       "      <th>pred1</th>\n",
       "      <th>pred</th>\n",
       "    </tr>\n",
       "    <tr>\n",
       "      <th>tweet_id</th>\n",
       "      <th></th>\n",
       "      <th></th>\n",
       "      <th></th>\n",
       "      <th></th>\n",
       "      <th></th>\n",
       "    </tr>\n",
       "  </thead>\n",
       "  <tbody>\n",
       "    <tr>\n",
       "      <th>789384716650631168.0</th>\n",
       "      <td>0</td>\n",
       "      <td>RT @CBS4Indy: Gov. Pence at Nevada rally: ‘Vot...</td>\n",
       "      <td>0.00000000488364495969</td>\n",
       "      <td>0.99999999511635451199</td>\n",
       "      <td>1</td>\n",
       "    </tr>\n",
       "    <tr>\n",
       "      <th>789338343318388736.0</th>\n",
       "      <td>0</td>\n",
       "      <td>RT @mediumvillain: @DKG3387 @ProgressiveArmy @...</td>\n",
       "      <td>0.00000002438474017854</td>\n",
       "      <td>0.99999997561525366674</td>\n",
       "      <td>1</td>\n",
       "    </tr>\n",
       "    <tr>\n",
       "      <th>789403300500115456.0</th>\n",
       "      <td>0</td>\n",
       "      <td>RT @GOPoversight: .@JudgeNap: The evidence of ...</td>\n",
       "      <td>0.00000720312871481361</td>\n",
       "      <td>0.99999279687127617944</td>\n",
       "      <td>1</td>\n",
       "    </tr>\n",
       "    <tr>\n",
       "      <th>789340031764799488.0</th>\n",
       "      <td>0</td>\n",
       "      <td>RT @FOX59: Governor Mike Pence at rally: ‘Vote...</td>\n",
       "      <td>0.00001071897767902796</td>\n",
       "      <td>0.99998928102233131110</td>\n",
       "      <td>1</td>\n",
       "    </tr>\n",
       "    <tr>\n",
       "      <th>789319533450268672.0</th>\n",
       "      <td>0</td>\n",
       "      <td>RT @MedianPolitics: .@seanhannity @newtgingric...</td>\n",
       "      <td>0.00001724481513318293</td>\n",
       "      <td>0.99998275518486501312</td>\n",
       "      <td>1</td>\n",
       "    </tr>\n",
       "    <tr>\n",
       "      <th>...</th>\n",
       "      <td>...</td>\n",
       "      <td>...</td>\n",
       "      <td>...</td>\n",
       "      <td>...</td>\n",
       "      <td>...</td>\n",
       "    </tr>\n",
       "    <tr>\n",
       "      <th>789275281303404544.0</th>\n",
       "      <td>0</td>\n",
       "      <td>@realDonaldTrump You're a real idiot and will ...</td>\n",
       "      <td>0.42679510753540583767</td>\n",
       "      <td>0.57320489246459815913</td>\n",
       "      <td>1</td>\n",
       "    </tr>\n",
       "    <tr>\n",
       "      <th>789273427358068736.0</th>\n",
       "      <td>0</td>\n",
       "      <td>@realDonaldTrump YOUR WRONG!!!!!</td>\n",
       "      <td>0.44865782629258726955</td>\n",
       "      <td>0.55134217370741511743</td>\n",
       "      <td>1</td>\n",
       "    </tr>\n",
       "    <tr>\n",
       "      <th>789416027570352128.0</th>\n",
       "      <td>0</td>\n",
       "      <td>If a candidate had already \"rigged\" an electio...</td>\n",
       "      <td>0.46105321028686535589</td>\n",
       "      <td>0.53894678971310938653</td>\n",
       "      <td>1</td>\n",
       "    </tr>\n",
       "    <tr>\n",
       "      <th>789281447857295360.0</th>\n",
       "      <td>0</td>\n",
       "      <td>Lord, don't we wish....\\r https://t.co/fFwOp9fafD</td>\n",
       "      <td>0.47206134391910525849</td>\n",
       "      <td>0.52793865608089340924</td>\n",
       "      <td>1</td>\n",
       "    </tr>\n",
       "    <tr>\n",
       "      <th>789350146786127872.0</th>\n",
       "      <td>0</td>\n",
       "      <td>@realDonaldTrump  come back in 2020</td>\n",
       "      <td>0.49753579585410712127</td>\n",
       "      <td>0.50246420414588666148</td>\n",
       "      <td>1</td>\n",
       "    </tr>\n",
       "  </tbody>\n",
       "</table>\n",
       "<p>152 rows × 5 columns</p>\n",
       "</div>"
      ],
      "text/plain": [
       "                      target  \\\n",
       "tweet_id                       \n",
       "789384716650631168.0       0   \n",
       "789338343318388736.0       0   \n",
       "789403300500115456.0       0   \n",
       "789340031764799488.0       0   \n",
       "789319533450268672.0       0   \n",
       "...                      ...   \n",
       "789275281303404544.0       0   \n",
       "789273427358068736.0       0   \n",
       "789416027570352128.0       0   \n",
       "789281447857295360.0       0   \n",
       "789350146786127872.0       0   \n",
       "\n",
       "                                                             tweet_text  \\\n",
       "tweet_id                                                                  \n",
       "789384716650631168.0  RT @CBS4Indy: Gov. Pence at Nevada rally: ‘Vot...   \n",
       "789338343318388736.0  RT @mediumvillain: @DKG3387 @ProgressiveArmy @...   \n",
       "789403300500115456.0  RT @GOPoversight: .@JudgeNap: The evidence of ...   \n",
       "789340031764799488.0  RT @FOX59: Governor Mike Pence at rally: ‘Vote...   \n",
       "789319533450268672.0  RT @MedianPolitics: .@seanhannity @newtgingric...   \n",
       "...                                                                 ...   \n",
       "789275281303404544.0  @realDonaldTrump You're a real idiot and will ...   \n",
       "789273427358068736.0                   @realDonaldTrump YOUR WRONG!!!!!   \n",
       "789416027570352128.0  If a candidate had already \"rigged\" an electio...   \n",
       "789281447857295360.0  Lord, don't we wish....\\r https://t.co/fFwOp9fafD   \n",
       "789350146786127872.0                @realDonaldTrump  come back in 2020   \n",
       "\n",
       "                                       pred0                   pred1  pred  \n",
       "tweet_id                                                                    \n",
       "789384716650631168.0  0.00000000488364495969  0.99999999511635451199     1  \n",
       "789338343318388736.0  0.00000002438474017854  0.99999997561525366674     1  \n",
       "789403300500115456.0  0.00000720312871481361  0.99999279687127617944     1  \n",
       "789340031764799488.0  0.00001071897767902796  0.99998928102233131110     1  \n",
       "789319533450268672.0  0.00001724481513318293  0.99998275518486501312     1  \n",
       "...                                      ...                     ...   ...  \n",
       "789275281303404544.0  0.42679510753540583767  0.57320489246459815913     1  \n",
       "789273427358068736.0  0.44865782629258726955  0.55134217370741511743     1  \n",
       "789416027570352128.0  0.46105321028686535589  0.53894678971310938653     1  \n",
       "789281447857295360.0  0.47206134391910525849  0.52793865608089340924     1  \n",
       "789350146786127872.0  0.49753579585410712127  0.50246420414588666148     1  \n",
       "\n",
       "[152 rows x 5 columns]"
      ]
     },
     "execution_count": 211,
     "metadata": {},
     "output_type": "execute_result"
    }
   ],
   "source": [
    "false_pos_df = errors_df[errors_df['target'] == 0]\n",
    "\n",
    "false_pos_df.sort_values(by = 'pred0', inplace = True)\n",
    "\n",
    "false_pos_df"
   ]
  },
  {
   "cell_type": "code",
   "execution_count": 233,
   "metadata": {},
   "outputs": [
    {
     "data": {
      "text/plain": [
       "\"RT @GOPoversight: .@JudgeNap: The evidence of Sec. Clinton's failure to safeguard state secrets is overwhelming. https://t.co/FvWT4YGx3D\""
      ]
     },
     "execution_count": 233,
     "metadata": {},
     "output_type": "execute_result"
    }
   ],
   "source": [
    "most_confident_false_pos = false_pos_df.iloc[0:5].tweet_text.values\n",
    "least_confident_false_pos = false_pos_df.iloc[-6:-1].tweet_text.values\n",
    "\n",
    "most_confident_false_pos[2]"
   ]
  },
  {
   "cell_type": "code",
   "execution_count": 213,
   "metadata": {},
   "outputs": [],
   "source": [
    "testvec = CountVectorizer()"
   ]
  },
  {
   "cell_type": "code",
   "execution_count": 215,
   "metadata": {},
   "outputs": [
    {
     "data": {
      "text/plain": [
       "CountVectorizer()"
      ]
     },
     "execution_count": 215,
     "metadata": {},
     "output_type": "execute_result"
    }
   ],
   "source": [
    "testvec.fit(false_pos_df.iloc[0:6].tweet_text.values)"
   ]
  },
  {
   "cell_type": "code",
   "execution_count": 217,
   "metadata": {},
   "outputs": [
    {
     "data": {
      "text/plain": [
       "{'rt': 36,\n",
       " 'mediumvillain': 23,\n",
       " 'dkg3387': 8,\n",
       " 'progressivearmy': 33,\n",
       " 'annaleclaire': 0,\n",
       " 'lanorml': 21,\n",
       " 'election': 9,\n",
       " 'fraud': 13,\n",
       " 'dem': 6,\n",
       " 'primary': 32,\n",
       " 'voter': 45,\n",
       " 'rw': 37,\n",
       " 'myth': 25,\n",
       " 'to': 44,\n",
       " 'disenfranchise': 7,\n",
       " 'gopoversight': 15,\n",
       " 'judgenap': 19,\n",
       " 'the': 43,\n",
       " 'evidence': 10,\n",
       " 'of': 28,\n",
       " 'sec': 40,\n",
       " 'clinton': 4,\n",
       " 'failure': 11,\n",
       " 'safeguard': 38,\n",
       " 'state': 42,\n",
       " 'secrets': 41,\n",
       " 'is': 18,\n",
       " 'overwhelming': 30,\n",
       " 'https': 17,\n",
       " 'co': 5,\n",
       " 'fvwt4ygx3d': 14,\n",
       " 'fox59': 12,\n",
       " 'governor': 16,\n",
       " 'mike': 24,\n",
       " 'pence': 31,\n",
       " 'at': 1,\n",
       " 'rally': 34,\n",
       " 'real': 35,\n",
       " 'wtx0inayk2': 46,\n",
       " 'nwtfbrrdns': 27,\n",
       " 'medianpolitics': 22,\n",
       " 'seanhannity': 39,\n",
       " 'newtgingrich': 26,\n",
       " 'knrl0eqgyu': 20,\n",
       " 'bakari_sellers': 2,\n",
       " 'but': 3,\n",
       " 'op9llznovf': 29}"
      ]
     },
     "execution_count": 217,
     "metadata": {},
     "output_type": "execute_result"
    }
   ],
   "source": [
    "testvec.vocabulary_"
   ]
  },
  {
   "cell_type": "code",
   "execution_count": 219,
   "metadata": {},
   "outputs": [
    {
     "data": {
      "text/plain": [
       "array([[0.13638704, 0.86361296]])"
      ]
     },
     "execution_count": 219,
     "metadata": {},
     "output_type": "execute_result"
    }
   ],
   "source": [
    "bestofgrid3.predict_proba(['https://t.co/FvWT4YGx3D'])"
   ]
  },
  {
   "cell_type": "code",
   "execution_count": 220,
   "metadata": {},
   "outputs": [
    {
     "data": {
      "text/plain": [
       "CountVectorizer()"
      ]
     },
     "execution_count": 220,
     "metadata": {},
     "output_type": "execute_result"
    }
   ],
   "source": [
    "testvec.fit(['https://t.co/FvWT4YGx3D'])"
   ]
  },
  {
   "cell_type": "code",
   "execution_count": 221,
   "metadata": {},
   "outputs": [
    {
     "data": {
      "text/plain": [
       "{'https': 2, 'co': 0, 'fvwt4ygx3d': 1}"
      ]
     },
     "execution_count": 221,
     "metadata": {},
     "output_type": "execute_result"
    }
   ],
   "source": [
    "testvec.vocabulary_"
   ]
  },
  {
   "cell_type": "code",
   "execution_count": null,
   "metadata": {},
   "outputs": [],
   "source": [
    "updatedstop = nltk_sw.append(['https', 'co', 'rt'])"
   ]
  },
  {
   "cell_type": "code",
   "execution_count": 226,
   "metadata": {},
   "outputs": [
    {
     "name": "stdout",
     "output_type": "stream",
     "text": [
      "[Pipeline] ................ (step 1 of 2) Processing cv, total=   1.4s\n",
      "[Pipeline] ................ (step 2 of 2) Processing rf, total= 1.6min\n"
     ]
    },
    {
     "data": {
      "text/plain": [
       "Pipeline(steps=[('cv', CountVectorizer()),\n",
       "                ('rf',\n",
       "                 RandomForestClassifier(n_estimators=500, random_state=42))],\n",
       "         verbose=True)"
      ]
     },
     "execution_count": 226,
     "metadata": {},
     "output_type": "execute_result"
    }
   ],
   "source": [
    "new_model = Pipeline(steps=[('cv', CountVectorizer(stop_words = updatedstop)), \n",
    "                            ('rf', RandomForestClassifier(n_estimators = 500, random_state=42))],\n",
    "                            verbose=True)\n",
    "new_model.fit(X_train, y_train)"
   ]
  },
  {
   "cell_type": "code",
   "execution_count": 227,
   "metadata": {},
   "outputs": [
    {
     "name": "stdout",
     "output_type": "stream",
     "text": [
      "[Pipeline] ................ (step 1 of 2) Processing cv, total=   1.1s\n",
      "[Pipeline] ................ (step 2 of 2) Processing rf, total= 1.3min\n",
      "[Pipeline] ................ (step 1 of 2) Processing cv, total=   1.1s\n",
      "[Pipeline] ................ (step 2 of 2) Processing rf, total= 1.2min\n",
      "[Pipeline] ................ (step 1 of 2) Processing cv, total=   1.1s\n",
      "[Pipeline] ................ (step 2 of 2) Processing rf, total= 1.2min\n",
      "[Pipeline] ................ (step 1 of 2) Processing cv, total=   1.1s\n",
      "[Pipeline] ................ (step 2 of 2) Processing rf, total= 1.2min\n",
      "[Pipeline] ................ (step 1 of 2) Processing cv, total=   1.1s\n",
      "[Pipeline] ................ (step 2 of 2) Processing rf, total= 1.2min\n",
      "The cv mean of Random Forest with updates stopwords is 0.9916821676559572\n"
     ]
    }
   ],
   "source": [
    " reportcrossval(new_model, 'Random Forest with updates stopwords', X_train, y_train)"
   ]
  },
  {
   "cell_type": "markdown",
   "metadata": {},
   "source": [
    "In light of this discovery, I am going to rerun my model selection with the new stopwords. To preserve records of the work up to this point I'm going to make a new copy of this notebook for the new exploration, and save this notebook as a record. "
   ]
  }
 ],
 "metadata": {
  "kernelspec": {
   "display_name": "Python (learn-env)",
   "language": "python",
   "name": "learn-env"
  },
  "language_info": {
   "codemirror_mode": {
    "name": "ipython",
    "version": 3
   },
   "file_extension": ".py",
   "mimetype": "text/x-python",
   "name": "python",
   "nbconvert_exporter": "python",
   "pygments_lexer": "ipython3",
   "version": "3.8.5"
  }
 },
 "nbformat": 4,
 "nbformat_minor": 4
}
